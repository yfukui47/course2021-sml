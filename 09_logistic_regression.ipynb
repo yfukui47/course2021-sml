{
  "nbformat": 4,
  "nbformat_minor": 0,
  "metadata": {
    "colab": {
      "name": "09_logistic_regression.ipynb",
      "provenance": [],
      "collapsed_sections": [],
      "mount_file_id": "1UzJefMTp9kO00UjexZM37kCLESMzKGtV",
      "authorship_tag": "ABX9TyM/bYclPyJSeb8/2SROQD5F",
      "include_colab_link": true
    },
    "kernelspec": {
      "name": "python3",
      "display_name": "Python 3"
    }
  },
  "cells": [
    {
      "cell_type": "markdown",
      "metadata": {
        "id": "view-in-github",
        "colab_type": "text"
      },
      "source": [
        "<a href=\"https://colab.research.google.com/github/tomonari-masada/course2021-sml/blob/main/09_logistic_regression.ipynb\" target=\"_parent\"><img src=\"https://colab.research.google.com/assets/colab-badge.svg\" alt=\"Open In Colab\"/></a>"
      ]
    },
    {
      "cell_type": "markdown",
      "metadata": {
        "id": "l4aDsUHDiXoN"
      },
      "source": [
        "# 糖尿病をロジスティック回帰で予測してみる\n",
        "\n",
        "* 有名なPima Indians Diabetes Databaseを使う\n",
        "\n",
        "https://www.kaggle.com/uciml/pima-indians-diabetes-database"
      ]
    },
    {
      "cell_type": "markdown",
      "metadata": {
        "id": "eQ-egZTnizme"
      },
      "source": [
        "## 1) データの読み込み"
      ]
    },
    {
      "cell_type": "code",
      "metadata": {
        "id": "Pd20MbLdBfV5"
      },
      "source": [
        "import numpy as np\n",
        "import pandas as pd\n",
        "import matplotlib.pyplot as plt\n",
        "import seaborn as sns\n",
        "from sklearn.model_selection import train_test_split\n",
        "from sklearn.linear_model import LogisticRegression\n",
        "from sklearn.metrics import roc_auc_score, auc, roc_curve\n",
        "from sklearn.model_selection import StratifiedKFold\n",
        "\n",
        "%config InlineBackend.figure_format = 'retina'"
      ],
      "execution_count": 1,
      "outputs": []
    },
    {
      "cell_type": "code",
      "metadata": {
        "id": "h6Qv7hnyCEjh"
      },
      "source": [
        "diabetes = pd.read_csv('/content/drive/MyDrive/2021Courses/SML/diabetes.csv')"
      ],
      "execution_count": 2,
      "outputs": []
    },
    {
      "cell_type": "code",
      "metadata": {
        "id": "lGFzAgWbCvXT",
        "colab": {
          "base_uri": "https://localhost:8080/",
          "height": 206
        },
        "outputId": "af74728e-adaf-477b-89e7-318824960cdd"
      },
      "source": [
        "diabetes.head()"
      ],
      "execution_count": 3,
      "outputs": [
        {
          "output_type": "execute_result",
          "data": {
            "text/html": [
              "<div>\n",
              "<style scoped>\n",
              "    .dataframe tbody tr th:only-of-type {\n",
              "        vertical-align: middle;\n",
              "    }\n",
              "\n",
              "    .dataframe tbody tr th {\n",
              "        vertical-align: top;\n",
              "    }\n",
              "\n",
              "    .dataframe thead th {\n",
              "        text-align: right;\n",
              "    }\n",
              "</style>\n",
              "<table border=\"1\" class=\"dataframe\">\n",
              "  <thead>\n",
              "    <tr style=\"text-align: right;\">\n",
              "      <th></th>\n",
              "      <th>Pregnancies</th>\n",
              "      <th>Glucose</th>\n",
              "      <th>BloodPressure</th>\n",
              "      <th>SkinThickness</th>\n",
              "      <th>Insulin</th>\n",
              "      <th>BMI</th>\n",
              "      <th>DiabetesPedigreeFunction</th>\n",
              "      <th>Age</th>\n",
              "      <th>Outcome</th>\n",
              "    </tr>\n",
              "  </thead>\n",
              "  <tbody>\n",
              "    <tr>\n",
              "      <th>0</th>\n",
              "      <td>6</td>\n",
              "      <td>148</td>\n",
              "      <td>72</td>\n",
              "      <td>35</td>\n",
              "      <td>0</td>\n",
              "      <td>33.6</td>\n",
              "      <td>0.627</td>\n",
              "      <td>50</td>\n",
              "      <td>1</td>\n",
              "    </tr>\n",
              "    <tr>\n",
              "      <th>1</th>\n",
              "      <td>1</td>\n",
              "      <td>85</td>\n",
              "      <td>66</td>\n",
              "      <td>29</td>\n",
              "      <td>0</td>\n",
              "      <td>26.6</td>\n",
              "      <td>0.351</td>\n",
              "      <td>31</td>\n",
              "      <td>0</td>\n",
              "    </tr>\n",
              "    <tr>\n",
              "      <th>2</th>\n",
              "      <td>8</td>\n",
              "      <td>183</td>\n",
              "      <td>64</td>\n",
              "      <td>0</td>\n",
              "      <td>0</td>\n",
              "      <td>23.3</td>\n",
              "      <td>0.672</td>\n",
              "      <td>32</td>\n",
              "      <td>1</td>\n",
              "    </tr>\n",
              "    <tr>\n",
              "      <th>3</th>\n",
              "      <td>1</td>\n",
              "      <td>89</td>\n",
              "      <td>66</td>\n",
              "      <td>23</td>\n",
              "      <td>94</td>\n",
              "      <td>28.1</td>\n",
              "      <td>0.167</td>\n",
              "      <td>21</td>\n",
              "      <td>0</td>\n",
              "    </tr>\n",
              "    <tr>\n",
              "      <th>4</th>\n",
              "      <td>0</td>\n",
              "      <td>137</td>\n",
              "      <td>40</td>\n",
              "      <td>35</td>\n",
              "      <td>168</td>\n",
              "      <td>43.1</td>\n",
              "      <td>2.288</td>\n",
              "      <td>33</td>\n",
              "      <td>1</td>\n",
              "    </tr>\n",
              "  </tbody>\n",
              "</table>\n",
              "</div>"
            ],
            "text/plain": [
              "   Pregnancies  Glucose  BloodPressure  ...  DiabetesPedigreeFunction  Age  Outcome\n",
              "0            6      148             72  ...                     0.627   50        1\n",
              "1            1       85             66  ...                     0.351   31        0\n",
              "2            8      183             64  ...                     0.672   32        1\n",
              "3            1       89             66  ...                     0.167   21        0\n",
              "4            0      137             40  ...                     2.288   33        1\n",
              "\n",
              "[5 rows x 9 columns]"
            ]
          },
          "metadata": {
            "tags": []
          },
          "execution_count": 3
        }
      ]
    },
    {
      "cell_type": "code",
      "metadata": {
        "id": "HgqyPRukDv80"
      },
      "source": [
        "y = diabetes['Outcome']\n",
        "X = diabetes.drop('Outcome', axis=1)"
      ],
      "execution_count": 4,
      "outputs": []
    },
    {
      "cell_type": "code",
      "metadata": {
        "colab": {
          "base_uri": "https://localhost:8080/"
        },
        "id": "oGUfGCWHnSd3",
        "outputId": "6ea29784-2dbd-46c2-a29b-d3ae4dcbc1b9"
      },
      "source": [
        "X.shape"
      ],
      "execution_count": 5,
      "outputs": [
        {
          "output_type": "execute_result",
          "data": {
            "text/plain": [
              "(768, 8)"
            ]
          },
          "metadata": {
            "tags": []
          },
          "execution_count": 5
        }
      ]
    },
    {
      "cell_type": "code",
      "metadata": {
        "id": "0r5JItJhD8AE",
        "colab": {
          "base_uri": "https://localhost:8080/",
          "height": 300
        },
        "outputId": "5c97595f-2610-4fd4-f2fd-f0e2e3cd0db0"
      },
      "source": [
        "X.describe()"
      ],
      "execution_count": 6,
      "outputs": [
        {
          "output_type": "execute_result",
          "data": {
            "text/html": [
              "<div>\n",
              "<style scoped>\n",
              "    .dataframe tbody tr th:only-of-type {\n",
              "        vertical-align: middle;\n",
              "    }\n",
              "\n",
              "    .dataframe tbody tr th {\n",
              "        vertical-align: top;\n",
              "    }\n",
              "\n",
              "    .dataframe thead th {\n",
              "        text-align: right;\n",
              "    }\n",
              "</style>\n",
              "<table border=\"1\" class=\"dataframe\">\n",
              "  <thead>\n",
              "    <tr style=\"text-align: right;\">\n",
              "      <th></th>\n",
              "      <th>Pregnancies</th>\n",
              "      <th>Glucose</th>\n",
              "      <th>BloodPressure</th>\n",
              "      <th>SkinThickness</th>\n",
              "      <th>Insulin</th>\n",
              "      <th>BMI</th>\n",
              "      <th>DiabetesPedigreeFunction</th>\n",
              "      <th>Age</th>\n",
              "    </tr>\n",
              "  </thead>\n",
              "  <tbody>\n",
              "    <tr>\n",
              "      <th>count</th>\n",
              "      <td>768.000000</td>\n",
              "      <td>768.000000</td>\n",
              "      <td>768.000000</td>\n",
              "      <td>768.000000</td>\n",
              "      <td>768.000000</td>\n",
              "      <td>768.000000</td>\n",
              "      <td>768.000000</td>\n",
              "      <td>768.000000</td>\n",
              "    </tr>\n",
              "    <tr>\n",
              "      <th>mean</th>\n",
              "      <td>3.845052</td>\n",
              "      <td>120.894531</td>\n",
              "      <td>69.105469</td>\n",
              "      <td>20.536458</td>\n",
              "      <td>79.799479</td>\n",
              "      <td>31.992578</td>\n",
              "      <td>0.471876</td>\n",
              "      <td>33.240885</td>\n",
              "    </tr>\n",
              "    <tr>\n",
              "      <th>std</th>\n",
              "      <td>3.369578</td>\n",
              "      <td>31.972618</td>\n",
              "      <td>19.355807</td>\n",
              "      <td>15.952218</td>\n",
              "      <td>115.244002</td>\n",
              "      <td>7.884160</td>\n",
              "      <td>0.331329</td>\n",
              "      <td>11.760232</td>\n",
              "    </tr>\n",
              "    <tr>\n",
              "      <th>min</th>\n",
              "      <td>0.000000</td>\n",
              "      <td>0.000000</td>\n",
              "      <td>0.000000</td>\n",
              "      <td>0.000000</td>\n",
              "      <td>0.000000</td>\n",
              "      <td>0.000000</td>\n",
              "      <td>0.078000</td>\n",
              "      <td>21.000000</td>\n",
              "    </tr>\n",
              "    <tr>\n",
              "      <th>25%</th>\n",
              "      <td>1.000000</td>\n",
              "      <td>99.000000</td>\n",
              "      <td>62.000000</td>\n",
              "      <td>0.000000</td>\n",
              "      <td>0.000000</td>\n",
              "      <td>27.300000</td>\n",
              "      <td>0.243750</td>\n",
              "      <td>24.000000</td>\n",
              "    </tr>\n",
              "    <tr>\n",
              "      <th>50%</th>\n",
              "      <td>3.000000</td>\n",
              "      <td>117.000000</td>\n",
              "      <td>72.000000</td>\n",
              "      <td>23.000000</td>\n",
              "      <td>30.500000</td>\n",
              "      <td>32.000000</td>\n",
              "      <td>0.372500</td>\n",
              "      <td>29.000000</td>\n",
              "    </tr>\n",
              "    <tr>\n",
              "      <th>75%</th>\n",
              "      <td>6.000000</td>\n",
              "      <td>140.250000</td>\n",
              "      <td>80.000000</td>\n",
              "      <td>32.000000</td>\n",
              "      <td>127.250000</td>\n",
              "      <td>36.600000</td>\n",
              "      <td>0.626250</td>\n",
              "      <td>41.000000</td>\n",
              "    </tr>\n",
              "    <tr>\n",
              "      <th>max</th>\n",
              "      <td>17.000000</td>\n",
              "      <td>199.000000</td>\n",
              "      <td>122.000000</td>\n",
              "      <td>99.000000</td>\n",
              "      <td>846.000000</td>\n",
              "      <td>67.100000</td>\n",
              "      <td>2.420000</td>\n",
              "      <td>81.000000</td>\n",
              "    </tr>\n",
              "  </tbody>\n",
              "</table>\n",
              "</div>"
            ],
            "text/plain": [
              "       Pregnancies     Glucose  ...  DiabetesPedigreeFunction         Age\n",
              "count   768.000000  768.000000  ...                768.000000  768.000000\n",
              "mean      3.845052  120.894531  ...                  0.471876   33.240885\n",
              "std       3.369578   31.972618  ...                  0.331329   11.760232\n",
              "min       0.000000    0.000000  ...                  0.078000   21.000000\n",
              "25%       1.000000   99.000000  ...                  0.243750   24.000000\n",
              "50%       3.000000  117.000000  ...                  0.372500   29.000000\n",
              "75%       6.000000  140.250000  ...                  0.626250   41.000000\n",
              "max      17.000000  199.000000  ...                  2.420000   81.000000\n",
              "\n",
              "[8 rows x 8 columns]"
            ]
          },
          "metadata": {
            "tags": []
          },
          "execution_count": 6
        }
      ]
    },
    {
      "cell_type": "markdown",
      "metadata": {
        "id": "E2uJY56bi3Ry"
      },
      "source": [
        "## 2) 訓練データ、テストデータに分割"
      ]
    },
    {
      "cell_type": "markdown",
      "metadata": {
        "id": "J6TDDlZenD3_"
      },
      "source": [
        "* この分割は変えないようにしてください。"
      ]
    },
    {
      "cell_type": "code",
      "metadata": {
        "id": "bLsoxn02B8CR"
      },
      "source": [
        "X_train, X_test, y_train, y_test = train_test_split(X, y, test_size = 0.15, random_state = 123)"
      ],
      "execution_count": 7,
      "outputs": []
    },
    {
      "cell_type": "markdown",
      "metadata": {
        "id": "M_NNgy-Fi839"
      },
      "source": [
        "* 以下、訓練データ部分を使って、交差検証によって良いモデルを探す。\n",
        "\n",
        "---\n",
        "\n"
      ]
    },
    {
      "cell_type": "markdown",
      "metadata": {
        "id": "2BtszzrDdRrj"
      },
      "source": [
        "## 3) デフォルト設定のロジスティック回帰をベースラインとみなしてテストデータでの評価値を得る\n"
      ]
    },
    {
      "cell_type": "code",
      "metadata": {
        "colab": {
          "base_uri": "https://localhost:8080/"
        },
        "id": "ac5I0ruIoSCY",
        "outputId": "6a4ecee9-9e9b-4669-cff5-95133a28c869"
      },
      "source": [
        "logreg_baseline = LogisticRegression(random_state=123)\n",
        "logreg_baseline.fit(X_train, y_train)"
      ],
      "execution_count": 8,
      "outputs": [
        {
          "output_type": "stream",
          "text": [
            "/usr/local/lib/python3.7/dist-packages/sklearn/linear_model/_logistic.py:940: ConvergenceWarning: lbfgs failed to converge (status=1):\n",
            "STOP: TOTAL NO. of ITERATIONS REACHED LIMIT.\n",
            "\n",
            "Increase the number of iterations (max_iter) or scale the data as shown in:\n",
            "    https://scikit-learn.org/stable/modules/preprocessing.html\n",
            "Please also refer to the documentation for alternative solver options:\n",
            "    https://scikit-learn.org/stable/modules/linear_model.html#logistic-regression\n",
            "  extra_warning_msg=_LOGISTIC_SOLVER_CONVERGENCE_MSG)\n"
          ],
          "name": "stderr"
        },
        {
          "output_type": "execute_result",
          "data": {
            "text/plain": [
              "LogisticRegression(C=1.0, class_weight=None, dual=False, fit_intercept=True,\n",
              "                   intercept_scaling=1, l1_ratio=None, max_iter=100,\n",
              "                   multi_class='auto', n_jobs=None, penalty='l2',\n",
              "                   random_state=123, solver='lbfgs', tol=0.0001, verbose=0,\n",
              "                   warm_start=False)"
            ]
          },
          "metadata": {
            "tags": []
          },
          "execution_count": 8
        }
      ]
    },
    {
      "cell_type": "markdown",
      "metadata": {
        "id": "oNGfn66joV2t"
      },
      "source": [
        "* `max_iter`が小さいとの警告が出ているので、増やして訓練し直し。"
      ]
    },
    {
      "cell_type": "code",
      "metadata": {
        "colab": {
          "base_uri": "https://localhost:8080/"
        },
        "id": "ZF1Yyo3NocBr",
        "outputId": "38fb5f62-07f0-43b7-ef89-6e855281b2bd"
      },
      "source": [
        "logreg_baseline = LogisticRegression(max_iter=1000, random_state=123)\n",
        "logreg_baseline.fit(X_train, y_train)"
      ],
      "execution_count": 9,
      "outputs": [
        {
          "output_type": "execute_result",
          "data": {
            "text/plain": [
              "LogisticRegression(C=1.0, class_weight=None, dual=False, fit_intercept=True,\n",
              "                   intercept_scaling=1, l1_ratio=None, max_iter=1000,\n",
              "                   multi_class='auto', n_jobs=None, penalty='l2',\n",
              "                   random_state=123, solver='lbfgs', tol=0.0001, verbose=0,\n",
              "                   warm_start=False)"
            ]
          },
          "metadata": {
            "tags": []
          },
          "execution_count": 9
        }
      ]
    },
    {
      "cell_type": "markdown",
      "metadata": {
        "id": "zfHzwsAxoeiL"
      },
      "source": [
        "* 大丈夫だったので、テストデータでの最終評価値を得る。"
      ]
    },
    {
      "cell_type": "code",
      "metadata": {
        "id": "uEss5itsdJAU",
        "colab": {
          "base_uri": "https://localhost:8080/"
        },
        "outputId": "f4276647-44e1-4e45-9024-9401bde5cb00"
      },
      "source": [
        "print(f'test score: {logreg_baseline.score(X_test, y_test):.4f}')"
      ],
      "execution_count": 10,
      "outputs": [
        {
          "output_type": "stream",
          "text": [
            "test score: 0.8103\n"
          ],
          "name": "stdout"
        }
      ]
    },
    {
      "cell_type": "markdown",
      "metadata": {
        "id": "g93ND4YLrRUe"
      },
      "source": [
        "* Area under ROC curveも計算してみる。\n"
      ]
    },
    {
      "cell_type": "code",
      "metadata": {
        "colab": {
          "base_uri": "https://localhost:8080/"
        },
        "id": "5ufvnV0qrQtI",
        "outputId": "bb4aa055-0ea7-4f69-80e1-e89275b9ad76"
      },
      "source": [
        "y_test_pred_proba = logreg_baseline.predict_proba(X_test)\n",
        "print(f'ROC AUC: {roc_auc_score(y_test, y_test_pred_proba[:,1]):.4f}')"
      ],
      "execution_count": 11,
      "outputs": [
        {
          "output_type": "stream",
          "text": [
            "ROC AUC: 0.8617\n"
          ],
          "name": "stdout"
        }
      ]
    },
    {
      "cell_type": "markdown",
      "metadata": {
        "id": "U_r9hAHttZZq"
      },
      "source": [
        "* ROC curveを描いてみる。\n",
        " * https://scikit-learn.org/stable/auto_examples/model_selection/plot_roc.html#sphx-glr-auto-examples-model-selection-plot-roc-py"
      ]
    },
    {
      "cell_type": "code",
      "metadata": {
        "colab": {
          "base_uri": "https://localhost:8080/",
          "height": 312
        },
        "id": "R8y1Fvlyslb9",
        "outputId": "23e7e6d9-d74d-4338-d0f5-a7d221155753"
      },
      "source": [
        "y_score = logreg_baseline.decision_function(X_test)\n",
        "\n",
        "fpr, tpr, _ = roc_curve(y_test, y_score)\n",
        "roc_auc = auc(fpr, tpr)\n",
        "\n",
        "plt.plot(fpr, tpr, color='darkorange', label=f'ROC curve (area = {roc_auc:.4f})')\n",
        "plt.plot([0, 1], [0, 1], color='navy', linestyle='--')\n",
        "plt.xlim([0.0, 1.0])\n",
        "plt.ylim([0.0, 1.05])\n",
        "plt.xlabel('False Positive Rate')\n",
        "plt.ylabel('True Positive Rate')\n",
        "plt.title('Receiver operating characteristic example')\n",
        "plt.legend(loc=\"lower right\")"
      ],
      "execution_count": 12,
      "outputs": [
        {
          "output_type": "execute_result",
          "data": {
            "text/plain": [
              "<matplotlib.legend.Legend at 0x7fc51cec6550>"
            ]
          },
          "metadata": {
            "tags": []
          },
          "execution_count": 12
        },
        {
          "output_type": "display_data",
          "data": {
            "image/png": "[encoded data removed]",
            "text/plain": [
              "<Figure size 432x288 with 1 Axes>"
            ]
          },
          "metadata": {
            "tags": [],
            "image/png": {
              "width": 393,
              "height": 277
            },
            "needs_background": "light"
          }
        }
      ]
    },
    {
      "cell_type": "markdown",
      "metadata": {
        "id": "sMirEcP0dbaG"
      },
      "source": [
        "* これがベースラインなので、これより良い結果を得るべく、試行錯誤してください。\n",
        "* 試行錯誤した結果として辿り着いたモデルで、最後に一回、テストデータ上での評価を行ってください。"
      ]
    },
    {
      "cell_type": "markdown",
      "metadata": {
        "id": "NFLJ24NNxi0r"
      },
      "source": [
        "* ロジスティック回帰について　scoreがどのように計算されているかの確認\n",
        " * thresholdが0.5である必要は、実は、ない。\n",
        " * thresholdを、交差検証で決定してもよい。"
      ]
    },
    {
      "cell_type": "code",
      "metadata": {
        "colab": {
          "base_uri": "https://localhost:8080/"
        },
        "id": "H7Yjaca4xK7C",
        "outputId": "c6519675-dcaf-4c75-d54e-d058082092b5"
      },
      "source": [
        "((logreg_baseline.predict_proba(X_test) >= 0.5)[:,1] * 1 == y_test).sum() / len(y_test)"
      ],
      "execution_count": 13,
      "outputs": [
        {
          "output_type": "execute_result",
          "data": {
            "text/plain": [
              "0.8103448275862069"
            ]
          },
          "metadata": {
            "tags": []
          },
          "execution_count": 13
        }
      ]
    },
    {
      "cell_type": "markdown",
      "metadata": {
        "id": "VtaI7G6IpDgG"
      },
      "source": [
        "## 4) 交差検証を使って試行錯誤する"
      ]
    },
    {
      "cell_type": "markdown",
      "metadata": {
        "id": "0eSIADnNt1OU"
      },
      "source": [
        "* 元のテストデータを保存しておく。\n",
        " * 後で、訓練データだけから得られる情報を使って、テストデータを変更するため。"
      ]
    },
    {
      "cell_type": "code",
      "metadata": {
        "id": "Sz0bpDyitz53"
      },
      "source": [
        "X_test_original = X_test.copy() "
      ],
      "execution_count": 14,
      "outputs": []
    },
    {
      "cell_type": "markdown",
      "metadata": {
        "id": "Vx322yZLSkTV"
      },
      "source": [
        "### A) 最初に交差検証の準備をしておく"
      ]
    },
    {
      "cell_type": "code",
      "metadata": {
        "id": "2s3rL94SDW3u"
      },
      "source": [
        "skf = StratifiedKFold(n_splits=10, shuffle=True, random_state=123)"
      ],
      "execution_count": 15,
      "outputs": []
    },
    {
      "cell_type": "markdown",
      "metadata": {
        "id": "WK1tqw_yQ0JM"
      },
      "source": [
        "### B) 交差検証による評価のための関数を定義しておく"
      ]
    },
    {
      "cell_type": "code",
      "metadata": {
        "id": "8BdbwVSqDEkH"
      },
      "source": [
        "def cv(skf, X_train, y_train, args={}):\n",
        "  scores = list()\n",
        "  for train_index, valid_index in skf.split(X_train, y_train):\n",
        "\n",
        "    # ロジスティック回帰の学習\n",
        "    if not 'max_iter' in args:\n",
        "      logreg = LogisticRegression(**args, max_iter=1000, random_state=123)\n",
        "    else:\n",
        "      logreg = LogisticRegression(**args, random_state=123)\n",
        "    logreg.fit(X_train.iloc[train_index], y_train.iloc[train_index])\n",
        "\n",
        "    # 検証データでの評価\n",
        "    score = logreg.score(X_train.iloc[valid_index], y_train.iloc[valid_index])\n",
        "    print(f'score: {score:.4f}')\n",
        "    scores.append(score)\n",
        "\n",
        "  print(f'mean score: {np.array(scores).mean():.4f}', end=' ')\n",
        "  print('{', ' '.join([f'\"{str(k):s}\":{str(args[k]):s}' for k in args]), '}')"
      ],
      "execution_count": 16,
      "outputs": []
    },
    {
      "cell_type": "markdown",
      "metadata": {
        "id": "DyJOj1VjRCyb"
      },
      "source": [
        "### C) デフォルト設定のロジスティック回帰の性能を評価する"
      ]
    },
    {
      "cell_type": "code",
      "metadata": {
        "id": "Ybu2HlflEcEH",
        "colab": {
          "base_uri": "https://localhost:8080/"
        },
        "outputId": "ddfb8a6f-175e-40a6-e0ff-b6e85e3d1fc0"
      },
      "source": [
        "cv(skf, X_train, y_train)"
      ],
      "execution_count": 17,
      "outputs": [
        {
          "output_type": "stream",
          "text": [
            "score: 0.8182\n",
            "score: 0.7879\n",
            "score: 0.7385\n",
            "score: 0.7692\n",
            "score: 0.7692\n",
            "score: 0.7538\n",
            "score: 0.7538\n",
            "score: 0.7846\n",
            "score: 0.7231\n",
            "score: 0.7385\n",
            "mean score: 0.7637 {  }\n"
          ],
          "name": "stdout"
        }
      ]
    },
    {
      "cell_type": "markdown",
      "metadata": {
        "id": "QzTgn1PzSYl6"
      },
      "source": [
        "### D) BloodPressureへの対応"
      ]
    },
    {
      "cell_type": "markdown",
      "metadata": {
        "id": "4uGFAoBFp9Q9"
      },
      "source": [
        "* まず、属性「BloodPressure」について、ヒストグラムを描いてよくよく眺める。\n"
      ]
    },
    {
      "cell_type": "code",
      "metadata": {
        "id": "5cv90evwFhjJ",
        "colab": {
          "base_uri": "https://localhost:8080/",
          "height": 352
        },
        "outputId": "6e893edd-207d-46a3-e195-b0d1f4c3f733"
      },
      "source": [
        "sns.distplot(X_train['BloodPressure'])"
      ],
      "execution_count": 18,
      "outputs": [
        {
          "output_type": "stream",
          "text": [
            "/usr/local/lib/python3.7/dist-packages/seaborn/distributions.py:2557: FutureWarning: `distplot` is a deprecated function and will be removed in a future version. Please adapt your code to use either `displot` (a figure-level function with similar flexibility) or `histplot` (an axes-level function for histograms).\n",
            "  warnings.warn(msg, FutureWarning)\n"
          ],
          "name": "stderr"
        },
        {
          "output_type": "execute_result",
          "data": {
            "text/plain": [
              "<matplotlib.axes._subplots.AxesSubplot at 0x7fc51ced2a10>"
            ]
          },
          "metadata": {
            "tags": []
          },
          "execution_count": 18
        },
        {
          "output_type": "display_data",
          "data": {
            "image/png": "[encoded data removed]",
            "text/plain": [
              "<Figure size 432x288 with 1 Axes>"
            ]
          },
          "metadata": {
            "tags": [],
            "image/png": {
              "width": 398,
              "height": 261
            },
            "needs_background": "light"
          }
        }
      ]
    },
    {
      "cell_type": "markdown",
      "metadata": {
        "id": "RPEAoO9CqB9m"
      },
      "source": [
        "* 0という値がけっこうあるらしい。実は、これは欠測値。そこで、中央値で埋めることにする。\n",
        " * この前処理の仕方で正しいという保証はありません。\n"
      ]
    },
    {
      "cell_type": "code",
      "metadata": {
        "id": "ITc026D4JskX",
        "colab": {
          "base_uri": "https://localhost:8080/"
        },
        "outputId": "d579237e-3e40-4385-a919-a4e4b8d2162b"
      },
      "source": [
        "bp_median = np.median(X_train[X_train.BloodPressure != 0]['BloodPressure'])\n",
        "print(f'blood pressure median: {bp_median}')\n",
        "X_train = X_train.replace({'BloodPressure':0}, bp_median)"
      ],
      "execution_count": 19,
      "outputs": [
        {
          "output_type": "stream",
          "text": [
            "blood pressure median: 72.0\n"
          ],
          "name": "stdout"
        }
      ]
    },
    {
      "cell_type": "markdown",
      "metadata": {
        "id": "-H0WloZ1qH_y"
      },
      "source": [
        "* もう一度、ヒストグラムを描く。\n"
      ]
    },
    {
      "cell_type": "code",
      "metadata": {
        "id": "coW1dKi0KlJl",
        "colab": {
          "base_uri": "https://localhost:8080/",
          "height": 352
        },
        "outputId": "f24965e0-4e60-48bd-e697-0ff8659de643"
      },
      "source": [
        "sns.distplot(X_train['BloodPressure'])"
      ],
      "execution_count": 20,
      "outputs": [
        {
          "output_type": "stream",
          "text": [
            "/usr/local/lib/python3.7/dist-packages/seaborn/distributions.py:2557: FutureWarning: `distplot` is a deprecated function and will be removed in a future version. Please adapt your code to use either `displot` (a figure-level function with similar flexibility) or `histplot` (an axes-level function for histograms).\n",
            "  warnings.warn(msg, FutureWarning)\n"
          ],
          "name": "stderr"
        },
        {
          "output_type": "execute_result",
          "data": {
            "text/plain": [
              "<matplotlib.axes._subplots.AxesSubplot at 0x7fc51c6ebad0>"
            ]
          },
          "metadata": {
            "tags": []
          },
          "execution_count": 20
        },
        {
          "output_type": "display_data",
          "data": {
            "image/png": "[encoded data removed]",
            "text/plain": [
              "<Figure size 432x288 with 1 Axes>"
            ]
          },
          "metadata": {
            "tags": [],
            "image/png": {
              "width": 392,
              "height": 261
            },
            "needs_background": "light"
          }
        }
      ]
    },
    {
      "cell_type": "markdown",
      "metadata": {
        "id": "-H_NVFQvqKsb"
      },
      "source": [
        "* test dataの「BloodPressure」の欠測値も、training dataと同じ値で埋める。\n",
        " * この作業は、training dataから得られる情報しか使っていないので、ズルはしていない。\n"
      ]
    },
    {
      "cell_type": "code",
      "metadata": {
        "id": "HaT4Y7MQLTPf"
      },
      "source": [
        "X_test = X_test.replace({'BloodPressure':0}, bp_median)"
      ],
      "execution_count": 21,
      "outputs": []
    },
    {
      "cell_type": "code",
      "metadata": {
        "id": "oOk6Lf19EuXj",
        "colab": {
          "base_uri": "https://localhost:8080/"
        },
        "outputId": "c2dd1c9e-36b8-4b0c-dd10-a9772ba1d9ec"
      },
      "source": [
        "cv(skf, X_train, y_train)"
      ],
      "execution_count": 22,
      "outputs": [
        {
          "output_type": "stream",
          "text": [
            "score: 0.8333\n",
            "score: 0.8182\n",
            "score: 0.7538\n",
            "score: 0.7538\n",
            "score: 0.7692\n",
            "score: 0.7846\n",
            "score: 0.7538\n",
            "score: 0.7846\n",
            "score: 0.7077\n",
            "score: 0.7385\n",
            "mean score: 0.7698 {  }\n"
          ],
          "name": "stdout"
        }
      ]
    },
    {
      "cell_type": "markdown",
      "metadata": {
        "id": "ngfAvLFOS23T"
      },
      "source": [
        "### E) BMIへの対応"
      ]
    },
    {
      "cell_type": "markdown",
      "metadata": {
        "id": "GpRXbEREqcrN"
      },
      "source": [
        "* 次に、training dataの「BMI」のヒストグラムを描いてみる\n"
      ]
    },
    {
      "cell_type": "code",
      "metadata": {
        "id": "wC-DcEmwMQDn",
        "colab": {
          "base_uri": "https://localhost:8080/",
          "height": 352
        },
        "outputId": "49c8b67a-3111-49d0-b13e-10b3c570245e"
      },
      "source": [
        "sns.distplot(X_train['BMI'])"
      ],
      "execution_count": 23,
      "outputs": [
        {
          "output_type": "stream",
          "text": [
            "/usr/local/lib/python3.7/dist-packages/seaborn/distributions.py:2557: FutureWarning: `distplot` is a deprecated function and will be removed in a future version. Please adapt your code to use either `displot` (a figure-level function with similar flexibility) or `histplot` (an axes-level function for histograms).\n",
            "  warnings.warn(msg, FutureWarning)\n"
          ],
          "name": "stderr"
        },
        {
          "output_type": "execute_result",
          "data": {
            "text/plain": [
              "<matplotlib.axes._subplots.AxesSubplot at 0x7fc51c7843d0>"
            ]
          },
          "metadata": {
            "tags": []
          },
          "execution_count": 23
        },
        {
          "output_type": "display_data",
          "data": {
            "image/png": "[encoded data removed]",
            "text/plain": [
              "<Figure size 432x288 with 1 Axes>"
            ]
          },
          "metadata": {
            "tags": [],
            "image/png": {
              "width": 392,
              "height": 261
            },
            "needs_background": "light"
          }
        }
      ]
    },
    {
      "cell_type": "markdown",
      "metadata": {
        "id": "xAxC2NJcqfGb"
      },
      "source": [
        "* やはり欠測値の部分が0とされているようなので、先ほどと同様、中央値で埋める。\n"
      ]
    },
    {
      "cell_type": "code",
      "metadata": {
        "id": "LgKJFIc9pz7n",
        "colab": {
          "base_uri": "https://localhost:8080/",
          "height": 370
        },
        "outputId": "7030f326-18dc-4639-d75e-c56f2e880e86"
      },
      "source": [
        "bmi_median = np.median(X_train[X_train.BMI != 0]['BMI'])\n",
        "print(f'BMI median: {bmi_median}')\n",
        "X_train = X_train.replace({'BMI':0}, bmi_median)\n",
        "sns.distplot(X_train['BMI'])"
      ],
      "execution_count": 24,
      "outputs": [
        {
          "output_type": "stream",
          "text": [
            "BMI median: 32.4\n"
          ],
          "name": "stdout"
        },
        {
          "output_type": "stream",
          "text": [
            "/usr/local/lib/python3.7/dist-packages/seaborn/distributions.py:2557: FutureWarning: `distplot` is a deprecated function and will be removed in a future version. Please adapt your code to use either `displot` (a figure-level function with similar flexibility) or `histplot` (an axes-level function for histograms).\n",
            "  warnings.warn(msg, FutureWarning)\n"
          ],
          "name": "stderr"
        },
        {
          "output_type": "execute_result",
          "data": {
            "text/plain": [
              "<matplotlib.axes._subplots.AxesSubplot at 0x7fc51a4af5d0>"
            ]
          },
          "metadata": {
            "tags": []
          },
          "execution_count": 24
        },
        {
          "output_type": "display_data",
          "data": {
            "image/png": "[encoded data removed]",
            "text/plain": [
              "<Figure size 432x288 with 1 Axes>"
            ]
          },
          "metadata": {
            "tags": [],
            "image/png": {
              "width": 392,
              "height": 261
            },
            "needs_background": "light"
          }
        }
      ]
    },
    {
      "cell_type": "markdown",
      "metadata": {
        "id": "sFQsbhyHqiGQ"
      },
      "source": [
        "* test dataのBMIの欠測値も、同じ値で埋める \n",
        "\n"
      ]
    },
    {
      "cell_type": "code",
      "metadata": {
        "id": "H1htZ8k4KsNW"
      },
      "source": [
        "X_test = X_test.replace({'BMI':0}, bmi_median)"
      ],
      "execution_count": 25,
      "outputs": []
    },
    {
      "cell_type": "code",
      "metadata": {
        "id": "nLkcjQooEz0f",
        "colab": {
          "base_uri": "https://localhost:8080/"
        },
        "outputId": "d98d299f-66a5-487c-f6b4-705dee27b7d7"
      },
      "source": [
        "cv(skf, X_train, y_train)"
      ],
      "execution_count": 26,
      "outputs": [
        {
          "output_type": "stream",
          "text": [
            "score: 0.8333\n",
            "score: 0.8030\n",
            "score: 0.7846\n",
            "score: 0.7538\n",
            "score: 0.7692\n",
            "score: 0.7846\n",
            "score: 0.7538\n",
            "score: 0.7846\n",
            "score: 0.7077\n",
            "score: 0.7385\n",
            "mean score: 0.7713 {  }\n"
          ],
          "name": "stdout"
        }
      ]
    },
    {
      "cell_type": "markdown",
      "metadata": {
        "id": "FRsaNT2iTWXr"
      },
      "source": [
        "### F) Glucoseへの対応"
      ]
    },
    {
      "cell_type": "code",
      "metadata": {
        "id": "XYkYQJSLTKo2",
        "colab": {
          "base_uri": "https://localhost:8080/",
          "height": 356
        },
        "outputId": "694feefc-b2a0-4c67-c776-aa1a21985ef9"
      },
      "source": [
        "sns.distplot(X_train['Glucose'])"
      ],
      "execution_count": 27,
      "outputs": [
        {
          "output_type": "stream",
          "text": [
            "/usr/local/lib/python3.7/dist-packages/seaborn/distributions.py:2557: FutureWarning: `distplot` is a deprecated function and will be removed in a future version. Please adapt your code to use either `displot` (a figure-level function with similar flexibility) or `histplot` (an axes-level function for histograms).\n",
            "  warnings.warn(msg, FutureWarning)\n"
          ],
          "name": "stderr"
        },
        {
          "output_type": "execute_result",
          "data": {
            "text/plain": [
              "<matplotlib.axes._subplots.AxesSubplot at 0x7fc51a445510>"
            ]
          },
          "metadata": {
            "tags": []
          },
          "execution_count": 27
        },
        {
          "output_type": "display_data",
          "data": {
            "image/png": "[encoded data removed]",
            "text/plain": [
              "<Figure size 432x288 with 1 Axes>"
            ]
          },
          "metadata": {
            "tags": [],
            "image/png": {
              "width": 398,
              "height": 265
            },
            "needs_background": "light"
          }
        }
      ]
    },
    {
      "cell_type": "code",
      "metadata": {
        "id": "NYbXN-p9TZ52",
        "colab": {
          "base_uri": "https://localhost:8080/",
          "height": 373
        },
        "outputId": "f132fa25-8971-4cb8-d9d2-51a5e6194075"
      },
      "source": [
        "glucose_median = np.median(X_train[X_train.Glucose != 0]['Glucose'])\n",
        "print(f'glucose median: {glucose_median}')\n",
        "X_train = X_train.replace({'Glucose':0}, glucose_median)\n",
        "sns.distplot(X_train['Glucose'])"
      ],
      "execution_count": 28,
      "outputs": [
        {
          "output_type": "stream",
          "text": [
            "glucose median: 117.0\n"
          ],
          "name": "stdout"
        },
        {
          "output_type": "stream",
          "text": [
            "/usr/local/lib/python3.7/dist-packages/seaborn/distributions.py:2557: FutureWarning: `distplot` is a deprecated function and will be removed in a future version. Please adapt your code to use either `displot` (a figure-level function with similar flexibility) or `histplot` (an axes-level function for histograms).\n",
            "  warnings.warn(msg, FutureWarning)\n"
          ],
          "name": "stderr"
        },
        {
          "output_type": "execute_result",
          "data": {
            "text/plain": [
              "<matplotlib.axes._subplots.AxesSubplot at 0x7fc51a310f50>"
            ]
          },
          "metadata": {
            "tags": []
          },
          "execution_count": 28
        },
        {
          "output_type": "display_data",
          "data": {
            "image/png": "[encoded data removed]",
            "text/plain": [
              "<Figure size 432x288 with 1 Axes>"
            ]
          },
          "metadata": {
            "tags": [],
            "image/png": {
              "width": 398,
              "height": 264
            },
            "needs_background": "light"
          }
        }
      ]
    },
    {
      "cell_type": "markdown",
      "metadata": {
        "id": "S1_aWeLoqzU5"
      },
      "source": [
        "* test dataのGlucoseの欠測箇所も、同じ値で埋める \n",
        "\n"
      ]
    },
    {
      "cell_type": "code",
      "metadata": {
        "id": "ro2e96DcVopO"
      },
      "source": [
        "X_test = X_test.replace({'Glucose':0}, glucose_median)"
      ],
      "execution_count": 29,
      "outputs": []
    },
    {
      "cell_type": "code",
      "metadata": {
        "id": "OA7TcLkgTprV",
        "colab": {
          "base_uri": "https://localhost:8080/"
        },
        "outputId": "537d3e6e-ce39-42b3-9ddc-5fb8f83916b5"
      },
      "source": [
        "cv(skf, X_train, y_train)"
      ],
      "execution_count": 30,
      "outputs": [
        {
          "output_type": "stream",
          "text": [
            "score: 0.8333\n",
            "score: 0.8182\n",
            "score: 0.7846\n",
            "score: 0.7538\n",
            "score: 0.7846\n",
            "score: 0.7846\n",
            "score: 0.7538\n",
            "score: 0.8000\n",
            "score: 0.7077\n",
            "score: 0.7385\n",
            "mean score: 0.7759 {  }\n"
          ],
          "name": "stdout"
        }
      ]
    },
    {
      "cell_type": "markdown",
      "metadata": {
        "id": "lu5aGqJZ03Ox"
      },
      "source": [
        "ここまでの交差検証でのベスト・スコアは0.7759。"
      ]
    },
    {
      "cell_type": "markdown",
      "metadata": {
        "id": "q1uy1M8BZTlk"
      },
      "source": [
        "### G) DiabetesPedigreeFunctionへの対応"
      ]
    },
    {
      "cell_type": "code",
      "metadata": {
        "id": "SsfKM8V0ZMpw",
        "colab": {
          "base_uri": "https://localhost:8080/",
          "height": 352
        },
        "outputId": "4a24123a-a394-4802-adb7-5ce7e121fdfe"
      },
      "source": [
        "sns.distplot(X_train['DiabetesPedigreeFunction'], bins=50)"
      ],
      "execution_count": 31,
      "outputs": [
        {
          "output_type": "stream",
          "text": [
            "/usr/local/lib/python3.7/dist-packages/seaborn/distributions.py:2557: FutureWarning: `distplot` is a deprecated function and will be removed in a future version. Please adapt your code to use either `displot` (a figure-level function with similar flexibility) or `histplot` (an axes-level function for histograms).\n",
            "  warnings.warn(msg, FutureWarning)\n"
          ],
          "name": "stderr"
        },
        {
          "output_type": "execute_result",
          "data": {
            "text/plain": [
              "<matplotlib.axes._subplots.AxesSubplot at 0x7fc51a2cab50>"
            ]
          },
          "metadata": {
            "tags": []
          },
          "execution_count": 31
        },
        {
          "output_type": "display_data",
          "data": {
            "image/png": "[encoded data removed]",
            "text/plain": [
              "<Figure size 432x288 with 1 Axes>"
            ]
          },
          "metadata": {
            "tags": [],
            "image/png": {
              "width": 385,
              "height": 261
            },
            "needs_background": "light"
          }
        }
      ]
    },
    {
      "cell_type": "code",
      "metadata": {
        "id": "wIctdU3NxZcp",
        "colab": {
          "base_uri": "https://localhost:8080/",
          "height": 352
        },
        "outputId": "cd45992a-97cd-4ef5-f915-0e51961ae177"
      },
      "source": [
        "from scipy.stats import boxcox\n",
        "\n",
        "X_train_boxcox = X_train.copy()\n",
        "X_train_boxcox.DiabetesPedigreeFunction, maxlog = boxcox(X_train.DiabetesPedigreeFunction)\n",
        "sns.distplot(X_train_boxcox['DiabetesPedigreeFunction'], bins=50)"
      ],
      "execution_count": 32,
      "outputs": [
        {
          "output_type": "stream",
          "text": [
            "/usr/local/lib/python3.7/dist-packages/seaborn/distributions.py:2557: FutureWarning: `distplot` is a deprecated function and will be removed in a future version. Please adapt your code to use either `displot` (a figure-level function with similar flexibility) or `histplot` (an axes-level function for histograms).\n",
            "  warnings.warn(msg, FutureWarning)\n"
          ],
          "name": "stderr"
        },
        {
          "output_type": "execute_result",
          "data": {
            "text/plain": [
              "<matplotlib.axes._subplots.AxesSubplot at 0x7fc51a2751d0>"
            ]
          },
          "metadata": {
            "tags": []
          },
          "execution_count": 32
        },
        {
          "output_type": "display_data",
          "data": {
            "image/png": "[encoded data removed]",
            "text/plain": [
              "<Figure size 432x288 with 1 Axes>"
            ]
          },
          "metadata": {
            "tags": [],
            "image/png": {
              "width": 385,
              "height": 261
            },
            "needs_background": "light"
          }
        }
      ]
    },
    {
      "cell_type": "code",
      "metadata": {
        "id": "LQwJgs_TyA0g",
        "colab": {
          "base_uri": "https://localhost:8080/"
        },
        "outputId": "f7b0b9b4-4515-4bf0-8ea5-6e5ded703dc2"
      },
      "source": [
        "cv(skf, X_train_boxcox, y_train)"
      ],
      "execution_count": 33,
      "outputs": [
        {
          "output_type": "stream",
          "text": [
            "score: 0.8182\n",
            "score: 0.8333\n",
            "score: 0.7692\n",
            "score: 0.7692\n",
            "score: 0.7538\n",
            "score: 0.7846\n",
            "score: 0.7692\n",
            "score: 0.8000\n",
            "score: 0.7077\n",
            "score: 0.7385\n",
            "mean score: 0.7744 {  }\n"
          ],
          "name": "stdout"
        }
      ]
    },
    {
      "cell_type": "markdown",
      "metadata": {
        "id": "Ltp3l8OpyF-o"
      },
      "source": [
        "悪くなったので不採用。"
      ]
    },
    {
      "cell_type": "markdown",
      "metadata": {
        "id": "B7hDDVnNUATp"
      },
      "source": [
        "### H) SkinThicknessとInsulin: 線形回帰で欠測値を埋める"
      ]
    },
    {
      "cell_type": "code",
      "metadata": {
        "id": "kvegwCbRuBIS",
        "colab": {
          "base_uri": "https://localhost:8080/",
          "height": 352
        },
        "outputId": "d30798fb-49b1-4ead-8c04-c5dcacb79be9"
      },
      "source": [
        "sns.distplot(X_train['SkinThickness'], bins=50)"
      ],
      "execution_count": 34,
      "outputs": [
        {
          "output_type": "stream",
          "text": [
            "/usr/local/lib/python3.7/dist-packages/seaborn/distributions.py:2557: FutureWarning: `distplot` is a deprecated function and will be removed in a future version. Please adapt your code to use either `displot` (a figure-level function with similar flexibility) or `histplot` (an axes-level function for histograms).\n",
            "  warnings.warn(msg, FutureWarning)\n"
          ],
          "name": "stderr"
        },
        {
          "output_type": "execute_result",
          "data": {
            "text/plain": [
              "<matplotlib.axes._subplots.AxesSubplot at 0x7fc51a09a410>"
            ]
          },
          "metadata": {
            "tags": []
          },
          "execution_count": 34
        },
        {
          "output_type": "display_data",
          "data": {
            "image/png": "[encoded data removed]",
            "text/plain": [
              "<Figure size 432x288 with 1 Axes>"
            ]
          },
          "metadata": {
            "tags": [],
            "image/png": {
              "width": 392,
              "height": 261
            },
            "needs_background": "light"
          }
        }
      ]
    },
    {
      "cell_type": "code",
      "metadata": {
        "id": "L5ffQqerbRMc",
        "colab": {
          "base_uri": "https://localhost:8080/",
          "height": 352
        },
        "outputId": "863b1fe5-f474-4bf6-b0fa-ec965ca635c4"
      },
      "source": [
        "sns.distplot(X_train['Insulin'], bins=50)"
      ],
      "execution_count": 35,
      "outputs": [
        {
          "output_type": "stream",
          "text": [
            "/usr/local/lib/python3.7/dist-packages/seaborn/distributions.py:2557: FutureWarning: `distplot` is a deprecated function and will be removed in a future version. Please adapt your code to use either `displot` (a figure-level function with similar flexibility) or `histplot` (an axes-level function for histograms).\n",
            "  warnings.warn(msg, FutureWarning)\n"
          ],
          "name": "stderr"
        },
        {
          "output_type": "execute_result",
          "data": {
            "text/plain": [
              "<matplotlib.axes._subplots.AxesSubplot at 0x7fc519fbc790>"
            ]
          },
          "metadata": {
            "tags": []
          },
          "execution_count": 35
        },
        {
          "output_type": "display_data",
          "data": {
            "image/png": "[encoded data removed]",
            "text/plain": [
              "<Figure size 432x288 with 1 Axes>"
            ]
          },
          "metadata": {
            "tags": [],
            "image/png": {
              "width": 398,
              "height": 261
            },
            "needs_background": "light"
          }
        }
      ]
    },
    {
      "cell_type": "code",
      "metadata": {
        "id": "AE7hom2eVWnR",
        "colab": {
          "base_uri": "https://localhost:8080/"
        },
        "outputId": "58979265-8468-46bb-b3b7-96506965f249"
      },
      "source": [
        "(X_train['SkinThickness'] == 0).sum()"
      ],
      "execution_count": 36,
      "outputs": [
        {
          "output_type": "execute_result",
          "data": {
            "text/plain": [
              "191"
            ]
          },
          "metadata": {
            "tags": []
          },
          "execution_count": 36
        }
      ]
    },
    {
      "cell_type": "code",
      "metadata": {
        "id": "7l5ISkugWXmc",
        "colab": {
          "base_uri": "https://localhost:8080/"
        },
        "outputId": "0cb283e2-d707-402a-a869-0ce5fbc84236"
      },
      "source": [
        "(X_train['Insulin'] == 0).sum()"
      ],
      "execution_count": 37,
      "outputs": [
        {
          "output_type": "execute_result",
          "data": {
            "text/plain": [
              "314"
            ]
          },
          "metadata": {
            "tags": []
          },
          "execution_count": 37
        }
      ]
    },
    {
      "cell_type": "code",
      "metadata": {
        "id": "Mg87bdcVYCT1",
        "colab": {
          "base_uri": "https://localhost:8080/"
        },
        "outputId": "f7038d1c-132f-4865-fbab-b26574ec0a37"
      },
      "source": [
        "((X_train['SkinThickness'] == 0) & (X_train['Insulin'] == 0)).sum()"
      ],
      "execution_count": 38,
      "outputs": [
        {
          "output_type": "execute_result",
          "data": {
            "text/plain": [
              "191"
            ]
          },
          "metadata": {
            "tags": []
          },
          "execution_count": 38
        }
      ]
    },
    {
      "cell_type": "code",
      "metadata": {
        "id": "6Y8vGCUDWeLA"
      },
      "source": [
        "for i in X_train.index[X_train['SkinThickness'] == 0]:\n",
        "  if not i in X_train.index[X_train['Insulin'] == 0]:\n",
        "    print('No')"
      ],
      "execution_count": 39,
      "outputs": []
    },
    {
      "cell_type": "markdown",
      "metadata": {
        "id": "ojghc1WgXQ4h"
      },
      "source": [
        "SkinThicknessが0の個体は、必ずInsulinも0になっているらしい。\n",
        "\n",
        "ただし、これは訓練データだけでこうなっているだけかもしれないので、この事実に依存して何かをすることはしない。"
      ]
    },
    {
      "cell_type": "code",
      "metadata": {
        "id": "o1zdunK4YtZM",
        "colab": {
          "base_uri": "https://localhost:8080/"
        },
        "outputId": "c84e6db9-1e85-4bb3-938e-9c10bacaeb6e"
      },
      "source": [
        "# LassoでSkinThicknessとInsulinの欠測部分を埋める\n",
        "\n",
        "from sklearn.linear_model import Lasso\n",
        "\n",
        "columns = X_train.columns[(X_train.columns != 'SkinThickness') & (X_train.columns != 'Insulin')]\n",
        "\n",
        "for alpha in np.power(10.0, np.arange(12) - 5):\n",
        "\n",
        "  X_train_copy = X_train.copy()\n",
        "\n",
        "  indices = (X_train['SkinThickness'] != 0)\n",
        "  reg = Lasso(alpha=alpha)\n",
        "  reg.fit(X_train.loc[indices, columns], X_train.loc[indices, 'SkinThickness'])\n",
        "  X_train_copy.loc[~ indices, 'SkinThickness'] = reg.predict(X_train.loc[~ indices, columns])\n",
        "\n",
        "  indices = (X_train['Insulin'] != 0)\n",
        "  reg = Lasso(alpha=alpha)\n",
        "  reg.fit(X_train.loc[indices, columns], X_train.loc[indices, 'Insulin'])\n",
        "  X_train_copy.loc[~ indices, 'Insulin'] = reg.predict(X_train.loc[~ indices, columns])\n",
        "\n",
        "  print('-'*8, alpha, '-'*16)\n",
        "  cv(skf, X_train_copy, y_train)"
      ],
      "execution_count": 40,
      "outputs": [
        {
          "output_type": "stream",
          "text": [
            "-------- 1e-05 ----------------\n",
            "score: 0.8182\n",
            "score: 0.8030\n",
            "score: 0.7538\n",
            "score: 0.7538\n",
            "score: 0.8000\n",
            "score: 0.7692\n",
            "score: 0.7538\n",
            "score: 0.8000\n",
            "score: 0.7231\n",
            "score: 0.7538\n",
            "mean score: 0.7729 {  }\n",
            "-------- 0.0001 ----------------\n",
            "score: 0.8182\n",
            "score: 0.8030\n",
            "score: 0.7538\n",
            "score: 0.7538\n",
            "score: 0.8000\n",
            "score: 0.7692\n",
            "score: 0.7538\n",
            "score: 0.8000\n",
            "score: 0.7231\n",
            "score: 0.7538\n",
            "mean score: 0.7729 {  }\n",
            "-------- 0.001 ----------------\n",
            "score: 0.8182\n",
            "score: 0.8030\n",
            "score: 0.7538\n",
            "score: 0.7538\n",
            "score: 0.8000\n",
            "score: 0.7692\n",
            "score: 0.7538\n",
            "score: 0.8000\n",
            "score: 0.7231\n",
            "score: 0.7538\n",
            "mean score: 0.7729 {  }\n",
            "-------- 0.01 ----------------\n",
            "score: 0.8182\n",
            "score: 0.8030\n",
            "score: 0.7538\n",
            "score: 0.7538\n",
            "score: 0.8000\n",
            "score: 0.7692\n",
            "score: 0.7538\n",
            "score: 0.8000\n",
            "score: 0.7231\n",
            "score: 0.7538\n",
            "mean score: 0.7729 {  }\n",
            "-------- 0.1 ----------------\n",
            "score: 0.8182\n",
            "score: 0.8030\n",
            "score: 0.7538\n",
            "score: 0.7538\n",
            "score: 0.8000\n",
            "score: 0.7692\n",
            "score: 0.7538\n",
            "score: 0.8000\n",
            "score: 0.7231\n",
            "score: 0.7538\n",
            "mean score: 0.7729 {  }\n",
            "-------- 1.0 ----------------\n",
            "score: 0.8182\n",
            "score: 0.8030\n",
            "score: 0.7538\n",
            "score: 0.7538\n",
            "score: 0.8000\n",
            "score: 0.7692\n",
            "score: 0.7538\n",
            "score: 0.8000\n",
            "score: 0.7231\n",
            "score: 0.7538\n",
            "mean score: 0.7729 {  }\n",
            "-------- 10.0 ----------------\n",
            "score: 0.8182\n",
            "score: 0.7879\n",
            "score: 0.7538\n",
            "score: 0.7538\n",
            "score: 0.8000\n",
            "score: 0.7692\n",
            "score: 0.7538\n",
            "score: 0.8000\n",
            "score: 0.7231\n",
            "score: 0.7538\n",
            "mean score: 0.7714 {  }\n",
            "-------- 100.0 ----------------\n",
            "score: 0.8182\n",
            "score: 0.7879\n",
            "score: 0.7538\n",
            "score: 0.7538\n",
            "score: 0.8000\n",
            "score: 0.7692\n",
            "score: 0.7538\n",
            "score: 0.7846\n",
            "score: 0.7231\n",
            "score: 0.7538\n",
            "mean score: 0.7698 {  }\n",
            "-------- 1000.0 ----------------\n",
            "score: 0.8182\n",
            "score: 0.7879\n",
            "score: 0.7538\n",
            "score: 0.7538\n",
            "score: 0.8000\n",
            "score: 0.7692\n",
            "score: 0.7538\n",
            "score: 0.7846\n",
            "score: 0.7231\n",
            "score: 0.7538\n",
            "mean score: 0.7698 {  }\n",
            "-------- 10000.0 ----------------\n",
            "score: 0.8333\n",
            "score: 0.8030\n",
            "score: 0.7538\n",
            "score: 0.7538\n",
            "score: 0.7846\n",
            "score: 0.7692\n",
            "score: 0.7538\n",
            "score: 0.8000\n",
            "score: 0.7231\n",
            "score: 0.7538\n",
            "mean score: 0.7729 {  }\n",
            "-------- 100000.0 ----------------\n",
            "score: 0.8333\n",
            "score: 0.8030\n",
            "score: 0.7538\n",
            "score: 0.7538\n",
            "score: 0.7846\n",
            "score: 0.7692\n",
            "score: 0.7538\n",
            "score: 0.8000\n",
            "score: 0.7231\n",
            "score: 0.7538\n",
            "mean score: 0.7729 {  }\n",
            "-------- 1000000.0 ----------------\n",
            "score: 0.8333\n",
            "score: 0.8030\n",
            "score: 0.7538\n",
            "score: 0.7538\n",
            "score: 0.7846\n",
            "score: 0.7692\n",
            "score: 0.7538\n",
            "score: 0.8000\n",
            "score: 0.7231\n",
            "score: 0.7538\n",
            "mean score: 0.7729 {  }\n"
          ],
          "name": "stdout"
        }
      ]
    },
    {
      "cell_type": "code",
      "metadata": {
        "id": "Du0pMC1kYyHQ",
        "colab": {
          "base_uri": "https://localhost:8080/"
        },
        "outputId": "c7ecbdd4-7dce-4e19-a339-89098d446113"
      },
      "source": [
        "# Ridge回帰でSkinThicknessとInsulinの欠測部分を埋める\n",
        "\n",
        "from sklearn.linear_model import Ridge\n",
        "\n",
        "columns = X_train.columns[(X_train.columns != 'SkinThickness') & (X_train.columns != 'Insulin')]\n",
        "\n",
        "for alpha in np.power(10.0, np.arange(12) - 5):\n",
        "\n",
        "  X_train_copy = X_train.copy()\n",
        "\n",
        "  indices = (X_train['SkinThickness'] != 0)\n",
        "  reg = Ridge(alpha=alpha)\n",
        "  reg.fit(X_train.loc[indices, columns], X_train.loc[indices, 'SkinThickness'])\n",
        "  X_train_copy.loc[~ indices, 'SkinThickness'] = reg.predict(X_train.loc[~ indices, columns])\n",
        "\n",
        "  indices = (X_train['Insulin'] != 0)\n",
        "  reg = Ridge(alpha=alpha)\n",
        "  reg.fit(X_train.loc[indices, columns], X_train.loc[indices, 'Insulin'])\n",
        "  X_train_copy.loc[~ indices, 'Insulin'] = reg.predict(X_train.loc[~ indices, columns])\n",
        "\n",
        "  print('-'*8, alpha, '-'*16)\n",
        "  cv(skf, X_train_copy, y_train)"
      ],
      "execution_count": 41,
      "outputs": [
        {
          "output_type": "stream",
          "text": [
            "-------- 1e-05 ----------------\n",
            "score: 0.8182\n",
            "score: 0.8030\n",
            "score: 0.7538\n",
            "score: 0.7538\n",
            "score: 0.8000\n",
            "score: 0.7692\n",
            "score: 0.7538\n",
            "score: 0.8000\n",
            "score: 0.7231\n",
            "score: 0.7538\n",
            "mean score: 0.7729 {  }\n",
            "-------- 0.0001 ----------------\n",
            "score: 0.8182\n",
            "score: 0.8030\n",
            "score: 0.7538\n",
            "score: 0.7538\n",
            "score: 0.8000\n",
            "score: 0.7692\n",
            "score: 0.7538\n",
            "score: 0.8000\n",
            "score: 0.7231\n",
            "score: 0.7538\n",
            "mean score: 0.7729 {  }\n",
            "-------- 0.001 ----------------\n",
            "score: 0.8182\n",
            "score: 0.8030\n",
            "score: 0.7538\n",
            "score: 0.7538\n",
            "score: 0.8000\n",
            "score: 0.7692\n",
            "score: 0.7538\n",
            "score: 0.8000\n",
            "score: 0.7231\n",
            "score: 0.7538\n",
            "mean score: 0.7729 {  }\n",
            "-------- 0.01 ----------------\n",
            "score: 0.8182\n",
            "score: 0.8030\n",
            "score: 0.7538\n",
            "score: 0.7538\n",
            "score: 0.8000\n",
            "score: 0.7692\n",
            "score: 0.7538\n",
            "score: 0.8000\n",
            "score: 0.7231\n",
            "score: 0.7538\n",
            "mean score: 0.7729 {  }\n",
            "-------- 0.1 ----------------\n",
            "score: 0.8182\n",
            "score: 0.8030\n",
            "score: 0.7538\n",
            "score: 0.7538\n",
            "score: 0.8000\n",
            "score: 0.7692\n",
            "score: 0.7538\n",
            "score: 0.8000\n",
            "score: 0.7231\n",
            "score: 0.7538\n",
            "mean score: 0.7729 {  }\n",
            "-------- 1.0 ----------------\n",
            "score: 0.8182\n",
            "score: 0.8030\n",
            "score: 0.7538\n",
            "score: 0.7538\n",
            "score: 0.8000\n",
            "score: 0.7692\n",
            "score: 0.7538\n",
            "score: 0.8000\n",
            "score: 0.7231\n",
            "score: 0.7538\n",
            "mean score: 0.7729 {  }\n",
            "-------- 10.0 ----------------\n",
            "score: 0.8182\n",
            "score: 0.8030\n",
            "score: 0.7538\n",
            "score: 0.7538\n",
            "score: 0.8000\n",
            "score: 0.7692\n",
            "score: 0.7538\n",
            "score: 0.8000\n",
            "score: 0.7231\n",
            "score: 0.7538\n",
            "mean score: 0.7729 {  }\n",
            "-------- 100.0 ----------------\n",
            "score: 0.8182\n",
            "score: 0.8030\n",
            "score: 0.7538\n",
            "score: 0.7538\n",
            "score: 0.8000\n",
            "score: 0.7692\n",
            "score: 0.7538\n",
            "score: 0.8000\n",
            "score: 0.7231\n",
            "score: 0.7538\n",
            "mean score: 0.7729 {  }\n",
            "-------- 1000.0 ----------------\n",
            "score: 0.8182\n",
            "score: 0.8030\n",
            "score: 0.7538\n",
            "score: 0.7538\n",
            "score: 0.8000\n",
            "score: 0.7692\n",
            "score: 0.7538\n",
            "score: 0.8000\n",
            "score: 0.7231\n",
            "score: 0.7538\n",
            "mean score: 0.7729 {  }\n",
            "-------- 10000.0 ----------------\n",
            "score: 0.8182\n",
            "score: 0.7879\n",
            "score: 0.7538\n",
            "score: 0.7538\n",
            "score: 0.8000\n",
            "score: 0.7692\n",
            "score: 0.7538\n",
            "score: 0.7846\n",
            "score: 0.7231\n",
            "score: 0.7538\n",
            "mean score: 0.7698 {  }\n",
            "-------- 100000.0 ----------------\n",
            "score: 0.8182\n",
            "score: 0.7879\n",
            "score: 0.7538\n",
            "score: 0.7538\n",
            "score: 0.8154\n",
            "score: 0.7692\n",
            "score: 0.7538\n",
            "score: 0.7846\n",
            "score: 0.7231\n",
            "score: 0.7538\n",
            "mean score: 0.7714 {  }\n",
            "-------- 1000000.0 ----------------\n",
            "score: 0.8182\n",
            "score: 0.7879\n",
            "score: 0.7538\n",
            "score: 0.7538\n",
            "score: 0.8000\n",
            "score: 0.7692\n",
            "score: 0.7538\n",
            "score: 0.8000\n",
            "score: 0.7231\n",
            "score: 0.7538\n",
            "mean score: 0.7714 {  }\n"
          ],
          "name": "stdout"
        }
      ]
    },
    {
      "cell_type": "markdown",
      "metadata": {
        "id": "v2JBRGrbb8-B"
      },
      "source": [
        "悪くなったので不採用。"
      ]
    },
    {
      "cell_type": "markdown",
      "metadata": {
        "id": "CPEvLUJtQRB3"
      },
      "source": [
        "### I) SkinThicknessとInsulin: それぞれk-近傍法で値を埋める"
      ]
    },
    {
      "cell_type": "code",
      "metadata": {
        "id": "ROSCKIUQOzMk",
        "colab": {
          "base_uri": "https://localhost:8080/"
        },
        "outputId": "6cd567ab-1110-45be-9f41-9d41101b3245"
      },
      "source": [
        "# k-NNでSkinThicknessの欠測部分を埋める\n",
        "\n",
        "from sklearn.neighbors import KNeighborsClassifier\n",
        "\n",
        "columns = X_train.columns[(X_train.columns != 'SkinThickness') & (X_train.columns != 'Insulin')]\n",
        "\n",
        "for k in range(1, 21):\n",
        "\n",
        "  X_train_copy = X_train.copy()\n",
        "\n",
        "  indices = (X_train['SkinThickness'] != 0)\n",
        "  knn = KNeighborsClassifier(n_neighbors=k)\n",
        "  knn.fit(X_train.loc[indices, columns], X_train.loc[indices, 'SkinThickness'])\n",
        "  X_train_copy.loc[~ indices, 'SkinThickness'] = knn.predict(X_train.loc[~ indices, columns])\n",
        "\n",
        "  indices = (X_train['Insulin'] != 0)\n",
        "  knn = KNeighborsClassifier(n_neighbors=k)\n",
        "  knn.fit(X_train.loc[indices, columns], X_train.loc[indices, 'Insulin'])\n",
        "  X_train_copy.loc[~ indices, 'Insulin'] = knn.predict(X_train.loc[~ indices, columns])\n",
        "\n",
        "  print('-'*8, k, '-'*16)\n",
        "  cv(skf, X_train_copy, y_train)"
      ],
      "execution_count": 42,
      "outputs": [
        {
          "output_type": "stream",
          "text": [
            "-------- 1 ----------------\n",
            "score: 0.8333\n",
            "score: 0.7727\n",
            "score: 0.7692\n",
            "score: 0.7538\n",
            "score: 0.7846\n",
            "score: 0.7538\n",
            "score: 0.7692\n",
            "score: 0.8154\n",
            "score: 0.7077\n",
            "score: 0.7385\n",
            "mean score: 0.7698 {  }\n",
            "-------- 2 ----------------\n",
            "score: 0.8333\n",
            "score: 0.7879\n",
            "score: 0.7846\n",
            "score: 0.7385\n",
            "score: 0.8000\n",
            "score: 0.7692\n",
            "score: 0.7538\n",
            "score: 0.8000\n",
            "score: 0.7231\n",
            "score: 0.7538\n",
            "mean score: 0.7744 {  }\n",
            "-------- 3 ----------------\n",
            "score: 0.8333\n",
            "score: 0.7879\n",
            "score: 0.7692\n",
            "score: 0.7538\n",
            "score: 0.7846\n",
            "score: 0.7692\n",
            "score: 0.7692\n",
            "score: 0.8000\n",
            "score: 0.7231\n",
            "score: 0.7385\n",
            "mean score: 0.7729 {  }\n",
            "-------- 4 ----------------\n",
            "score: 0.8333\n",
            "score: 0.7879\n",
            "score: 0.7692\n",
            "score: 0.7538\n",
            "score: 0.7846\n",
            "score: 0.7692\n",
            "score: 0.7692\n",
            "score: 0.7846\n",
            "score: 0.7231\n",
            "score: 0.7385\n",
            "mean score: 0.7714 {  }\n",
            "-------- 5 ----------------\n",
            "score: 0.8333\n",
            "score: 0.7879\n",
            "score: 0.7846\n",
            "score: 0.7385\n",
            "score: 0.7846\n",
            "score: 0.7692\n",
            "score: 0.7692\n",
            "score: 0.8154\n",
            "score: 0.7077\n",
            "score: 0.7385\n",
            "mean score: 0.7729 {  }\n",
            "-------- 6 ----------------\n",
            "score: 0.8333\n",
            "score: 0.8030\n",
            "score: 0.7846\n",
            "score: 0.7538\n",
            "score: 0.7846\n",
            "score: 0.7692\n",
            "score: 0.7692\n",
            "score: 0.8154\n",
            "score: 0.7077\n",
            "score: 0.7385\n",
            "mean score: 0.7759 {  }\n",
            "-------- 7 ----------------\n",
            "score: 0.8333\n",
            "score: 0.7879\n",
            "score: 0.7846\n",
            "score: 0.7538\n",
            "score: 0.7846\n",
            "score: 0.7692\n",
            "score: 0.7692\n",
            "score: 0.8000\n",
            "score: 0.7077\n",
            "score: 0.7385\n",
            "mean score: 0.7729 {  }\n",
            "-------- 8 ----------------\n",
            "score: 0.8182\n",
            "score: 0.8182\n",
            "score: 0.7846\n",
            "score: 0.7538\n",
            "score: 0.7846\n",
            "score: 0.7692\n",
            "score: 0.7692\n",
            "score: 0.8154\n",
            "score: 0.7077\n",
            "score: 0.7385\n",
            "mean score: 0.7759 {  }\n",
            "-------- 9 ----------------\n",
            "score: 0.8333\n",
            "score: 0.8182\n",
            "score: 0.7846\n",
            "score: 0.7538\n",
            "score: 0.7846\n",
            "score: 0.7846\n",
            "score: 0.7692\n",
            "score: 0.8154\n",
            "score: 0.7077\n",
            "score: 0.7385\n",
            "mean score: 0.7790 {  }\n",
            "-------- 10 ----------------\n",
            "score: 0.8333\n",
            "score: 0.8182\n",
            "score: 0.7846\n",
            "score: 0.7538\n",
            "score: 0.7692\n",
            "score: 0.7846\n",
            "score: 0.7692\n",
            "score: 0.8000\n",
            "score: 0.7077\n",
            "score: 0.7385\n",
            "mean score: 0.7759 {  }\n",
            "-------- 11 ----------------\n",
            "score: 0.8333\n",
            "score: 0.8030\n",
            "score: 0.7692\n",
            "score: 0.7538\n",
            "score: 0.7692\n",
            "score: 0.7692\n",
            "score: 0.7692\n",
            "score: 0.7846\n",
            "score: 0.7231\n",
            "score: 0.7385\n",
            "mean score: 0.7713 {  }\n",
            "-------- 12 ----------------\n",
            "score: 0.8182\n",
            "score: 0.8030\n",
            "score: 0.7692\n",
            "score: 0.7538\n",
            "score: 0.7846\n",
            "score: 0.7692\n",
            "score: 0.7385\n",
            "score: 0.7846\n",
            "score: 0.7231\n",
            "score: 0.7385\n",
            "mean score: 0.7683 {  }\n",
            "-------- 13 ----------------\n",
            "score: 0.8182\n",
            "score: 0.8030\n",
            "score: 0.7538\n",
            "score: 0.7538\n",
            "score: 0.8000\n",
            "score: 0.7692\n",
            "score: 0.7385\n",
            "score: 0.8000\n",
            "score: 0.7231\n",
            "score: 0.7538\n",
            "mean score: 0.7714 {  }\n",
            "-------- 14 ----------------\n",
            "score: 0.8333\n",
            "score: 0.8182\n",
            "score: 0.7846\n",
            "score: 0.7538\n",
            "score: 0.8000\n",
            "score: 0.7846\n",
            "score: 0.7692\n",
            "score: 0.8000\n",
            "score: 0.7077\n",
            "score: 0.7385\n",
            "mean score: 0.7790 {  }\n",
            "-------- 15 ----------------\n",
            "score: 0.8333\n",
            "score: 0.8030\n",
            "score: 0.7846\n",
            "score: 0.7385\n",
            "score: 0.7846\n",
            "score: 0.7846\n",
            "score: 0.7692\n",
            "score: 0.8000\n",
            "score: 0.7231\n",
            "score: 0.7385\n",
            "mean score: 0.7759 {  }\n",
            "-------- 16 ----------------\n",
            "score: 0.8333\n",
            "score: 0.8030\n",
            "score: 0.7846\n",
            "score: 0.7385\n",
            "score: 0.7846\n",
            "score: 0.7846\n",
            "score: 0.7692\n",
            "score: 0.8000\n",
            "score: 0.7231\n",
            "score: 0.7538\n",
            "mean score: 0.7775 {  }\n",
            "-------- 17 ----------------\n",
            "score: 0.8333\n",
            "score: 0.8030\n",
            "score: 0.7538\n",
            "score: 0.7385\n",
            "score: 0.7846\n",
            "score: 0.7846\n",
            "score: 0.7538\n",
            "score: 0.8154\n",
            "score: 0.7231\n",
            "score: 0.7538\n",
            "mean score: 0.7744 {  }\n",
            "-------- 18 ----------------\n",
            "score: 0.8333\n",
            "score: 0.8030\n",
            "score: 0.7692\n",
            "score: 0.7385\n",
            "score: 0.8000\n",
            "score: 0.7846\n",
            "score: 0.7538\n",
            "score: 0.7846\n",
            "score: 0.7231\n",
            "score: 0.7538\n",
            "mean score: 0.7744 {  }\n",
            "-------- 19 ----------------\n",
            "score: 0.8182\n",
            "score: 0.8030\n",
            "score: 0.7692\n",
            "score: 0.7385\n",
            "score: 0.8000\n",
            "score: 0.7846\n",
            "score: 0.7538\n",
            "score: 0.8000\n",
            "score: 0.7231\n",
            "score: 0.7538\n",
            "mean score: 0.7744 {  }\n",
            "-------- 20 ----------------\n",
            "score: 0.8182\n",
            "score: 0.8030\n",
            "score: 0.7692\n",
            "score: 0.7385\n",
            "score: 0.8000\n",
            "score: 0.7846\n",
            "score: 0.7692\n",
            "score: 0.7846\n",
            "score: 0.7231\n",
            "score: 0.7538\n",
            "mean score: 0.7744 {  }\n"
          ],
          "name": "stdout"
        }
      ]
    },
    {
      "cell_type": "code",
      "metadata": {
        "id": "Fw0j_0JcUfwZ"
      },
      "source": [
        "# k=9を採用\n",
        "\n",
        "k = 9\n",
        "\n",
        "X_train_copy = X_train.copy()\n",
        "\n",
        "indices = (X_train['SkinThickness'] != 0)\n",
        "knn = KNeighborsClassifier(n_neighbors=k)\n",
        "knn.fit(X_train.loc[indices, columns], X_train.loc[indices, 'SkinThickness'])\n",
        "X_train_copy.loc[~ indices, 'SkinThickness'] = knn.predict(X_train.loc[~ indices, columns])\n",
        "\n",
        "indices = (X_train['Insulin'] != 0)\n",
        "knn = KNeighborsClassifier(n_neighbors=k)\n",
        "knn.fit(X_train.loc[indices, columns], X_train.loc[indices, 'Insulin'])\n",
        "X_train_copy.loc[~ indices, 'Insulin'] = knn.predict(X_train.loc[~ indices, columns])"
      ],
      "execution_count": 43,
      "outputs": []
    },
    {
      "cell_type": "code",
      "metadata": {
        "id": "dgJeArAIPYyp",
        "colab": {
          "base_uri": "https://localhost:8080/",
          "height": 352
        },
        "outputId": "53642a5a-34d3-463a-b3bb-597def9ff796"
      },
      "source": [
        "sns.distplot(X_train_copy['SkinThickness'], bins=50)"
      ],
      "execution_count": 44,
      "outputs": [
        {
          "output_type": "stream",
          "text": [
            "/usr/local/lib/python3.7/dist-packages/seaborn/distributions.py:2557: FutureWarning: `distplot` is a deprecated function and will be removed in a future version. Please adapt your code to use either `displot` (a figure-level function with similar flexibility) or `histplot` (an axes-level function for histograms).\n",
            "  warnings.warn(msg, FutureWarning)\n"
          ],
          "name": "stderr"
        },
        {
          "output_type": "execute_result",
          "data": {
            "text/plain": [
              "<matplotlib.axes._subplots.AxesSubplot at 0x7fc519ec8210>"
            ]
          },
          "metadata": {
            "tags": []
          },
          "execution_count": 44
        },
        {
          "output_type": "display_data",
          "data": {
            "image/png": "[encoded data removed]",
            "text/plain": [
              "<Figure size 432x288 with 1 Axes>"
            ]
          },
          "metadata": {
            "tags": [],
            "image/png": {
              "width": 392,
              "height": 261
            },
            "needs_background": "light"
          }
        }
      ]
    },
    {
      "cell_type": "code",
      "metadata": {
        "id": "Rr3x6UWQPcoQ",
        "colab": {
          "base_uri": "https://localhost:8080/",
          "height": 352
        },
        "outputId": "c98c96f2-675f-4a0e-bf0e-4d8d412df9fb"
      },
      "source": [
        "sns.distplot(X_train_copy['Insulin'], bins=50)"
      ],
      "execution_count": 45,
      "outputs": [
        {
          "output_type": "stream",
          "text": [
            "/usr/local/lib/python3.7/dist-packages/seaborn/distributions.py:2557: FutureWarning: `distplot` is a deprecated function and will be removed in a future version. Please adapt your code to use either `displot` (a figure-level function with similar flexibility) or `histplot` (an axes-level function for histograms).\n",
            "  warnings.warn(msg, FutureWarning)\n"
          ],
          "name": "stderr"
        },
        {
          "output_type": "execute_result",
          "data": {
            "text/plain": [
              "<matplotlib.axes._subplots.AxesSubplot at 0x7fc51a25ae50>"
            ]
          },
          "metadata": {
            "tags": []
          },
          "execution_count": 45
        },
        {
          "output_type": "display_data",
          "data": {
            "image/png": "[encoded data removed]",
            "text/plain": [
              "<Figure size 432x288 with 1 Axes>"
            ]
          },
          "metadata": {
            "tags": [],
            "image/png": {
              "width": 398,
              "height": 261
            },
            "needs_background": "light"
          }
        }
      ]
    },
    {
      "cell_type": "code",
      "metadata": {
        "id": "TVRl23QOPe0d",
        "colab": {
          "base_uri": "https://localhost:8080/"
        },
        "outputId": "480f7d4f-f5fe-448e-e7fb-4de7b8e5ab6f"
      },
      "source": [
        "cv(skf, X_train_copy, y_train)"
      ],
      "execution_count": 46,
      "outputs": [
        {
          "output_type": "stream",
          "text": [
            "score: 0.8333\n",
            "score: 0.8182\n",
            "score: 0.7846\n",
            "score: 0.7538\n",
            "score: 0.7846\n",
            "score: 0.7846\n",
            "score: 0.7692\n",
            "score: 0.8154\n",
            "score: 0.7077\n",
            "score: 0.7385\n",
            "mean score: 0.7790 {  }\n"
          ],
          "name": "stdout"
        }
      ]
    },
    {
      "cell_type": "code",
      "metadata": {
        "id": "EAx2BtYAR3R7"
      },
      "source": [
        "# k=9を使って、テストデータの欠測箇所も埋めておく\n",
        "\n",
        "X_test_copy = X_test.copy()\n",
        "\n",
        "k = 9\n",
        "\n",
        "indices = (X_train['SkinThickness'] != 0)\n",
        "test_missing = (X_test['SkinThickness'] == 0)\n",
        "knn = KNeighborsClassifier(n_neighbors=k)\n",
        "knn.fit(X_train.loc[indices, columns], X_train.loc[indices, 'SkinThickness'])\n",
        "X_test_copy.loc[test_missing, 'SkinThickness'] = knn.predict(X_test.loc[test_missing, columns])\n",
        "\n",
        "indices = (X_train['Insulin'] != 0)\n",
        "test_missing = (X_test['Insulin'] == 0)\n",
        "knn = KNeighborsClassifier(n_neighbors=k)\n",
        "knn.fit(X_train.loc[indices, columns], X_train.loc[indices, 'Insulin'])\n",
        "X_test_copy.loc[test_missing, 'Insulin'] = knn.predict(X_test.loc[test_missing, columns])"
      ],
      "execution_count": 47,
      "outputs": []
    },
    {
      "cell_type": "code",
      "metadata": {
        "id": "ru5oYxqwWL16",
        "colab": {
          "base_uri": "https://localhost:8080/"
        },
        "outputId": "120f813e-f623-46bd-9cec-630e81092220"
      },
      "source": [
        "print((X_test_copy.SkinThickness == 0).sum())\n",
        "print((X_test_copy.Insulin == 0).sum())"
      ],
      "execution_count": 48,
      "outputs": [
        {
          "output_type": "stream",
          "text": [
            "0\n",
            "0\n"
          ],
          "name": "stdout"
        }
      ]
    },
    {
      "cell_type": "code",
      "metadata": {
        "id": "LkvtCrYXWarC"
      },
      "source": [
        "X_train = X_train_copy\n",
        "X_test = X_test_copy"
      ],
      "execution_count": 49,
      "outputs": []
    },
    {
      "cell_type": "code",
      "metadata": {
        "id": "C29KswDay_OV",
        "colab": {
          "base_uri": "https://localhost:8080/",
          "height": 300
        },
        "outputId": "6b90fc45-dfce-4c19-8145-4f6be7ebb20f"
      },
      "source": [
        "X_train.describe()"
      ],
      "execution_count": 50,
      "outputs": [
        {
          "output_type": "execute_result",
          "data": {
            "text/html": [
              "<div>\n",
              "<style scoped>\n",
              "    .dataframe tbody tr th:only-of-type {\n",
              "        vertical-align: middle;\n",
              "    }\n",
              "\n",
              "    .dataframe tbody tr th {\n",
              "        vertical-align: top;\n",
              "    }\n",
              "\n",
              "    .dataframe thead th {\n",
              "        text-align: right;\n",
              "    }\n",
              "</style>\n",
              "<table border=\"1\" class=\"dataframe\">\n",
              "  <thead>\n",
              "    <tr style=\"text-align: right;\">\n",
              "      <th></th>\n",
              "      <th>Pregnancies</th>\n",
              "      <th>Glucose</th>\n",
              "      <th>BloodPressure</th>\n",
              "      <th>SkinThickness</th>\n",
              "      <th>Insulin</th>\n",
              "      <th>BMI</th>\n",
              "      <th>DiabetesPedigreeFunction</th>\n",
              "      <th>Age</th>\n",
              "    </tr>\n",
              "  </thead>\n",
              "  <tbody>\n",
              "    <tr>\n",
              "      <th>count</th>\n",
              "      <td>652.000000</td>\n",
              "      <td>652.000000</td>\n",
              "      <td>652.000000</td>\n",
              "      <td>652.000000</td>\n",
              "      <td>652.000000</td>\n",
              "      <td>652.000000</td>\n",
              "      <td>652.000000</td>\n",
              "      <td>652.000000</td>\n",
              "    </tr>\n",
              "    <tr>\n",
              "      <th>mean</th>\n",
              "      <td>3.796012</td>\n",
              "      <td>121.512270</td>\n",
              "      <td>72.374233</td>\n",
              "      <td>27.943252</td>\n",
              "      <td>117.987730</td>\n",
              "      <td>32.515184</td>\n",
              "      <td>0.460816</td>\n",
              "      <td>33.291411</td>\n",
              "    </tr>\n",
              "    <tr>\n",
              "      <th>std</th>\n",
              "      <td>3.325152</td>\n",
              "      <td>30.146975</td>\n",
              "      <td>11.921575</td>\n",
              "      <td>10.474671</td>\n",
              "      <td>94.510997</td>\n",
              "      <td>6.801301</td>\n",
              "      <td>0.321493</td>\n",
              "      <td>11.801392</td>\n",
              "    </tr>\n",
              "    <tr>\n",
              "      <th>min</th>\n",
              "      <td>0.000000</td>\n",
              "      <td>44.000000</td>\n",
              "      <td>24.000000</td>\n",
              "      <td>7.000000</td>\n",
              "      <td>14.000000</td>\n",
              "      <td>18.200000</td>\n",
              "      <td>0.078000</td>\n",
              "      <td>21.000000</td>\n",
              "    </tr>\n",
              "    <tr>\n",
              "      <th>25%</th>\n",
              "      <td>1.000000</td>\n",
              "      <td>100.000000</td>\n",
              "      <td>64.000000</td>\n",
              "      <td>19.000000</td>\n",
              "      <td>61.000000</td>\n",
              "      <td>27.500000</td>\n",
              "      <td>0.238000</td>\n",
              "      <td>24.000000</td>\n",
              "    </tr>\n",
              "    <tr>\n",
              "      <th>50%</th>\n",
              "      <td>3.000000</td>\n",
              "      <td>117.000000</td>\n",
              "      <td>72.000000</td>\n",
              "      <td>28.000000</td>\n",
              "      <td>100.000000</td>\n",
              "      <td>32.400000</td>\n",
              "      <td>0.364500</td>\n",
              "      <td>29.000000</td>\n",
              "    </tr>\n",
              "    <tr>\n",
              "      <th>75%</th>\n",
              "      <td>6.000000</td>\n",
              "      <td>141.000000</td>\n",
              "      <td>80.000000</td>\n",
              "      <td>35.000000</td>\n",
              "      <td>140.000000</td>\n",
              "      <td>36.600000</td>\n",
              "      <td>0.605000</td>\n",
              "      <td>41.000000</td>\n",
              "    </tr>\n",
              "    <tr>\n",
              "      <th>max</th>\n",
              "      <td>17.000000</td>\n",
              "      <td>199.000000</td>\n",
              "      <td>122.000000</td>\n",
              "      <td>99.000000</td>\n",
              "      <td>744.000000</td>\n",
              "      <td>59.400000</td>\n",
              "      <td>2.420000</td>\n",
              "      <td>81.000000</td>\n",
              "    </tr>\n",
              "  </tbody>\n",
              "</table>\n",
              "</div>"
            ],
            "text/plain": [
              "       Pregnancies     Glucose  ...  DiabetesPedigreeFunction         Age\n",
              "count   652.000000  652.000000  ...                652.000000  652.000000\n",
              "mean      3.796012  121.512270  ...                  0.460816   33.291411\n",
              "std       3.325152   30.146975  ...                  0.321493   11.801392\n",
              "min       0.000000   44.000000  ...                  0.078000   21.000000\n",
              "25%       1.000000  100.000000  ...                  0.238000   24.000000\n",
              "50%       3.000000  117.000000  ...                  0.364500   29.000000\n",
              "75%       6.000000  141.000000  ...                  0.605000   41.000000\n",
              "max      17.000000  199.000000  ...                  2.420000   81.000000\n",
              "\n",
              "[8 rows x 8 columns]"
            ]
          },
          "metadata": {
            "tags": []
          },
          "execution_count": 50
        }
      ]
    },
    {
      "cell_type": "markdown",
      "metadata": {
        "id": "iLd-Rg8RlUtj"
      },
      "source": [
        "### J) スケーラーを使ってみる。"
      ]
    },
    {
      "cell_type": "code",
      "metadata": {
        "id": "fnNi8kaXrDQP",
        "colab": {
          "base_uri": "https://localhost:8080/"
        },
        "outputId": "0cfd096d-66a2-48b5-d7ce-d00c09150387"
      },
      "source": [
        "from sklearn.preprocessing import MinMaxScaler\n",
        "\n",
        "scaler = MinMaxScaler()\n",
        "scaler.fit(X_train)\n",
        "X_train_temp = X_train.copy()\n",
        "X_train_temp[X_train.columns] = scaler.transform(X_train)\n",
        "cv(skf, X_train_temp, y_train)"
      ],
      "execution_count": 51,
      "outputs": [
        {
          "output_type": "stream",
          "text": [
            "score: 0.8030\n",
            "score: 0.8030\n",
            "score: 0.7538\n",
            "score: 0.7385\n",
            "score: 0.7846\n",
            "score: 0.7692\n",
            "score: 0.7231\n",
            "score: 0.7846\n",
            "score: 0.7231\n",
            "score: 0.7385\n",
            "mean score: 0.7621 {  }\n"
          ],
          "name": "stdout"
        }
      ]
    },
    {
      "cell_type": "code",
      "metadata": {
        "id": "CxAI7gORc5td",
        "colab": {
          "base_uri": "https://localhost:8080/"
        },
        "outputId": "c4033f91-462d-4bc5-bdfd-8c1357cecb6d"
      },
      "source": [
        "from sklearn.preprocessing import StandardScaler\n",
        "\n",
        "scaler = StandardScaler()\n",
        "scaler.fit(X_train)\n",
        "X_train_temp = X_train.copy()\n",
        "X_train_temp[X_train.columns] = scaler.transform(X_train)\n",
        "cv(skf, X_train_temp, y_train)"
      ],
      "execution_count": 52,
      "outputs": [
        {
          "output_type": "stream",
          "text": [
            "score: 0.8182\n",
            "score: 0.8182\n",
            "score: 0.7846\n",
            "score: 0.7538\n",
            "score: 0.7846\n",
            "score: 0.7692\n",
            "score: 0.7692\n",
            "score: 0.8000\n",
            "score: 0.7077\n",
            "score: 0.7385\n",
            "mean score: 0.7744 {  }\n"
          ],
          "name": "stdout"
        }
      ]
    },
    {
      "cell_type": "markdown",
      "metadata": {
        "id": "l3W1GQ_34qhY"
      },
      "source": [
        "いずれも不採用。"
      ]
    },
    {
      "cell_type": "markdown",
      "metadata": {
        "id": "0zFe16YjmHPf"
      },
      "source": [
        "### K) 正則化パラメータCをチューニングする。"
      ]
    },
    {
      "cell_type": "code",
      "metadata": {
        "id": "UhjQGKFaJiGH",
        "colab": {
          "base_uri": "https://localhost:8080/"
        },
        "outputId": "3cb0466f-5cd4-4ac5-d1c2-c04f4a3ccf7b"
      },
      "source": [
        "for C in np.power(10.0, np.arange(13) - 5):\n",
        "  cv(skf, X_train, y_train, {'C':C})"
      ],
      "execution_count": 53,
      "outputs": [
        {
          "output_type": "stream",
          "text": [
            "score: 0.7273\n",
            "score: 0.7727\n",
            "score: 0.7385\n",
            "score: 0.6923\n",
            "score: 0.7846\n",
            "score: 0.7846\n",
            "score: 0.6769\n",
            "score: 0.7385\n",
            "score: 0.7231\n",
            "score: 0.7231\n",
            "mean score: 0.7362 { \"C\":1e-05 }\n",
            "score: 0.8485\n",
            "score: 0.8182\n",
            "score: 0.7692\n",
            "score: 0.6769\n",
            "score: 0.7538\n",
            "score: 0.7538\n",
            "score: 0.6923\n",
            "score: 0.7538\n",
            "score: 0.7231\n",
            "score: 0.7538\n",
            "mean score: 0.7544 { \"C\":0.0001 }\n",
            "score: 0.8182\n",
            "score: 0.8030\n",
            "score: 0.7692\n",
            "score: 0.7385\n",
            "score: 0.7692\n",
            "score: 0.7846\n",
            "score: 0.7077\n",
            "score: 0.7846\n",
            "score: 0.7385\n",
            "score: 0.7692\n",
            "mean score: 0.7683 { \"C\":0.001 }\n",
            "score: 0.8333\n",
            "score: 0.7727\n",
            "score: 0.7692\n",
            "score: 0.7538\n",
            "score: 0.7692\n",
            "score: 0.7692\n",
            "score: 0.7538\n",
            "score: 0.8000\n",
            "score: 0.7077\n",
            "score: 0.7538\n",
            "mean score: 0.7683 { \"C\":0.01 }\n",
            "score: 0.8333\n",
            "score: 0.7879\n",
            "score: 0.7692\n",
            "score: 0.7538\n",
            "score: 0.7846\n",
            "score: 0.7538\n",
            "score: 0.7538\n",
            "score: 0.8154\n",
            "score: 0.7077\n",
            "score: 0.7538\n",
            "mean score: 0.7714 { \"C\":0.1 }\n",
            "score: 0.8333\n",
            "score: 0.8182\n",
            "score: 0.7846\n",
            "score: 0.7538\n",
            "score: 0.7846\n",
            "score: 0.7846\n",
            "score: 0.7692\n",
            "score: 0.8154\n",
            "score: 0.7077\n",
            "score: 0.7385\n",
            "mean score: 0.7790 { \"C\":1.0 }\n",
            "score: 0.8182\n",
            "score: 0.8182\n",
            "score: 0.7846\n",
            "score: 0.7538\n",
            "score: 0.7846\n",
            "score: 0.7846\n",
            "score: 0.7692\n",
            "score: 0.8000\n",
            "score: 0.7077\n",
            "score: 0.7385\n",
            "mean score: 0.7759 { \"C\":10.0 }\n",
            "score: 0.8182\n",
            "score: 0.8182\n",
            "score: 0.7846\n",
            "score: 0.7538\n",
            "score: 0.7846\n",
            "score: 0.7846\n",
            "score: 0.7692\n",
            "score: 0.8000\n",
            "score: 0.7077\n",
            "score: 0.7538\n",
            "mean score: 0.7775 { \"C\":100.0 }\n",
            "score: 0.8182\n",
            "score: 0.8182\n",
            "score: 0.7846\n",
            "score: 0.7538\n",
            "score: 0.7846\n",
            "score: 0.7846\n",
            "score: 0.7692\n",
            "score: 0.8000\n",
            "score: 0.7077\n",
            "score: 0.7538\n",
            "mean score: 0.7775 { \"C\":1000.0 }\n",
            "score: 0.8182\n",
            "score: 0.8182\n",
            "score: 0.7846\n",
            "score: 0.7538\n",
            "score: 0.7846\n",
            "score: 0.7846\n",
            "score: 0.7692\n",
            "score: 0.8000\n",
            "score: 0.7077\n",
            "score: 0.7538\n",
            "mean score: 0.7775 { \"C\":10000.0 }\n",
            "score: 0.8182\n",
            "score: 0.8182\n",
            "score: 0.7846\n",
            "score: 0.7538\n",
            "score: 0.7846\n",
            "score: 0.7846\n",
            "score: 0.7692\n",
            "score: 0.8000\n",
            "score: 0.7077\n",
            "score: 0.7538\n",
            "mean score: 0.7775 { \"C\":100000.0 }\n",
            "score: 0.8182\n",
            "score: 0.8182\n",
            "score: 0.7846\n",
            "score: 0.7538\n",
            "score: 0.7846\n",
            "score: 0.7846\n",
            "score: 0.7692\n",
            "score: 0.8000\n",
            "score: 0.7077\n",
            "score: 0.7538\n",
            "mean score: 0.7775 { \"C\":1000000.0 }\n",
            "score: 0.8182\n",
            "score: 0.8182\n",
            "score: 0.7846\n",
            "score: 0.7538\n",
            "score: 0.7846\n",
            "score: 0.7846\n",
            "score: 0.7692\n",
            "score: 0.8000\n",
            "score: 0.7077\n",
            "score: 0.7538\n",
            "mean score: 0.7775 { \"C\":10000000.0 }\n"
          ],
          "name": "stdout"
        }
      ]
    },
    {
      "cell_type": "code",
      "metadata": {
        "id": "QyhlQ1jy1Zf7",
        "colab": {
          "base_uri": "https://localhost:8080/"
        },
        "outputId": "587902f7-240e-4a2e-8b62-075509187e97"
      },
      "source": [
        "for C in np.power(10.0, np.arange(13) - 5):\n",
        "  cv(skf, X_train, y_train, {'C':C, 'penalty':'l1', 'solver':'liblinear', 'max_iter':5000})"
      ],
      "execution_count": 54,
      "outputs": [
        {
          "output_type": "stream",
          "text": [
            "score: 0.6515\n",
            "score: 0.6515\n",
            "score: 0.6615\n",
            "score: 0.6615\n",
            "score: 0.6615\n",
            "score: 0.6615\n",
            "score: 0.6615\n",
            "score: 0.6615\n",
            "score: 0.6462\n",
            "score: 0.6462\n",
            "mean score: 0.6565 { \"C\":1e-05 \"penalty\":l1 \"solver\":liblinear \"max_iter\":5000 }\n",
            "score: 0.6515\n",
            "score: 0.6515\n",
            "score: 0.6615\n",
            "score: 0.6615\n",
            "score: 0.6615\n",
            "score: 0.6615\n",
            "score: 0.6615\n",
            "score: 0.6615\n",
            "score: 0.6462\n",
            "score: 0.6462\n",
            "mean score: 0.6565 { \"C\":0.0001 \"penalty\":l1 \"solver\":liblinear \"max_iter\":5000 }\n",
            "score: 0.6364\n",
            "score: 0.6515\n",
            "score: 0.6615\n",
            "score: 0.6308\n",
            "score: 0.6769\n",
            "score: 0.6769\n",
            "score: 0.6154\n",
            "score: 0.6615\n",
            "score: 0.6615\n",
            "score: 0.6308\n",
            "mean score: 0.6503 { \"C\":0.001 \"penalty\":l1 \"solver\":liblinear \"max_iter\":5000 }\n",
            "score: 0.7121\n",
            "score: 0.7273\n",
            "score: 0.7231\n",
            "score: 0.6615\n",
            "score: 0.6308\n",
            "score: 0.6769\n",
            "score: 0.6000\n",
            "score: 0.6769\n",
            "score: 0.6923\n",
            "score: 0.7231\n",
            "mean score: 0.6824 { \"C\":0.01 \"penalty\":l1 \"solver\":liblinear \"max_iter\":5000 }\n",
            "score: 0.7576\n",
            "score: 0.7424\n",
            "score: 0.7231\n",
            "score: 0.7231\n",
            "score: 0.6923\n",
            "score: 0.7077\n",
            "score: 0.6615\n",
            "score: 0.7077\n",
            "score: 0.7385\n",
            "score: 0.7385\n",
            "mean score: 0.7192 { \"C\":0.1 \"penalty\":l1 \"solver\":liblinear \"max_iter\":5000 }\n",
            "score: 0.8182\n",
            "score: 0.8030\n",
            "score: 0.7692\n",
            "score: 0.7538\n",
            "score: 0.7846\n",
            "score: 0.7692\n",
            "score: 0.7538\n",
            "score: 0.7846\n",
            "score: 0.7077\n",
            "score: 0.7385\n",
            "mean score: 0.7683 { \"C\":1.0 \"penalty\":l1 \"solver\":liblinear \"max_iter\":5000 }\n",
            "score: 0.8182\n",
            "score: 0.8182\n",
            "score: 0.7846\n",
            "score: 0.7538\n",
            "score: 0.7846\n",
            "score: 0.7846\n",
            "score: 0.7692\n",
            "score: 0.8000\n",
            "score: 0.7077\n",
            "score: 0.7385\n",
            "mean score: 0.7759 { \"C\":10.0 \"penalty\":l1 \"solver\":liblinear \"max_iter\":5000 }\n",
            "score: 0.8182\n",
            "score: 0.8182\n",
            "score: 0.7846\n",
            "score: 0.7538\n",
            "score: 0.7846\n",
            "score: 0.7846\n",
            "score: 0.7692\n",
            "score: 0.8000\n",
            "score: 0.7077\n",
            "score: 0.7538\n",
            "mean score: 0.7775 { \"C\":100.0 \"penalty\":l1 \"solver\":liblinear \"max_iter\":5000 }\n",
            "score: 0.8182\n",
            "score: 0.8182\n",
            "score: 0.7846\n",
            "score: 0.7538\n",
            "score: 0.7846\n",
            "score: 0.7846\n",
            "score: 0.7692\n",
            "score: 0.8000\n",
            "score: 0.7077\n",
            "score: 0.7538\n",
            "mean score: 0.7775 { \"C\":1000.0 \"penalty\":l1 \"solver\":liblinear \"max_iter\":5000 }\n",
            "score: 0.8182\n",
            "score: 0.8182\n",
            "score: 0.7846\n",
            "score: 0.7538\n",
            "score: 0.7846\n",
            "score: 0.7846\n",
            "score: 0.7692\n",
            "score: 0.8000\n",
            "score: 0.7077\n",
            "score: 0.7538\n",
            "mean score: 0.7775 { \"C\":10000.0 \"penalty\":l1 \"solver\":liblinear \"max_iter\":5000 }\n",
            "score: 0.8182\n",
            "score: 0.8182\n",
            "score: 0.7846\n",
            "score: 0.7538\n",
            "score: 0.7846\n",
            "score: 0.7846\n",
            "score: 0.7692\n",
            "score: 0.8000\n",
            "score: 0.7077\n",
            "score: 0.7538\n",
            "mean score: 0.7775 { \"C\":100000.0 \"penalty\":l1 \"solver\":liblinear \"max_iter\":5000 }\n",
            "score: 0.8182\n",
            "score: 0.8182\n",
            "score: 0.7846\n",
            "score: 0.7538\n",
            "score: 0.7846\n",
            "score: 0.7846\n",
            "score: 0.7692\n",
            "score: 0.8000\n",
            "score: 0.7077\n",
            "score: 0.7538\n",
            "mean score: 0.7775 { \"C\":1000000.0 \"penalty\":l1 \"solver\":liblinear \"max_iter\":5000 }\n",
            "score: 0.8182\n",
            "score: 0.8182\n",
            "score: 0.7846\n",
            "score: 0.7538\n",
            "score: 0.7846\n",
            "score: 0.7846\n",
            "score: 0.7692\n",
            "score: 0.8000\n",
            "score: 0.7077\n",
            "score: 0.7538\n",
            "mean score: 0.7775 { \"C\":10000000.0 \"penalty\":l1 \"solver\":liblinear \"max_iter\":5000 }\n"
          ],
          "name": "stdout"
        }
      ]
    },
    {
      "cell_type": "markdown",
      "metadata": {
        "id": "JRev-b-58NlQ"
      },
      "source": [
        "デフォルト値を採用。"
      ]
    },
    {
      "cell_type": "code",
      "metadata": {
        "id": "_b3KW2dXRU9t",
        "colab": {
          "base_uri": "https://localhost:8080/"
        },
        "outputId": "a96ca580-d1d6-4886-aa84-e3b87b88f92c"
      },
      "source": [
        "cv(skf, X_train, y_train)"
      ],
      "execution_count": 55,
      "outputs": [
        {
          "output_type": "stream",
          "text": [
            "score: 0.8333\n",
            "score: 0.8182\n",
            "score: 0.7846\n",
            "score: 0.7538\n",
            "score: 0.7846\n",
            "score: 0.7846\n",
            "score: 0.7692\n",
            "score: 0.8154\n",
            "score: 0.7077\n",
            "score: 0.7385\n",
            "mean score: 0.7790 {  }\n"
          ],
          "name": "stdout"
        }
      ]
    },
    {
      "cell_type": "markdown",
      "metadata": {
        "id": "UNavOCyN2hZr"
      },
      "source": [
        "### L) テストデータで最終評価"
      ]
    },
    {
      "cell_type": "code",
      "metadata": {
        "id": "H-c0X3gCJwsq",
        "colab": {
          "base_uri": "https://localhost:8080/"
        },
        "outputId": "6cb2d695-beb0-4969-8945-1b2403c136d0"
      },
      "source": [
        "logreg = LogisticRegression(C=10, max_iter=1000, random_state=123)\n",
        "logreg.fit(X_train, y_train)\n",
        "print('test score: {:.4f}'.format(logreg.score(X_test, y_test)))"
      ],
      "execution_count": 56,
      "outputs": [
        {
          "output_type": "stream",
          "text": [
            "test score: 0.7759\n"
          ],
          "name": "stdout"
        }
      ]
    },
    {
      "cell_type": "code",
      "metadata": {
        "id": "KayAjOl5x_On",
        "colab": {
          "base_uri": "https://localhost:8080/"
        },
        "outputId": "65deaedc-2508-48cb-c3ae-2caebbb839a7"
      },
      "source": [
        "y_test_pred_proba = logreg.predict_proba(X_test)\n",
        "print('ROC AUC: {:.4f}'.format(roc_auc_score(y_test, y_test_pred_proba[:,1])))"
      ],
      "execution_count": 57,
      "outputs": [
        {
          "output_type": "stream",
          "text": [
            "ROC AUC: 0.8788\n"
          ],
          "name": "stdout"
        }
      ]
    },
    {
      "cell_type": "code",
      "metadata": {
        "id": "WopC3aJ02PVO",
        "colab": {
          "base_uri": "https://localhost:8080/",
          "height": 312
        },
        "outputId": "4071725e-ab99-4bc9-d2fa-56a400fa07b4"
      },
      "source": [
        "y_score = logreg_baseline.decision_function(X_test_original) # ベースラインには元のテストデータを使う\n",
        "fpr, tpr, _ = roc_curve(y_test, y_score)\n",
        "roc_auc = auc(fpr, tpr)\n",
        "\n",
        "y_score_ours = logreg.decision_function(X_test)\n",
        "fpr_ours, tpr_ours, _ = roc_curve(y_test, y_score_ours)\n",
        "roc_auc_ours = auc(fpr_ours, tpr_ours)\n",
        "\n",
        "plt.plot(fpr, tpr, color='darkorange', label=f'ROC curve (area = {roc_auc:.4f})')\n",
        "plt.plot(fpr_ours, tpr_ours, color='firebrick', label=f'ROC curve (area = {roc_auc_ours:.4f})')\n",
        "plt.plot([0, 1], [0, 1], color='navy', linestyle='--')\n",
        "plt.xlim([0.0, 1.0])\n",
        "plt.ylim([0.0, 1.05])\n",
        "plt.xlabel('False Positive Rate')\n",
        "plt.ylabel('True Positive Rate')\n",
        "plt.title('Receiver operating characteristic example')\n",
        "plt.legend(loc=\"lower right\")"
      ],
      "execution_count": 60,
      "outputs": [
        {
          "output_type": "execute_result",
          "data": {
            "text/plain": [
              "<matplotlib.legend.Legend at 0x7fc5105d4090>"
            ]
          },
          "metadata": {
            "tags": []
          },
          "execution_count": 60
        },
        {
          "output_type": "display_data",
          "data": {
            "image/png": "[encoded data removed]",
            "text/plain": [
              "<Figure size 432x288 with 1 Axes>"
            ]
          },
          "metadata": {
            "tags": [],
            "image/png": {
              "width": 393,
              "height": 277
            },
            "needs_background": "light"
          }
        }
      ]
    }
  ]
}