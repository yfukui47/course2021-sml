{
  "nbformat": 4,
  "nbformat_minor": 0,
  "metadata": {
    "colab": {
      "name": "05_nearest_neighbors_2 (in class).ipynb",
      "provenance": [],
      "collapsed_sections": [],
      "include_colab_link": true
    },
    "kernelspec": {
      "name": "python3",
      "display_name": "Python 3"
    },
    "accelerator": "GPU"
  },
  "cells": [
    {
      "cell_type": "markdown",
      "metadata": {
        "id": "view-in-github",
        "colab_type": "text"
      },
      "source": [
        "<a href=\"https://colab.research.google.com/github/tomonari-masada/course2021-sml/blob/main/05_nearest_neighbors_2_(in_class).ipynb\" target=\"_parent\"><img src=\"https://colab.research.google.com/assets/colab-badge.svg\" alt=\"Open In Colab\"/></a>"
      ]
    },
    {
      "cell_type": "markdown",
      "metadata": {
        "id": "XjBWCxMKQWQQ"
      },
      "source": [
        "# 5. k近傍法（続）\n",
        "* 今回は、近傍の個数kの値をどのようにして決めるかを考える。"
      ]
    },
    {
      "cell_type": "code",
      "metadata": {
        "colab": {
          "base_uri": "https://localhost:8080/"
        },
        "id": "Q1E6pzKHVNdY",
        "outputId": "3538b4a5-711f-45fc-909b-d44bd1ee8dd5"
      },
      "source": [
        "from google.colab import drive\n",
        "drive.mount('/content/drive')"
      ],
      "execution_count": 1,
      "outputs": [
        {
          "output_type": "stream",
          "text": [
            "Mounted at /content/drive\n"
          ],
          "name": "stdout"
        }
      ]
    },
    {
      "cell_type": "markdown",
      "metadata": {
        "id": "yr7h0hM5madL"
      },
      "source": [
        "## 5.1 準備"
      ]
    },
    {
      "cell_type": "markdown",
      "metadata": {
        "id": "2HClwh0oTuKW"
      },
      "source": [
        "### 5.1.1 インポート"
      ]
    },
    {
      "cell_type": "code",
      "metadata": {
        "id": "kKt4G60aQG5a"
      },
      "source": [
        "import numpy as np\n",
        "import pandas as pd\n",
        "import matplotlib.pyplot as plt\n",
        "\n",
        "%config InlineBackend.figure_format = 'retina'"
      ],
      "execution_count": 2,
      "outputs": []
    },
    {
      "cell_type": "code",
      "metadata": {
        "id": "SLo5Zvmsl1fY"
      },
      "source": [
        "#import warnings\n",
        "#warnings.filterwarnings('ignore')"
      ],
      "execution_count": null,
      "outputs": []
    },
    {
      "cell_type": "markdown",
      "metadata": {
        "id": "xndm9EMkT4sn"
      },
      "source": [
        "### 5.1.2 データファイルのアップロード"
      ]
    },
    {
      "cell_type": "markdown",
      "metadata": {
        "id": "0HIgiloQc9xb"
      },
      "source": [
        "* `lifesat.csv`をアップロードする。"
      ]
    },
    {
      "cell_type": "code",
      "metadata": {
        "id": "jk0oEyN9lwzh"
      },
      "source": [
        "from google.colab import files\n",
        "files.upload()"
      ],
      "execution_count": null,
      "outputs": []
    },
    {
      "cell_type": "markdown",
      "metadata": {
        "id": "Ja_Py6ftmd-q"
      },
      "source": [
        "### 5.1.3 データファイルの読み込み\n",
        "* 今回は、ファイルを読み込むときに、国名をインデックスに設定してしまう。\n",
        " * index_col引数を使っている。"
      ]
    },
    {
      "cell_type": "code",
      "metadata": {
        "id": "ZeFRSbhadE_P"
      },
      "source": [
        "df = pd.read_csv('/content/drive/MyDrive/2021Courses/SML/lifesat.csv', index_col=0)"
      ],
      "execution_count": 3,
      "outputs": []
    },
    {
      "cell_type": "code",
      "metadata": {
        "id": "KNWLCLZYQT1b",
        "colab": {
          "base_uri": "https://localhost:8080/",
          "height": 969
        },
        "outputId": "7e096619-bcaf-4a4e-c169-6b0d09ef4f0f"
      },
      "source": [
        "df"
      ],
      "execution_count": 4,
      "outputs": [
        {
          "output_type": "execute_result",
          "data": {
            "text/html": [
              "<div>\n",
              "<style scoped>\n",
              "    .dataframe tbody tr th:only-of-type {\n",
              "        vertical-align: middle;\n",
              "    }\n",
              "\n",
              "    .dataframe tbody tr th {\n",
              "        vertical-align: top;\n",
              "    }\n",
              "\n",
              "    .dataframe thead th {\n",
              "        text-align: right;\n",
              "    }\n",
              "</style>\n",
              "<table border=\"1\" class=\"dataframe\">\n",
              "  <thead>\n",
              "    <tr style=\"text-align: right;\">\n",
              "      <th></th>\n",
              "      <th>GDP per capita</th>\n",
              "      <th>Life satisfaction</th>\n",
              "    </tr>\n",
              "    <tr>\n",
              "      <th>Country</th>\n",
              "      <th></th>\n",
              "      <th></th>\n",
              "    </tr>\n",
              "  </thead>\n",
              "  <tbody>\n",
              "    <tr>\n",
              "      <th>Russia</th>\n",
              "      <td>9054.914</td>\n",
              "      <td>6.0</td>\n",
              "    </tr>\n",
              "    <tr>\n",
              "      <th>Turkey</th>\n",
              "      <td>9437.372</td>\n",
              "      <td>5.6</td>\n",
              "    </tr>\n",
              "    <tr>\n",
              "      <th>Hungary</th>\n",
              "      <td>12239.894</td>\n",
              "      <td>4.9</td>\n",
              "    </tr>\n",
              "    <tr>\n",
              "      <th>Poland</th>\n",
              "      <td>12495.334</td>\n",
              "      <td>5.8</td>\n",
              "    </tr>\n",
              "    <tr>\n",
              "      <th>Slovak Republic</th>\n",
              "      <td>15991.736</td>\n",
              "      <td>6.1</td>\n",
              "    </tr>\n",
              "    <tr>\n",
              "      <th>Estonia</th>\n",
              "      <td>17288.083</td>\n",
              "      <td>5.6</td>\n",
              "    </tr>\n",
              "    <tr>\n",
              "      <th>Greece</th>\n",
              "      <td>18064.288</td>\n",
              "      <td>4.8</td>\n",
              "    </tr>\n",
              "    <tr>\n",
              "      <th>Portugal</th>\n",
              "      <td>19121.592</td>\n",
              "      <td>5.1</td>\n",
              "    </tr>\n",
              "    <tr>\n",
              "      <th>Slovenia</th>\n",
              "      <td>20732.482</td>\n",
              "      <td>5.7</td>\n",
              "    </tr>\n",
              "    <tr>\n",
              "      <th>Spain</th>\n",
              "      <td>25864.721</td>\n",
              "      <td>6.5</td>\n",
              "    </tr>\n",
              "    <tr>\n",
              "      <th>Korea</th>\n",
              "      <td>27195.197</td>\n",
              "      <td>5.8</td>\n",
              "    </tr>\n",
              "    <tr>\n",
              "      <th>Italy</th>\n",
              "      <td>29866.581</td>\n",
              "      <td>6.0</td>\n",
              "    </tr>\n",
              "    <tr>\n",
              "      <th>Japan</th>\n",
              "      <td>32485.545</td>\n",
              "      <td>5.9</td>\n",
              "    </tr>\n",
              "    <tr>\n",
              "      <th>Israel</th>\n",
              "      <td>35343.336</td>\n",
              "      <td>7.4</td>\n",
              "    </tr>\n",
              "    <tr>\n",
              "      <th>New Zealand</th>\n",
              "      <td>37044.891</td>\n",
              "      <td>7.3</td>\n",
              "    </tr>\n",
              "    <tr>\n",
              "      <th>France</th>\n",
              "      <td>37675.006</td>\n",
              "      <td>6.5</td>\n",
              "    </tr>\n",
              "    <tr>\n",
              "      <th>Belgium</th>\n",
              "      <td>40106.632</td>\n",
              "      <td>6.9</td>\n",
              "    </tr>\n",
              "    <tr>\n",
              "      <th>Germany</th>\n",
              "      <td>40996.511</td>\n",
              "      <td>7.0</td>\n",
              "    </tr>\n",
              "    <tr>\n",
              "      <th>Finland</th>\n",
              "      <td>41973.988</td>\n",
              "      <td>7.4</td>\n",
              "    </tr>\n",
              "    <tr>\n",
              "      <th>Canada</th>\n",
              "      <td>43331.961</td>\n",
              "      <td>7.3</td>\n",
              "    </tr>\n",
              "    <tr>\n",
              "      <th>Netherlands</th>\n",
              "      <td>43603.115</td>\n",
              "      <td>7.3</td>\n",
              "    </tr>\n",
              "    <tr>\n",
              "      <th>Austria</th>\n",
              "      <td>43724.031</td>\n",
              "      <td>6.9</td>\n",
              "    </tr>\n",
              "    <tr>\n",
              "      <th>United Kingdom</th>\n",
              "      <td>43770.688</td>\n",
              "      <td>6.8</td>\n",
              "    </tr>\n",
              "    <tr>\n",
              "      <th>Sweden</th>\n",
              "      <td>49866.266</td>\n",
              "      <td>7.2</td>\n",
              "    </tr>\n",
              "    <tr>\n",
              "      <th>Iceland</th>\n",
              "      <td>50854.583</td>\n",
              "      <td>7.5</td>\n",
              "    </tr>\n",
              "    <tr>\n",
              "      <th>Australia</th>\n",
              "      <td>50961.865</td>\n",
              "      <td>7.3</td>\n",
              "    </tr>\n",
              "    <tr>\n",
              "      <th>Ireland</th>\n",
              "      <td>51350.744</td>\n",
              "      <td>7.0</td>\n",
              "    </tr>\n",
              "    <tr>\n",
              "      <th>Denmark</th>\n",
              "      <td>52114.165</td>\n",
              "      <td>7.5</td>\n",
              "    </tr>\n",
              "    <tr>\n",
              "      <th>United States</th>\n",
              "      <td>55805.204</td>\n",
              "      <td>7.2</td>\n",
              "    </tr>\n",
              "  </tbody>\n",
              "</table>\n",
              "</div>"
            ],
            "text/plain": [
              "                 GDP per capita  Life satisfaction\n",
              "Country                                           \n",
              "Russia                 9054.914                6.0\n",
              "Turkey                 9437.372                5.6\n",
              "Hungary               12239.894                4.9\n",
              "Poland                12495.334                5.8\n",
              "Slovak Republic       15991.736                6.1\n",
              "Estonia               17288.083                5.6\n",
              "Greece                18064.288                4.8\n",
              "Portugal              19121.592                5.1\n",
              "Slovenia              20732.482                5.7\n",
              "Spain                 25864.721                6.5\n",
              "Korea                 27195.197                5.8\n",
              "Italy                 29866.581                6.0\n",
              "Japan                 32485.545                5.9\n",
              "Israel                35343.336                7.4\n",
              "New Zealand           37044.891                7.3\n",
              "France                37675.006                6.5\n",
              "Belgium               40106.632                6.9\n",
              "Germany               40996.511                7.0\n",
              "Finland               41973.988                7.4\n",
              "Canada                43331.961                7.3\n",
              "Netherlands           43603.115                7.3\n",
              "Austria               43724.031                6.9\n",
              "United Kingdom        43770.688                6.8\n",
              "Sweden                49866.266                7.2\n",
              "Iceland               50854.583                7.5\n",
              "Australia             50961.865                7.3\n",
              "Ireland               51350.744                7.0\n",
              "Denmark               52114.165                7.5\n",
              "United States         55805.204                7.2"
            ]
          },
          "metadata": {
            "tags": []
          },
          "execution_count": 4
        }
      ]
    },
    {
      "cell_type": "code",
      "metadata": {
        "id": "Clcd6Rxym1Xa",
        "colab": {
          "base_uri": "https://localhost:8080/",
          "height": 294
        },
        "outputId": "76be18e0-9733-4378-f5b7-dca88414dfc6"
      },
      "source": [
        "df.describe()"
      ],
      "execution_count": 5,
      "outputs": [
        {
          "output_type": "execute_result",
          "data": {
            "text/html": [
              "<div>\n",
              "<style scoped>\n",
              "    .dataframe tbody tr th:only-of-type {\n",
              "        vertical-align: middle;\n",
              "    }\n",
              "\n",
              "    .dataframe tbody tr th {\n",
              "        vertical-align: top;\n",
              "    }\n",
              "\n",
              "    .dataframe thead th {\n",
              "        text-align: right;\n",
              "    }\n",
              "</style>\n",
              "<table border=\"1\" class=\"dataframe\">\n",
              "  <thead>\n",
              "    <tr style=\"text-align: right;\">\n",
              "      <th></th>\n",
              "      <th>GDP per capita</th>\n",
              "      <th>Life satisfaction</th>\n",
              "    </tr>\n",
              "  </thead>\n",
              "  <tbody>\n",
              "    <tr>\n",
              "      <th>count</th>\n",
              "      <td>29.000000</td>\n",
              "      <td>29.000000</td>\n",
              "    </tr>\n",
              "    <tr>\n",
              "      <th>mean</th>\n",
              "      <td>33391.749138</td>\n",
              "      <td>6.493103</td>\n",
              "    </tr>\n",
              "    <tr>\n",
              "      <th>std</th>\n",
              "      <td>14650.076056</td>\n",
              "      <td>0.839613</td>\n",
              "    </tr>\n",
              "    <tr>\n",
              "      <th>min</th>\n",
              "      <td>9054.914000</td>\n",
              "      <td>4.800000</td>\n",
              "    </tr>\n",
              "    <tr>\n",
              "      <th>25%</th>\n",
              "      <td>19121.592000</td>\n",
              "      <td>5.800000</td>\n",
              "    </tr>\n",
              "    <tr>\n",
              "      <th>50%</th>\n",
              "      <td>37044.891000</td>\n",
              "      <td>6.800000</td>\n",
              "    </tr>\n",
              "    <tr>\n",
              "      <th>75%</th>\n",
              "      <td>43724.031000</td>\n",
              "      <td>7.300000</td>\n",
              "    </tr>\n",
              "    <tr>\n",
              "      <th>max</th>\n",
              "      <td>55805.204000</td>\n",
              "      <td>7.500000</td>\n",
              "    </tr>\n",
              "  </tbody>\n",
              "</table>\n",
              "</div>"
            ],
            "text/plain": [
              "       GDP per capita  Life satisfaction\n",
              "count       29.000000          29.000000\n",
              "mean     33391.749138           6.493103\n",
              "std      14650.076056           0.839613\n",
              "min       9054.914000           4.800000\n",
              "25%      19121.592000           5.800000\n",
              "50%      37044.891000           6.800000\n",
              "75%      43724.031000           7.300000\n",
              "max      55805.204000           7.500000"
            ]
          },
          "metadata": {
            "tags": []
          },
          "execution_count": 5
        }
      ]
    },
    {
      "cell_type": "code",
      "metadata": {
        "id": "gpqykVotm3YT",
        "colab": {
          "base_uri": "https://localhost:8080/"
        },
        "outputId": "3a004450-a458-4595-b6f8-371e77c55702"
      },
      "source": [
        "df.info()"
      ],
      "execution_count": 6,
      "outputs": [
        {
          "output_type": "stream",
          "text": [
            "<class 'pandas.core.frame.DataFrame'>\n",
            "Index: 29 entries, Russia to United States\n",
            "Data columns (total 2 columns):\n",
            " #   Column             Non-Null Count  Dtype  \n",
            "---  ------             --------------  -----  \n",
            " 0   GDP per capita     29 non-null     float64\n",
            " 1   Life satisfaction  29 non-null     float64\n",
            "dtypes: float64(2)\n",
            "memory usage: 696.0+ bytes\n"
          ],
          "name": "stdout"
        }
      ]
    },
    {
      "cell_type": "code",
      "metadata": {
        "id": "zL4GOVPLRBOw",
        "colab": {
          "base_uri": "https://localhost:8080/",
          "height": 351
        },
        "outputId": "17ac3eb9-67bb-4320-be03-295ddb67c0e1"
      },
      "source": [
        "fig, ax = plt.subplots(1, 1, figsize=(8, 5))\n",
        "df.plot(kind='scatter', x='GDP per capita', y='Life satisfaction', ax=ax)"
      ],
      "execution_count": 7,
      "outputs": [
        {
          "output_type": "execute_result",
          "data": {
            "text/plain": [
              "<matplotlib.axes._subplots.AxesSubplot at 0x7f2941ae3c90>"
            ]
          },
          "metadata": {
            "tags": []
          },
          "execution_count": 7
        },
        {
          "output_type": "display_data",
          "data": {
            "image/png": "[encoded data removed]",
            "text/plain": [
              "<Figure size 576x360 with 1 Axes>"
            ]
          },
          "metadata": {
            "tags": [],
            "image/png": {
              "width": 497,
              "height": 316
            },
            "needs_background": "light"
          }
        }
      ]
    },
    {
      "cell_type": "markdown",
      "metadata": {
        "id": "78DFhidVpLXU"
      },
      "source": [
        "## 5.2 訓練データ/検証データ/テストデータ\n"
      ]
    },
    {
      "cell_type": "markdown",
      "metadata": {
        "id": "tZ6Qai3iRG-q"
      },
      "source": [
        "### 5.2.1 問題設定\n",
        "- 一人当たりのGDPから生活満足度を予測したい。\n",
        "- 今回も、日本の生活満足度を予測するという設定。\n",
        "- 一人当たりのGDPを使って日本の近傍を見つけ、その近傍の生活満足度を予測に利用する。\n",
        "- 予測の良し悪しは、実際の値との差の絶対値で評価する。"
      ]
    },
    {
      "cell_type": "markdown",
      "metadata": {
        "id": "TKEUXi-WWVN2"
      },
      "source": [
        "### 5.2.2 テストデータ"
      ]
    },
    {
      "cell_type": "markdown",
      "metadata": {
        "id": "FPB1JLU9Vc6n"
      },
      "source": [
        "* 今回も、日本の生活満足度を予測する、という問題を考える。\n",
        "* 最終的にはそれについて予測をおこないたいデータを、テストデータと呼ぶ。\n",
        "* よって、日本のデータが、テストデータになる。\n"
      ]
    },
    {
      "cell_type": "markdown",
      "metadata": {
        "id": "QQUQC828WYmN"
      },
      "source": [
        "### 5.2.3 検証データ"
      ]
    },
    {
      "cell_type": "markdown",
      "metadata": {
        "id": "E83Tq5IpVf_g"
      },
      "source": [
        "* 今回は、何らかの方法で、最適な近傍の個数kを求めたい。\n",
        "* しかし、日本の生活満足度を予測させて、その予測誤差を見ながらkを決めるのでは、カンニングしていることになる。\n",
        "* 日本の生活満足度の正解の値を見ずに、kを決める方法はないだろうか。\n"
      ]
    },
    {
      "cell_type": "markdown",
      "metadata": {
        "id": "5LicdakvVsX4"
      },
      "source": [
        "* そこで、テストデータ以外のデータを使って、予測問題を解く。\n",
        " * テストデータ以外については、正解、つまり、生活満足度は、分かっているとしてよい。\n",
        "* テストデータ以外のデータの中から、国を一つ選んで（例えば韓国）、その国について最も良い予測を与えるkを調べる。\n",
        "* このとき選ばれた国のデータを、検証データと呼ぶ。\n",
        " * 本当に予測をしたいデータではないが、検証validationのためにそれについて予測をおこなうデータ。\n",
        "* 検証データ上で予測を行うことで得られた最適なkの値を、日本についての予測で使う。\n",
        " * テストデータでも検証データでもないデータを、訓練データと呼ぶ。"
      ]
    },
    {
      "cell_type": "markdown",
      "metadata": {
        "id": "YzbcCPGTXDgA"
      },
      "source": [
        "## 5.3 検証データを使った最適なkの決定\n",
        "* ここでは、韓国を検証データとして使う。\n",
        "* 日本はそもそも除外しておく。\n",
        "* 日本以外のデータを使って、韓国の生活満足度を予測してみる。\n",
        "* そして、最も良い予測値を与えるkがいくらか、調べる。"
      ]
    },
    {
      "cell_type": "code",
      "metadata": {
        "id": "GSV7xJlBYZGB"
      },
      "source": [
        "from sklearn.neighbors import KNeighborsRegressor"
      ],
      "execution_count": 8,
      "outputs": []
    },
    {
      "cell_type": "code",
      "metadata": {
        "id": "6FP_IPaTZIEU"
      },
      "source": [
        "neigh = KNeighborsRegressor(n_neighbors=3)"
      ],
      "execution_count": 9,
      "outputs": []
    },
    {
      "cell_type": "code",
      "metadata": {
        "id": "qbX87uR7Zhqf"
      },
      "source": [
        "df2 = df[df.index != 'Japan'] # テストデータはのけておく"
      ],
      "execution_count": 11,
      "outputs": []
    },
    {
      "cell_type": "code",
      "metadata": {
        "colab": {
          "base_uri": "https://localhost:8080/",
          "height": 938
        },
        "id": "zcfEaXiQZ65d",
        "outputId": "c75f0ddb-c662-48ec-b809-4943972abbf9"
      },
      "source": [
        "df2"
      ],
      "execution_count": 12,
      "outputs": [
        {
          "output_type": "execute_result",
          "data": {
            "text/html": [
              "<div>\n",
              "<style scoped>\n",
              "    .dataframe tbody tr th:only-of-type {\n",
              "        vertical-align: middle;\n",
              "    }\n",
              "\n",
              "    .dataframe tbody tr th {\n",
              "        vertical-align: top;\n",
              "    }\n",
              "\n",
              "    .dataframe thead th {\n",
              "        text-align: right;\n",
              "    }\n",
              "</style>\n",
              "<table border=\"1\" class=\"dataframe\">\n",
              "  <thead>\n",
              "    <tr style=\"text-align: right;\">\n",
              "      <th></th>\n",
              "      <th>GDP per capita</th>\n",
              "      <th>Life satisfaction</th>\n",
              "    </tr>\n",
              "    <tr>\n",
              "      <th>Country</th>\n",
              "      <th></th>\n",
              "      <th></th>\n",
              "    </tr>\n",
              "  </thead>\n",
              "  <tbody>\n",
              "    <tr>\n",
              "      <th>Russia</th>\n",
              "      <td>9054.914</td>\n",
              "      <td>6.0</td>\n",
              "    </tr>\n",
              "    <tr>\n",
              "      <th>Turkey</th>\n",
              "      <td>9437.372</td>\n",
              "      <td>5.6</td>\n",
              "    </tr>\n",
              "    <tr>\n",
              "      <th>Hungary</th>\n",
              "      <td>12239.894</td>\n",
              "      <td>4.9</td>\n",
              "    </tr>\n",
              "    <tr>\n",
              "      <th>Poland</th>\n",
              "      <td>12495.334</td>\n",
              "      <td>5.8</td>\n",
              "    </tr>\n",
              "    <tr>\n",
              "      <th>Slovak Republic</th>\n",
              "      <td>15991.736</td>\n",
              "      <td>6.1</td>\n",
              "    </tr>\n",
              "    <tr>\n",
              "      <th>Estonia</th>\n",
              "      <td>17288.083</td>\n",
              "      <td>5.6</td>\n",
              "    </tr>\n",
              "    <tr>\n",
              "      <th>Greece</th>\n",
              "      <td>18064.288</td>\n",
              "      <td>4.8</td>\n",
              "    </tr>\n",
              "    <tr>\n",
              "      <th>Portugal</th>\n",
              "      <td>19121.592</td>\n",
              "      <td>5.1</td>\n",
              "    </tr>\n",
              "    <tr>\n",
              "      <th>Slovenia</th>\n",
              "      <td>20732.482</td>\n",
              "      <td>5.7</td>\n",
              "    </tr>\n",
              "    <tr>\n",
              "      <th>Spain</th>\n",
              "      <td>25864.721</td>\n",
              "      <td>6.5</td>\n",
              "    </tr>\n",
              "    <tr>\n",
              "      <th>Korea</th>\n",
              "      <td>27195.197</td>\n",
              "      <td>5.8</td>\n",
              "    </tr>\n",
              "    <tr>\n",
              "      <th>Italy</th>\n",
              "      <td>29866.581</td>\n",
              "      <td>6.0</td>\n",
              "    </tr>\n",
              "    <tr>\n",
              "      <th>Israel</th>\n",
              "      <td>35343.336</td>\n",
              "      <td>7.4</td>\n",
              "    </tr>\n",
              "    <tr>\n",
              "      <th>New Zealand</th>\n",
              "      <td>37044.891</td>\n",
              "      <td>7.3</td>\n",
              "    </tr>\n",
              "    <tr>\n",
              "      <th>France</th>\n",
              "      <td>37675.006</td>\n",
              "      <td>6.5</td>\n",
              "    </tr>\n",
              "    <tr>\n",
              "      <th>Belgium</th>\n",
              "      <td>40106.632</td>\n",
              "      <td>6.9</td>\n",
              "    </tr>\n",
              "    <tr>\n",
              "      <th>Germany</th>\n",
              "      <td>40996.511</td>\n",
              "      <td>7.0</td>\n",
              "    </tr>\n",
              "    <tr>\n",
              "      <th>Finland</th>\n",
              "      <td>41973.988</td>\n",
              "      <td>7.4</td>\n",
              "    </tr>\n",
              "    <tr>\n",
              "      <th>Canada</th>\n",
              "      <td>43331.961</td>\n",
              "      <td>7.3</td>\n",
              "    </tr>\n",
              "    <tr>\n",
              "      <th>Netherlands</th>\n",
              "      <td>43603.115</td>\n",
              "      <td>7.3</td>\n",
              "    </tr>\n",
              "    <tr>\n",
              "      <th>Austria</th>\n",
              "      <td>43724.031</td>\n",
              "      <td>6.9</td>\n",
              "    </tr>\n",
              "    <tr>\n",
              "      <th>United Kingdom</th>\n",
              "      <td>43770.688</td>\n",
              "      <td>6.8</td>\n",
              "    </tr>\n",
              "    <tr>\n",
              "      <th>Sweden</th>\n",
              "      <td>49866.266</td>\n",
              "      <td>7.2</td>\n",
              "    </tr>\n",
              "    <tr>\n",
              "      <th>Iceland</th>\n",
              "      <td>50854.583</td>\n",
              "      <td>7.5</td>\n",
              "    </tr>\n",
              "    <tr>\n",
              "      <th>Australia</th>\n",
              "      <td>50961.865</td>\n",
              "      <td>7.3</td>\n",
              "    </tr>\n",
              "    <tr>\n",
              "      <th>Ireland</th>\n",
              "      <td>51350.744</td>\n",
              "      <td>7.0</td>\n",
              "    </tr>\n",
              "    <tr>\n",
              "      <th>Denmark</th>\n",
              "      <td>52114.165</td>\n",
              "      <td>7.5</td>\n",
              "    </tr>\n",
              "    <tr>\n",
              "      <th>United States</th>\n",
              "      <td>55805.204</td>\n",
              "      <td>7.2</td>\n",
              "    </tr>\n",
              "  </tbody>\n",
              "</table>\n",
              "</div>"
            ],
            "text/plain": [
              "                 GDP per capita  Life satisfaction\n",
              "Country                                           \n",
              "Russia                 9054.914                6.0\n",
              "Turkey                 9437.372                5.6\n",
              "Hungary               12239.894                4.9\n",
              "Poland                12495.334                5.8\n",
              "Slovak Republic       15991.736                6.1\n",
              "Estonia               17288.083                5.6\n",
              "Greece                18064.288                4.8\n",
              "Portugal              19121.592                5.1\n",
              "Slovenia              20732.482                5.7\n",
              "Spain                 25864.721                6.5\n",
              "Korea                 27195.197                5.8\n",
              "Italy                 29866.581                6.0\n",
              "Israel                35343.336                7.4\n",
              "New Zealand           37044.891                7.3\n",
              "France                37675.006                6.5\n",
              "Belgium               40106.632                6.9\n",
              "Germany               40996.511                7.0\n",
              "Finland               41973.988                7.4\n",
              "Canada                43331.961                7.3\n",
              "Netherlands           43603.115                7.3\n",
              "Austria               43724.031                6.9\n",
              "United Kingdom        43770.688                6.8\n",
              "Sweden                49866.266                7.2\n",
              "Iceland               50854.583                7.5\n",
              "Australia             50961.865                7.3\n",
              "Ireland               51350.744                7.0\n",
              "Denmark               52114.165                7.5\n",
              "United States         55805.204                7.2"
            ]
          },
          "metadata": {
            "tags": []
          },
          "execution_count": 12
        }
      ]
    },
    {
      "cell_type": "code",
      "metadata": {
        "id": "Un7efj6PaNp5"
      },
      "source": [
        "df_train = df2[df2.index != 'Korea']\n",
        "df_valid = df2.loc['Korea']"
      ],
      "execution_count": 18,
      "outputs": []
    },
    {
      "cell_type": "code",
      "metadata": {
        "colab": {
          "base_uri": "https://localhost:8080/"
        },
        "id": "4g-cJvt1aQXu",
        "outputId": "477a457b-dea3-415f-d9c9-99217be6d806"
      },
      "source": [
        "df_valid"
      ],
      "execution_count": 37,
      "outputs": [
        {
          "output_type": "execute_result",
          "data": {
            "text/plain": [
              "GDP per capita       27195.197\n",
              "Life satisfaction        5.800\n",
              "Name: Korea, dtype: float64"
            ]
          },
          "metadata": {
            "tags": []
          },
          "execution_count": 37
        }
      ]
    },
    {
      "cell_type": "markdown",
      "metadata": {
        "id": "gtvMM0aQX8mL"
      },
      "source": [
        "### 5.3.1 演習"
      ]
    },
    {
      "cell_type": "markdown",
      "metadata": {
        "id": "LxRtVmt_Xs2o"
      },
      "source": [
        "* 演習問題5-1：日本を除去したデータフレームを作ろう。"
      ]
    },
    {
      "cell_type": "code",
      "metadata": {
        "id": "1sxiz6sNX-os"
      },
      "source": [
        "df2 = df[df.index != 'Japan'] # テストデータはのけておく"
      ],
      "execution_count": null,
      "outputs": []
    },
    {
      "cell_type": "markdown",
      "metadata": {
        "id": "XWYuFav7X_OD"
      },
      "source": [
        "* 演習問題5-2：前回と同じ方法で、韓国の生活満足度を予測し、最も良い予測値を与えるkを調べよう。"
      ]
    },
    {
      "cell_type": "code",
      "metadata": {
        "id": "oeJe6l_BbOET"
      },
      "source": [
        "neigh = KNeighborsRegressor(n_neighbors=3)"
      ],
      "execution_count": 22,
      "outputs": []
    },
    {
      "cell_type": "code",
      "metadata": {
        "id": "r8TDm2PhbOBE"
      },
      "source": [
        "X_train = df_train['GDP per capita'].to_numpy()"
      ],
      "execution_count": 27,
      "outputs": []
    },
    {
      "cell_type": "code",
      "metadata": {
        "colab": {
          "base_uri": "https://localhost:8080/"
        },
        "id": "PlQwMNDdcEOu",
        "outputId": "a7dfcf5e-c652-43bf-fa71-c26b1fe366ca"
      },
      "source": [
        "X_train"
      ],
      "execution_count": 29,
      "outputs": [
        {
          "output_type": "execute_result",
          "data": {
            "text/plain": [
              "array([ 9054.914,  9437.372, 12239.894, 12495.334, 15991.736, 17288.083,\n",
              "       18064.288, 19121.592, 20732.482, 25864.721, 29866.581, 35343.336,\n",
              "       37044.891, 37675.006, 40106.632, 40996.511, 41973.988, 43331.961,\n",
              "       43603.115, 43724.031, 43770.688, 49866.266, 50854.583, 50961.865,\n",
              "       51350.744, 52114.165, 55805.204])"
            ]
          },
          "metadata": {
            "tags": []
          },
          "execution_count": 29
        }
      ]
    },
    {
      "cell_type": "code",
      "metadata": {
        "id": "PN7pHCUDYHmU"
      },
      "source": [
        "y_train = df_train['Life satisfaction'].to_numpy()"
      ],
      "execution_count": 28,
      "outputs": []
    },
    {
      "cell_type": "code",
      "metadata": {
        "colab": {
          "base_uri": "https://localhost:8080/"
        },
        "id": "YkO-8kJIcFy_",
        "outputId": "e96690bc-899f-41e4-c487-667656627ae1"
      },
      "source": [
        "y_train"
      ],
      "execution_count": 30,
      "outputs": [
        {
          "output_type": "execute_result",
          "data": {
            "text/plain": [
              "array([6. , 5.6, 4.9, 5.8, 6.1, 5.6, 4.8, 5.1, 5.7, 6.5, 6. , 7.4, 7.3,\n",
              "       6.5, 6.9, 7. , 7.4, 7.3, 7.3, 6.9, 6.8, 7.2, 7.5, 7.3, 7. , 7.5,\n",
              "       7.2])"
            ]
          },
          "metadata": {
            "tags": []
          },
          "execution_count": 30
        }
      ]
    },
    {
      "cell_type": "code",
      "metadata": {
        "id": "19xjhAwac-Do"
      },
      "source": [
        "X_train = X_train.reshape(-1, 1)"
      ],
      "execution_count": 34,
      "outputs": []
    },
    {
      "cell_type": "code",
      "metadata": {
        "colab": {
          "base_uri": "https://localhost:8080/"
        },
        "id": "afHKeNCRdYIU",
        "outputId": "b7337439-fa5d-4f28-d2f8-0c1c6d724b9c"
      },
      "source": [
        "X_train"
      ],
      "execution_count": 35,
      "outputs": [
        {
          "output_type": "execute_result",
          "data": {
            "text/plain": [
              "array([[ 9054.914],\n",
              "       [ 9437.372],\n",
              "       [12239.894],\n",
              "       [12495.334],\n",
              "       [15991.736],\n",
              "       [17288.083],\n",
              "       [18064.288],\n",
              "       [19121.592],\n",
              "       [20732.482],\n",
              "       [25864.721],\n",
              "       [29866.581],\n",
              "       [35343.336],\n",
              "       [37044.891],\n",
              "       [37675.006],\n",
              "       [40106.632],\n",
              "       [40996.511],\n",
              "       [41973.988],\n",
              "       [43331.961],\n",
              "       [43603.115],\n",
              "       [43724.031],\n",
              "       [43770.688],\n",
              "       [49866.266],\n",
              "       [50854.583],\n",
              "       [50961.865],\n",
              "       [51350.744],\n",
              "       [52114.165],\n",
              "       [55805.204]])"
            ]
          },
          "metadata": {
            "tags": []
          },
          "execution_count": 35
        }
      ]
    },
    {
      "cell_type": "code",
      "metadata": {
        "colab": {
          "base_uri": "https://localhost:8080/"
        },
        "id": "C2Oo6yjCcITW",
        "outputId": "3d6756cd-f96e-4458-9561-5f62b8c3a3ed"
      },
      "source": [
        "neigh.fit(X_train, y_train) # 予測器くんにデータを渡す"
      ],
      "execution_count": 36,
      "outputs": [
        {
          "output_type": "execute_result",
          "data": {
            "text/plain": [
              "KNeighborsRegressor(algorithm='auto', leaf_size=30, metric='minkowski',\n",
              "                    metric_params=None, n_jobs=None, n_neighbors=3, p=2,\n",
              "                    weights='uniform')"
            ]
          },
          "metadata": {
            "tags": []
          },
          "execution_count": 36
        }
      ]
    },
    {
      "cell_type": "code",
      "metadata": {
        "colab": {
          "base_uri": "https://localhost:8080/"
        },
        "id": "Phs6bMcddwkL",
        "outputId": "6f95bf34-3ad5-4418-8e29-824a31e0f960"
      },
      "source": [
        "df_valid"
      ],
      "execution_count": 38,
      "outputs": [
        {
          "output_type": "execute_result",
          "data": {
            "text/plain": [
              "GDP per capita       27195.197\n",
              "Life satisfaction        5.800\n",
              "Name: Korea, dtype: float64"
            ]
          },
          "metadata": {
            "tags": []
          },
          "execution_count": 38
        }
      ]
    },
    {
      "cell_type": "code",
      "metadata": {
        "colab": {
          "base_uri": "https://localhost:8080/"
        },
        "id": "T9A7DJkveF2H",
        "outputId": "72168d14-9c48-466e-de13-a83a9eed3258"
      },
      "source": [
        "df_valid['GDP per capita']"
      ],
      "execution_count": 39,
      "outputs": [
        {
          "output_type": "execute_result",
          "data": {
            "text/plain": [
              "27195.197"
            ]
          },
          "metadata": {
            "tags": []
          },
          "execution_count": 39
        }
      ]
    },
    {
      "cell_type": "code",
      "metadata": {
        "id": "N0OW2_XteK2a"
      },
      "source": [
        "prediction = neigh.predict([[df_valid['GDP per capita']]])[0]"
      ],
      "execution_count": 46,
      "outputs": []
    },
    {
      "cell_type": "code",
      "metadata": {
        "colab": {
          "base_uri": "https://localhost:8080/"
        },
        "id": "tKRm2QPifGh6",
        "outputId": "e1d5681a-479e-4782-8434-eb8b0ee63dcd"
      },
      "source": [
        "prediction"
      ],
      "execution_count": 47,
      "outputs": [
        {
          "output_type": "execute_result",
          "data": {
            "text/plain": [
              "6.066666666666666"
            ]
          },
          "metadata": {
            "tags": []
          },
          "execution_count": 47
        }
      ]
    },
    {
      "cell_type": "code",
      "metadata": {
        "colab": {
          "base_uri": "https://localhost:8080/"
        },
        "id": "YsvES-DDe5Mi",
        "outputId": "8aef7998-b5cc-4f60-b201-e69eb1e0a42f"
      },
      "source": [
        "abs(prediction - df_valid['Life satisfaction']) # k=3の場合"
      ],
      "execution_count": 45,
      "outputs": [
        {
          "output_type": "execute_result",
          "data": {
            "text/plain": [
              "0.2666666666666666"
            ]
          },
          "metadata": {
            "tags": []
          },
          "execution_count": 45
        }
      ]
    },
    {
      "cell_type": "markdown",
      "metadata": {
        "id": "TGR5ZukSYIJ1"
      },
      "source": [
        "* 演習問題5-3：こうして調べたkを使って、元のデータフレームに戻って、日本の生活満足度を予測し、予測誤差を求めよう。"
      ]
    },
    {
      "cell_type": "code",
      "metadata": {
        "id": "SCHFrhqRYTBu"
      },
      "source": [
        ""
      ],
      "execution_count": null,
      "outputs": []
    },
    {
      "cell_type": "markdown",
      "metadata": {
        "id": "K2zd8l9HH7rH"
      },
      "source": [
        "## 5.4 ‎leave-one-out交差検証 (1)\n",
        "* 上では、韓国を検証データとして使った。\n",
        "* しかし、韓国以外の国を検証データとしても構わないはずである。\n",
        "* そこで、日本以外の国について、その一つ一つを検証データとした場合の、それぞれの最適なkの値を求めてみる。"
      ]
    },
    {
      "cell_type": "markdown",
      "metadata": {
        "id": "t_HIlGJiYkgB"
      },
      "source": [
        "### 5.4.1 演習"
      ]
    },
    {
      "cell_type": "markdown",
      "metadata": {
        "id": "Suv7tkCzYmMe"
      },
      "source": [
        "* 演習問題5-4：国名が引数として与えられると（もちろん日本は除外する）、それを検証データとして予測を実行し、最適なkを返すような関数を、実装してみよう。\n",
        " * つまり、上で韓国について行ったことと、同じことを、（日本を除く）他の国についても実行するような関数を書く。"
      ]
    },
    {
      "cell_type": "code",
      "metadata": {
        "id": "Gpt6us62YzLC"
      },
      "source": [
        ""
      ],
      "execution_count": null,
      "outputs": []
    },
    {
      "cell_type": "markdown",
      "metadata": {
        "id": "SpQn8pOLZruG"
      },
      "source": [
        "* 上で実装した関数を使って、各国について得られたkを、どのように使えば、最適なkを求められるか、考えてみよう。\n",
        " * 例えば、各国について得られたkの平均をとることが考えられる。これは良い方法と言えるだろうか？"
      ]
    },
    {
      "cell_type": "markdown",
      "metadata": {
        "id": "FmcPLqoLaVlX"
      },
      "source": [
        "## 5.5 ‎leave-one-out交差検証 (2)\n",
        "* 上では、日本以外の国を、一つずつ、順番に検証データとして、最適なkを求めた。\n",
        "* しかし、こうして国ごとに求められたkを、どうやってまとめあげるのか、疑問が残った。\n",
        " * それらkの平均をとる、という方法は、何かおかしい感じがする。\n",
        " * 最頻値の方が、まだましであろう。\n",
        "* 最適なkを決める、もっと良い方法はないだろうか？"
      ]
    },
    {
      "cell_type": "markdown",
      "metadata": {
        "id": "D1LITZzNaxfh"
      },
      "source": [
        "### 5.5.1 演習"
      ]
    },
    {
      "cell_type": "markdown",
      "metadata": {
        "id": "YgBC73WmazNG"
      },
      "source": [
        "* 演習問題5-5：上で作った関数を少し変えて、k=1,2,3,...と、kを変えたときに、それぞれの場合で予測誤差がいくらになるかを表す配列を返すように、書き換えてみよう。"
      ]
    },
    {
      "cell_type": "code",
      "metadata": {
        "id": "afxk4wnlbQxK"
      },
      "source": [
        ""
      ],
      "execution_count": null,
      "outputs": []
    },
    {
      "cell_type": "markdown",
      "metadata": {
        "id": "CogMP3ZCbSeo"
      },
      "source": [
        "* 演習問題5-6：縦が国名、横がkの値の表をデータフレームを作り、特定の国を検証データとしたとき、特定のkを使った場合に、生活満足度の予測誤差がいくらになるかの数値で埋めてみよう。"
      ]
    },
    {
      "cell_type": "markdown",
      "metadata": {
        "id": "oFKOUfF7byOA"
      },
      "source": [
        "* 演習問題5-7：上で作った表で、それぞれのkの値について、予測誤差の平均値を求めてみよう。"
      ]
    },
    {
      "cell_type": "code",
      "metadata": {
        "id": "Jq6f8uBEbxsm"
      },
      "source": [
        ""
      ],
      "execution_count": null,
      "outputs": []
    },
    {
      "cell_type": "markdown",
      "metadata": {
        "id": "P1h3sqg3b68b"
      },
      "source": [
        "* 演習問題5-8：上で求めた平均値で見て、最適なkの値は、いくらになるか。"
      ]
    },
    {
      "cell_type": "code",
      "metadata": {
        "id": "8uoFGiTncAbH"
      },
      "source": [
        ""
      ],
      "execution_count": null,
      "outputs": []
    },
    {
      "cell_type": "markdown",
      "metadata": {
        "id": "dIjX8tgqcAzw"
      },
      "source": [
        "* 演習問題5-9：こうして求めた最適なkを使って、元に戻って、日本の生活満足度の予測をしてみよう。"
      ]
    },
    {
      "cell_type": "code",
      "metadata": {
        "id": "kF-xNdlucHpH"
      },
      "source": [
        ""
      ],
      "execution_count": null,
      "outputs": []
    },
    {
      "cell_type": "markdown",
      "metadata": {
        "id": "JdN13b19rXOg"
      },
      "source": [
        "## 5.6 多変量を使った予測"
      ]
    },
    {
      "cell_type": "markdown",
      "metadata": {
        "id": "mz42mqOmcK46"
      },
      "source": [
        "* 今回使ったデータは、元々は、複数の説明変数を含むデータだった。\n",
        "* そのうち、今回は、一人あたりのGDPだけを、説明変数として使った。"
      ]
    },
    {
      "cell_type": "markdown",
      "metadata": {
        "id": "7hi_xLpQcUWm"
      },
      "source": [
        "* そこで、元の、複数の説明変数があるデータを使って、これまでと同じことをしてみよう。\n",
        "* つまり、leave-one-out交差検証で最適なkを求め、そのkを使って、日本の生活満足度を予測してみよう。\n",
        "* 国どうしの距離を計算するには、どうすればいいか、考えてみよう。"
      ]
    },
    {
      "cell_type": "markdown",
      "metadata": {
        "id": "_T3FvXuvckfx"
      },
      "source": [
        "### 5.6.1 データファイルのアップロード\n",
        "* `lifesat_extended.csv`というファイルをアップロードする。"
      ]
    },
    {
      "cell_type": "code",
      "metadata": {
        "id": "oK-EzLFlrewX"
      },
      "source": [
        "from google.colab import files\n",
        "files.upload()"
      ],
      "execution_count": null,
      "outputs": []
    },
    {
      "cell_type": "code",
      "metadata": {
        "id": "nzGqwGlbJHdT"
      },
      "source": [
        "df_multi = pd.read_csv('lifesat_extended.csv', index_col=0)"
      ],
      "execution_count": null,
      "outputs": []
    },
    {
      "cell_type": "code",
      "metadata": {
        "id": "dQxTnjuzrjNt"
      },
      "source": [
        "df_multi.info()"
      ],
      "execution_count": null,
      "outputs": []
    },
    {
      "cell_type": "code",
      "metadata": {
        "id": "t03jUE4srli8"
      },
      "source": [
        "df_multi.describe()"
      ],
      "execution_count": null,
      "outputs": []
    },
    {
      "cell_type": "markdown",
      "metadata": {
        "id": "dnX5SSYqcyzW"
      },
      "source": [
        "## 5.7 課題5\n",
        "* leave-one-out交差検証で最適なkを求め、そのkを使って、日本の生活満足度を予測してみよう。"
      ]
    },
    {
      "cell_type": "code",
      "metadata": {
        "id": "A889K9zUcuwn"
      },
      "source": [
        ""
      ],
      "execution_count": null,
      "outputs": []
    }
  ]
}