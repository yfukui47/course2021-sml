{
  "nbformat": 4,
  "nbformat_minor": 0,
  "metadata": {
    "colab": {
      "name": "11_clustering.ipynb",
      "provenance": [],
      "collapsed_sections": [],
      "mount_file_id": "1jww3mEsWrp4VjVCe94LdcScRw4oqKdkn",
      "authorship_tag": "ABX9TyNKeXOW+MCPAlu+hqNKMI/B",
      "include_colab_link": true
    },
    "kernelspec": {
      "name": "python3",
      "display_name": "Python 3"
    }
  },
  "cells": [
    {
      "cell_type": "markdown",
      "metadata": {
        "id": "view-in-github",
        "colab_type": "text"
      },
      "source": [
        "<a href=\"https://colab.research.google.com/github/tomonari-masada/course2021-sml/blob/main/11_clustering.ipynb\" target=\"_parent\"><img src=\"https://colab.research.google.com/assets/colab-badge.svg\" alt=\"Open In Colab\"/></a>"
      ]
    },
    {
      "cell_type": "markdown",
      "metadata": {
        "id": "dhzrBYzaPTv1"
      },
      "source": [
        "# 日本語の単語ベクトルをクラスタリング\n",
        "\n",
        "* 使用するデータは下記の場所にあるもの\n",
        "\n",
        " * https://github.com/shiroyagicorp/japanese-word2vec-model-builder\n",
        "\n",
        "* word2vecの技術を使って、日本語の単語が50次元のベクトルで表現されている。\n",
        " * word2vecそのものについては、ここでは説明しません。\n",
        "* 今回はこの単語ベクトルをクラスタリングして、意味の近い単語が同じクラスタに属しているかをチェックする。"
      ]
    },
    {
      "cell_type": "markdown",
      "metadata": {
        "id": "QXcnxM2sPzZB"
      },
      "source": [
        "## 1) wgetコマンドでダウンロードし、unzipで解凍する"
      ]
    },
    {
      "cell_type": "code",
      "metadata": {
        "id": "C9PMQrmsKEi7"
      },
      "source": [
        "! if [ ! -e latest-ja-word2vec-gensim-model.zip ]; then wget http://public.shiroyagi.s3.amazonaws.com/latest-ja-word2vec-gensim-model.zip ; fi"
      ],
      "execution_count": null,
      "outputs": []
    },
    {
      "cell_type": "code",
      "metadata": {
        "id": "TdWbOwZ0KLwQ"
      },
      "source": [
        "! unzip -u latest-ja-word2vec-gensim-model.zip"
      ],
      "execution_count": null,
      "outputs": []
    },
    {
      "cell_type": "markdown",
      "metadata": {
        "id": "i7DmmXlGP62K"
      },
      "source": [
        "## 2) ライブラリgensimを使ってデータを読み込む"
      ]
    },
    {
      "cell_type": "code",
      "metadata": {
        "id": "SBkJJtuHKXib"
      },
      "source": [
        "from gensim.models.word2vec import Word2Vec\n",
        "\n",
        "model_path = 'word2vec.gensim.model'\n",
        "model = Word2Vec.load(model_path)"
      ],
      "execution_count": null,
      "outputs": []
    },
    {
      "cell_type": "markdown",
      "metadata": {
        "id": "PO-68J5bL0ca"
      },
      "source": [
        "* 単語ベクトルの次元を確認する\n",
        "\n"
      ]
    },
    {
      "cell_type": "code",
      "metadata": {
        "id": "uPXj_9TBKi25"
      },
      "source": [
        "print(model.vector_size)"
      ],
      "execution_count": null,
      "outputs": []
    },
    {
      "cell_type": "markdown",
      "metadata": {
        "id": "OQczIIMnL4Lg"
      },
      "source": [
        "* 単語ベクトルデータを変数名wvで参照することにする\n"
      ]
    },
    {
      "cell_type": "code",
      "metadata": {
        "id": "k-QWGhKlKkfO"
      },
      "source": [
        "wv = model.wv"
      ],
      "execution_count": null,
      "outputs": []
    },
    {
      "cell_type": "markdown",
      "metadata": {
        "id": "P4ZIFUddL7CR"
      },
      "source": [
        "* 単語リストと、対応する単語ベクトルのリストを、作成する"
      ]
    },
    {
      "cell_type": "code",
      "metadata": {
        "id": "xkWjpO5BKyBC"
      },
      "source": [
        "words = list()\n",
        "vectors = list()\n",
        "for word in wv.vocab:\n",
        "  words.append(word)\n",
        "  vectors.append(wv.word_vec(word))"
      ],
      "execution_count": null,
      "outputs": []
    },
    {
      "cell_type": "markdown",
      "metadata": {
        "id": "V0EltW72L9Zj"
      },
      "source": [
        "* 単語数を確認する\n",
        "\n"
      ]
    },
    {
      "cell_type": "code",
      "metadata": {
        "id": "AqlIpxN8LiV8"
      },
      "source": [
        "print(len(words))"
      ],
      "execution_count": null,
      "outputs": []
    },
    {
      "cell_type": "markdown",
      "metadata": {
        "id": "_i36eLo_L_YL"
      },
      "source": [
        "* 最初の単語とその単語ベクトルを確認する\n",
        "\n"
      ]
    },
    {
      "cell_type": "code",
      "metadata": {
        "id": "wv_ccTtLOBQW"
      },
      "source": [
        "print(words[0])\n",
        "print(vectors[0])"
      ],
      "execution_count": null,
      "outputs": []
    },
    {
      "cell_type": "markdown",
      "metadata": {
        "id": "XbEQDE39QC7E"
      },
      "source": [
        "## 3) NumPyの配列に変換する"
      ]
    },
    {
      "cell_type": "code",
      "metadata": {
        "id": "Hp313-J_LuQy"
      },
      "source": [
        "import numpy as np\n",
        "\n",
        "words = np.array(words)\n",
        "vectors = np.array(vectors)"
      ],
      "execution_count": null,
      "outputs": []
    },
    {
      "cell_type": "code",
      "metadata": {
        "id": "fS19pj1UM5_V"
      },
      "source": [
        "print(words)"
      ],
      "execution_count": null,
      "outputs": []
    },
    {
      "cell_type": "code",
      "metadata": {
        "id": "msZAgGJPOQLb"
      },
      "source": [
        "print(vectors)"
      ],
      "execution_count": null,
      "outputs": []
    },
    {
      "cell_type": "markdown",
      "metadata": {
        "id": "8qM5D1WiMWdD"
      },
      "source": [
        "* 「日本」という単語に最も近い10個の単語を表示させてみる。\n"
      ]
    },
    {
      "cell_type": "code",
      "metadata": {
        "id": "eYp7lItAM7b5"
      },
      "source": [
        "vec_jpn = np.array(wv.word_vec('日本'))\n",
        "print(vec_jpn)\n",
        "indices = np.argsort(np.linalg.norm(vectors - vec_jpn, axis=1))\n",
        "print(words[indices[1:11]])"
      ],
      "execution_count": null,
      "outputs": []
    },
    {
      "cell_type": "markdown",
      "metadata": {
        "id": "-o2yZ06-QQN4"
      },
      "source": [
        "## 4) k-meansで単語ベクトルをクラスタリングする\n",
        "\n",
        "* かなり時間がかかるので、待つ。\n",
        "* 得られたクラスタの重心はCSVファイルとして保存しておく。\n",
        "* クラスタ数は変更してよい。"
      ]
    },
    {
      "cell_type": "markdown",
      "metadata": {
        "id": "jDzUNmnaMaUv"
      },
      "source": [
        "* クラスタ数の設定\n",
        "\n"
      ]
    },
    {
      "cell_type": "code",
      "metadata": {
        "id": "xIgi9fxSaGMq"
      },
      "source": [
        "n_clusters = 100"
      ],
      "execution_count": null,
      "outputs": []
    },
    {
      "cell_type": "markdown",
      "metadata": {
        "id": "WO9p70lpNjQ_"
      },
      "source": [
        "* k-平均法によるクラスタリングを実行。\n",
        " * かなり時間がかかるので、待つ。"
      ]
    },
    {
      "cell_type": "code",
      "metadata": {
        "id": "zyXb2eRFOo3i"
      },
      "source": [
        "from sklearn.cluster import KMeans\n",
        "\n",
        "#kmeans = KMeans(n_clusters=n_clusters, random_state=123)\n",
        "#kmeans.fit(vectors)"
      ],
      "execution_count": null,
      "outputs": []
    },
    {
      "cell_type": "markdown",
      "metadata": {
        "id": "sFLiNhQjNpO2"
      },
      "source": [
        "* クラスタリングの結果をcsvファイルとして保存。"
      ]
    },
    {
      "cell_type": "code",
      "metadata": {
        "id": "9AzNSATqPBIz"
      },
      "source": [
        "#np.savetxt('cluster_centers_{:d}.csv'.format(n_clusters), kmeans.cluster_centers_, delimiter=',')\n",
        "#centers = kmeans.cluster_centers_"
      ],
      "execution_count": null,
      "outputs": []
    },
    {
      "cell_type": "markdown",
      "metadata": {
        "id": "3Htfxa9sNeML"
      },
      "source": [
        "* k-平均法を実行するのではなく、クラスタの重心をファイルから読み込むときは、下のセルを実行。\n",
        " * パスは適当に書き換える。\n"
      ]
    },
    {
      "cell_type": "code",
      "metadata": {
        "id": "FKZu_PGxVHeW"
      },
      "source": [
        "centers = np.loadtxt('/content/drive/MyDrive/2021Courses/SML/cluster_centers_100.csv', delimiter=',')"
      ],
      "execution_count": null,
      "outputs": []
    },
    {
      "cell_type": "code",
      "metadata": {
        "id": "819Ne08pUk5C"
      },
      "source": [
        "center = centers[10]\n",
        "indices = np.argsort(np.linalg.norm(vectors - center, axis=1))\n",
        "print(words[indices[:20]])"
      ],
      "execution_count": null,
      "outputs": []
    },
    {
      "cell_type": "markdown",
      "metadata": {
        "id": "XoZMOTBGWQP2"
      },
      "source": [
        "# 課題11\n",
        "\n",
        "* k-平均法で単語ベクトルをクラスタリングする。\n",
        "* いくつかのクラスタについて、クラスタの重心に近い単語どうしの意味が似ているかどうか、チェックする。\n",
        "* いくつかのクラスタについて、クラスタの重心から遠い単語がどのような単語になっているかをチェックする。\n",
        "* 極端にサイズの大きなクラスタや、逆に、極端にサイズの小さなクラスタができていないか、チェックする。\n",
        " * そして、そういった極端なサイズのクラスタに属する単語がどのようになっているかを調べる。\n",
        "* k-平均法以外のクラスタリング手法でも、同じような調査をおこなってみる。\n"
      ]
    },
    {
      "cell_type": "markdown",
      "metadata": {
        "id": "41Ox3qWUfcy5"
      },
      "source": [
        "\n",
        "\n",
        "---\n",
        "\n"
      ]
    },
    {
      "cell_type": "markdown",
      "metadata": {
        "id": "qV47LfeaQ63o"
      },
      "source": [
        "## A) 階層的クラスタリングの計算量\n",
        "* Wikipediaのエントリにあるとおり、階層的クラスタリングは計算量が大きく、規模の大きなデータには向かない。\n",
        " * https://en.wikipedia.org/wiki/Hierarchical_clustering\n",
        "* データ数を$n$とすると、何の工夫もしなければ時間計算量$O(n^3)$。\n",
        "* なので、階層的クラスタリングは使わなくてよい。"
      ]
    },
    {
      "cell_type": "markdown",
      "metadata": {
        "id": "MFXgPUPxfeWS"
      },
      "source": [
        "\n",
        "\n",
        "---\n",
        "\n"
      ]
    },
    {
      "cell_type": "markdown",
      "metadata": {
        "id": "0CPp-N5pNrMq"
      },
      "source": [
        "## B) `MiniBatchKMeans`を試してみる\n",
        "\n",
        "* 大規模データを扱うためには、ミニバッチ方式で動くアルゴリズムがあれば、それを使うのが良いだろう。\n",
        "* 幸い、k-平均法には、ミニバッチ版がある。\n",
        "* これにより、データをミニバッチとして少しずつ与えて、クラスタリングをすこしずつ進めることができる。\n",
        "* そこで、ミニバッチ式のクラスタリングのについて、途中経過を調べてみる。"
      ]
    },
    {
      "cell_type": "markdown",
      "metadata": {
        "id": "U6usNcldPFiM"
      },
      "source": [
        "### `partial_fit`の実行を反復してみる"
      ]
    },
    {
      "cell_type": "markdown",
      "metadata": {
        "id": "WdIfNHtURvBi"
      },
      "source": [
        "* バッチサイズは1000にしてみる。"
      ]
    },
    {
      "cell_type": "code",
      "metadata": {
        "id": "TsKi4iARIq_K"
      },
      "source": [
        "from sklearn.cluster import MiniBatchKMeans\n",
        "\n",
        "n_clusters = 100\n",
        "kmeans = MiniBatchKMeans(n_clusters=n_clusters, random_state=123, batch_size=1000, max_iter=1)"
      ],
      "execution_count": null,
      "outputs": []
    },
    {
      "cell_type": "markdown",
      "metadata": {
        "id": "AV1xuHs6Rsgf"
      },
      "source": [
        "* まずは1回、partial_fitを実行。"
      ]
    },
    {
      "cell_type": "code",
      "metadata": {
        "id": "ivZ4Pf_qJTer"
      },
      "source": [
        "kmeans.partial_fit(vectors)"
      ],
      "execution_count": null,
      "outputs": []
    },
    {
      "cell_type": "markdown",
      "metadata": {
        "id": "G5U12IsHR-NV"
      },
      "source": [
        "* 適当なクラスタ（ここではインデックスが30のクラスタ）の、重心に近い順に上位20語を表示させてみる。"
      ]
    },
    {
      "cell_type": "code",
      "metadata": {
        "id": "oYbr1gsUMRkP"
      },
      "source": [
        "center = kmeans.cluster_centers_[30]\n",
        "indices = np.argsort(np.linalg.norm(vectors - center, axis=1))\n",
        "print(' '.join(words[indices[:20]]))"
      ],
      "execution_count": null,
      "outputs": []
    },
    {
      "cell_type": "markdown",
      "metadata": {
        "id": "tJ0ilFYYSGqI"
      },
      "source": [
        "* もう1回、partial_fitを実行。"
      ]
    },
    {
      "cell_type": "code",
      "metadata": {
        "id": "Y4GSDkuZMuKf"
      },
      "source": [
        "kmeans.partial_fit(vectors)\n",
        "center = kmeans.cluster_centers_[30]\n",
        "indices = np.argsort(np.linalg.norm(vectors - center, axis=1))\n",
        "print(' '.join(words[indices[:20]]))"
      ],
      "execution_count": null,
      "outputs": []
    },
    {
      "cell_type": "markdown",
      "metadata": {
        "id": "959SZygSSL62"
      },
      "source": [
        "* 少しクラスタの様子が変わっている。さらにもう1回、partial_fitを実行。"
      ]
    },
    {
      "cell_type": "code",
      "metadata": {
        "id": "uFTDN47IPIam"
      },
      "source": [
        "kmeans.partial_fit(vectors)\n",
        "center = kmeans.cluster_centers_[30]\n",
        "indices = np.argsort(np.linalg.norm(vectors - center, axis=1))\n",
        "print(' '.join(words[indices[:20]]))"
      ],
      "execution_count": null,
      "outputs": []
    },
    {
      "cell_type": "markdown",
      "metadata": {
        "id": "Teo_9kXZSRpY"
      },
      "source": [
        "* やはり変化している。10回ループを回してみる。"
      ]
    },
    {
      "cell_type": "code",
      "metadata": {
        "id": "ZlSaP9vtPM1F"
      },
      "source": [
        "for i in range(10):\n",
        "  kmeans.partial_fit(vectors)\n",
        "  center = kmeans.cluster_centers_[30]\n",
        "  indices = np.argsort(np.linalg.norm(vectors - center, axis=1))\n",
        "  print(' '.join(words[indices[:20]].tolist()))"
      ],
      "execution_count": null,
      "outputs": []
    },
    {
      "cell_type": "markdown",
      "metadata": {
        "id": "qTOLbql0Sbsg"
      },
      "source": [
        "* さらに10回、ループを回す。\n",
        " * ループを回すついでに、所属するクラスタが変化した単語がいくつあったかを、毎回表示させてみる。\n"
      ]
    },
    {
      "cell_type": "code",
      "metadata": {
        "id": "kM-6wqHSPg88"
      },
      "source": [
        "for i in range(10):\n",
        "  prev_labels = kmeans.labels_\n",
        "  kmeans.partial_fit(vectors)\n",
        "  center = kmeans.cluster_centers_[30]\n",
        "  indices = np.argsort(np.linalg.norm(vectors - center, axis=1))\n",
        "  print(' '.join(words[indices[:20]].tolist()))\n",
        "  print(f'{(kmeans.labels_ != prev_labels).sum()}個の単語が別のクラスタへ移った。')"
      ],
      "execution_count": null,
      "outputs": []
    },
    {
      "cell_type": "markdown",
      "metadata": {
        "id": "JXmytZK0SqSh"
      },
      "source": [
        "* このあたりで、クラスタの重心を保存しておく。\n",
        " * ちなみに、保存したクラスタの重心は、再度同じデータセット上でk-平均法を実行するときに、クラスタリングの初期値として使える。"
      ]
    },
    {
      "cell_type": "code",
      "metadata": {
        "id": "PtkYIlZyMiRN"
      },
      "source": [
        "np.savetxt('MiniBatchKMeans_cluster_centers_{:d}.csv'.format(n_clusters), kmeans.cluster_centers_, delimiter=',')"
      ],
      "execution_count": null,
      "outputs": []
    },
    {
      "cell_type": "markdown",
      "metadata": {
        "id": "isGLVucTTL94"
      },
      "source": [
        "* さらに30回ほど回してみる。"
      ]
    },
    {
      "cell_type": "code",
      "metadata": {
        "id": "qpkdH2TLM5jC"
      },
      "source": [
        "for i in range(30):\n",
        "  prev_labels = kmeans.labels_\n",
        "  kmeans.partial_fit(vectors)\n",
        "  center = kmeans.cluster_centers_[30]\n",
        "  indices = np.argsort(np.linalg.norm(vectors - center, axis=1))\n",
        "  print(' '.join(words[indices[:20]].tolist()))\n",
        "  print(f'{(kmeans.labels_ != prev_labels).sum()}個の単語が別のクラスタへ移った。')"
      ],
      "execution_count": null,
      "outputs": []
    },
    {
      "cell_type": "markdown",
      "metadata": {
        "id": "81wYmuGHlE-2"
      },
      "source": [
        "* 本当は、すべての単語がクラスタリングの対象になるまで、ループを回す必要あり。\n",
        "\n",
        "* おそらく、最低、（単語数）÷（ミニバッチサイズ）回は、回す必要があると思われる。\n",
        "\n",
        " * partial_fitメソッドの仕様を、みなさん調べておいてください。"
      ]
    },
    {
      "cell_type": "markdown",
      "metadata": {
        "id": "SgtCM75KYSjZ"
      },
      "source": [
        "### クラスタのサイズを調べる"
      ]
    },
    {
      "cell_type": "markdown",
      "metadata": {
        "id": "AbVxvTJbf9lJ"
      },
      "source": [
        "* NumPyの配列に、いろいろな値が何回ずつ出てくるかを知るには、unique関数を使うと良い。"
      ]
    },
    {
      "cell_type": "code",
      "metadata": {
        "id": "SEtINadMTpW_"
      },
      "source": [
        "unique, counts = np.unique(kmeans.labels_, return_counts=True)"
      ],
      "execution_count": null,
      "outputs": []
    },
    {
      "cell_type": "code",
      "metadata": {
        "id": "A_yVY0pfYjH0"
      },
      "source": [
        "unique"
      ],
      "execution_count": null,
      "outputs": []
    },
    {
      "cell_type": "code",
      "metadata": {
        "id": "y4oQ0XjCZG8U"
      },
      "source": [
        "counts"
      ],
      "execution_count": null,
      "outputs": []
    },
    {
      "cell_type": "markdown",
      "metadata": {
        "id": "7GC267ESgFqk"
      },
      "source": [
        "* クラスタのインデックスをキーとし、そのサイズを値とする辞書を作る。"
      ]
    },
    {
      "cell_type": "code",
      "metadata": {
        "id": "HdKvO0RWYkO7"
      },
      "source": [
        "size_dict = dict(zip(unique, counts))"
      ],
      "execution_count": null,
      "outputs": []
    },
    {
      "cell_type": "markdown",
      "metadata": {
        "id": "ROivZugMgOds"
      },
      "source": [
        "* 辞書のエントリを、キーではなく値でソートする。"
      ]
    },
    {
      "cell_type": "code",
      "metadata": {
        "id": "41h3OeM9ZF5d"
      },
      "source": [
        "sorted_clusters = [k for k, v in sorted(size_dict.items(), key=lambda item: item[1], reverse=True)]"
      ],
      "execution_count": null,
      "outputs": []
    },
    {
      "cell_type": "code",
      "metadata": {
        "id": "5xZ3Fu1pZc-f"
      },
      "source": [
        "counts[sorted_clusters]"
      ],
      "execution_count": null,
      "outputs": []
    },
    {
      "cell_type": "markdown",
      "metadata": {
        "id": "rla5hIZXZtSK"
      },
      "source": [
        "### サイズが最大のクラスタを調べる"
      ]
    },
    {
      "cell_type": "code",
      "metadata": {
        "id": "HP9fzGWJZfql"
      },
      "source": [
        "center = kmeans.cluster_centers_[sorted_clusters[0]]\n",
        "indices = np.argsort(np.linalg.norm(vectors - center, axis=1))\n",
        "' '.join(words[indices[:100]].tolist())"
      ],
      "execution_count": null,
      "outputs": []
    },
    {
      "cell_type": "markdown",
      "metadata": {
        "id": "TFnG3bSEgZWW"
      },
      "source": [
        "* あまり統一感がない。クラスタ数100個が少なかった可能性もある。"
      ]
    },
    {
      "cell_type": "markdown",
      "metadata": {
        "id": "SQRqx7ChZwYj"
      },
      "source": [
        "### サイズが最小のクラスタを調べる"
      ]
    },
    {
      "cell_type": "code",
      "metadata": {
        "id": "HxFa4sGkZqKq"
      },
      "source": [
        "center = kmeans.cluster_centers_[sorted_clusters[99]]\n",
        "indices = np.argsort(np.linalg.norm(vectors - center, axis=1))\n",
        "' '.join(words[indices[:100]].tolist())"
      ],
      "execution_count": null,
      "outputs": []
    },
    {
      "cell_type": "markdown",
      "metadata": {
        "id": "CK5Nk9WSZ9Zt"
      },
      "source": [
        "* 命令的な表現が多いようだ。"
      ]
    },
    {
      "cell_type": "markdown",
      "metadata": {
        "id": "irSbDJwegd-s"
      },
      "source": [
        "### サイズが中間的なクラスタを調べる"
      ]
    },
    {
      "cell_type": "code",
      "metadata": {
        "id": "ohQrQEUXZ5Et"
      },
      "source": [
        "center = kmeans.cluster_centers_[sorted_clusters[49]]\n",
        "indices = np.argsort(np.linalg.norm(vectors - center, axis=1))\n",
        "' '.join(words[indices[:100]].tolist())"
      ],
      "execution_count": null,
      "outputs": []
    },
    {
      "cell_type": "markdown",
      "metadata": {
        "id": "F9K7GB9SglM0"
      },
      "source": [
        "* かなり統一感がある。"
      ]
    },
    {
      "cell_type": "markdown",
      "metadata": {
        "id": "t4GDMNItaPgu"
      },
      "source": [
        "### 適当なクラスターを調べてみる"
      ]
    },
    {
      "cell_type": "code",
      "metadata": {
        "id": "LBtCOiw1aNvz"
      },
      "source": [
        "center = kmeans.cluster_centers_[sorted_clusters[39]]\n",
        "indices = np.argsort(np.linalg.norm(vectors - center, axis=1))\n",
        "' '.join(words[indices[:100]].tolist())"
      ],
      "execution_count": null,
      "outputs": []
    },
    {
      "cell_type": "markdown",
      "metadata": {
        "id": "m2NNjH4laVi5"
      },
      "source": [
        "* スポーツ関係っぽい。"
      ]
    },
    {
      "cell_type": "markdown",
      "metadata": {
        "id": "sDyetTpLZpij"
      },
      "source": [
        "## C) Dask-MLのspectral clusteringを試してみる\n",
        "\n",
        "* Dask-MLについてはWebサイトを参照（私も詳しくは知りません・・・）。\n",
        " * https://ml.dask.org/\n",
        "\n",
        "* scalableなspectral clustering（ただし近似が入る）が実装されているので、使ってみる。\n",
        " * https://ml.dask.org/clustering.html"
      ]
    },
    {
      "cell_type": "markdown",
      "metadata": {
        "id": "kIezPNLoZ69P"
      },
      "source": [
        "### Daskをインストール"
      ]
    },
    {
      "cell_type": "code",
      "metadata": {
        "id": "IurEBdx_EsEo"
      },
      "source": [
        "! pip install -U tornado\n",
        "! pip install dask distributed --upgrade\n",
        "! pip install dask_ml"
      ],
      "execution_count": null,
      "outputs": []
    },
    {
      "cell_type": "markdown",
      "metadata": {
        "id": "4NASKHU_QSaE"
      },
      "source": [
        "* 単語ベクトルのデータを取得し直す\n",
        "\n"
      ]
    },
    {
      "cell_type": "code",
      "metadata": {
        "id": "yZnU8x7sP9F7"
      },
      "source": [
        "import numpy as np\n",
        "from gensim.models.word2vec import Word2Vec\n",
        "\n",
        "model_path = 'word2vec.gensim.model'\n",
        "model = Word2Vec.load(model_path)\n",
        "wv = model.wv\n",
        "words = list()\n",
        "vectors = list()\n",
        "for word in wv.vocab:\n",
        "  words.append(word)\n",
        "  vectors.append(wv.word_vec(word))\n",
        "words = np.array(words)\n",
        "vectors = np.array(vectors)"
      ],
      "execution_count": null,
      "outputs": []
    },
    {
      "cell_type": "markdown",
      "metadata": {
        "id": "HUJF76J2ePP_"
      },
      "source": [
        "### spectral clusteringを実行する"
      ]
    },
    {
      "cell_type": "code",
      "metadata": {
        "id": "j5yY7cJtQV29"
      },
      "source": [
        "import dask_ml.cluster\n",
        "\n",
        "n_clusters = 100\n",
        "clusterer = dask_ml.cluster.SpectralClustering(n_clusters=n_clusters, random_state=123,\n",
        "                                               n_jobs=-1, n_components=100)"
      ],
      "execution_count": null,
      "outputs": []
    },
    {
      "cell_type": "markdown",
      "metadata": {
        "id": "LjfhuKs3eVnn"
      },
      "source": [
        "* クラスタリングの実行。\n",
        " * しばらく待つ。"
      ]
    },
    {
      "cell_type": "code",
      "metadata": {
        "id": "brNB0mO2QjJw"
      },
      "source": [
        "clusterer.fit(vectors)"
      ],
      "execution_count": null,
      "outputs": []
    },
    {
      "cell_type": "markdown",
      "metadata": {
        "id": "ruxTnbc9eY4D"
      },
      "source": [
        "* ラベル（各データ点がどのクラスタに属するか）の情報のデータ型を調べる。"
      ]
    },
    {
      "cell_type": "code",
      "metadata": {
        "id": "TiWwKabHQnOl"
      },
      "source": [
        "labels = clusterer.labels_\n",
        "type(labels)"
      ],
      "execution_count": null,
      "outputs": []
    },
    {
      "cell_type": "markdown",
      "metadata": {
        "id": "9FR1VJlSenFY"
      },
      "source": [
        "* Dask固有のデータ型のようなのでNumpyの配列に変換する。"
      ]
    },
    {
      "cell_type": "code",
      "metadata": {
        "id": "Dq7CEyl-XOA_"
      },
      "source": [
        "labels = labels.compute()\n",
        "type(labels)"
      ],
      "execution_count": null,
      "outputs": []
    },
    {
      "cell_type": "markdown",
      "metadata": {
        "id": "_zzBWAl6euG4"
      },
      "source": [
        "* ラベルをファイルに保存しておく。"
      ]
    },
    {
      "cell_type": "code",
      "metadata": {
        "id": "NFFFxW51YM2y"
      },
      "source": [
        "np.save('dask_sc_labels', labels)"
      ],
      "execution_count": null,
      "outputs": []
    },
    {
      "cell_type": "markdown",
      "metadata": {
        "id": "24rEqAg_e2qD"
      },
      "source": [
        "* クラスタのサイズ順にクラスタのインデックス（0~99）をソートする。"
      ]
    },
    {
      "cell_type": "code",
      "metadata": {
        "id": "0jq2PNGYYTgg"
      },
      "source": [
        "unique, counts = np.unique(labels, return_counts=True)\n",
        "size_dict = dict(zip(unique, counts))\n",
        "sorted_clusters = [k for k, v in sorted(size_dict.items(), key=lambda item: item[1], reverse=True)]"
      ],
      "execution_count": null,
      "outputs": []
    },
    {
      "cell_type": "markdown",
      "metadata": {
        "id": "aKckFt-se_0n"
      },
      "source": [
        "### クラスタのサイズを調べる"
      ]
    },
    {
      "cell_type": "code",
      "metadata": {
        "id": "htNYMfbqYsOy"
      },
      "source": [
        "counts[sorted_clusters]"
      ],
      "execution_count": null,
      "outputs": []
    },
    {
      "cell_type": "markdown",
      "metadata": {
        "id": "VZ6M1kwGfRJp"
      },
      "source": [
        "### サイズが最大のクラスタを調べる"
      ]
    },
    {
      "cell_type": "code",
      "metadata": {
        "id": "SWEzOCjxZU2I"
      },
      "source": [
        "' '.join(words[labels == sorted_clusters[0]])"
      ],
      "execution_count": null,
      "outputs": []
    },
    {
      "cell_type": "markdown",
      "metadata": {
        "id": "d3ggj2nSfOoY"
      },
      "source": [
        "### サイズが最小のクラスタを調べる"
      ]
    },
    {
      "cell_type": "code",
      "metadata": {
        "id": "uviB0AC-YyxM"
      },
      "source": [
        "' '.join(words[labels == sorted_clusters[99]])"
      ],
      "execution_count": null,
      "outputs": []
    },
    {
      "cell_type": "markdown",
      "metadata": {
        "id": "hxg_othufTgX"
      },
      "source": [
        "### サイズが中間的なクラスタを調べる"
      ]
    },
    {
      "cell_type": "code",
      "metadata": {
        "id": "CKbaZrHJZhM-"
      },
      "source": [
        "' '.join(words[labels == sorted_clusters[49]])"
      ],
      "execution_count": null,
      "outputs": []
    },
    {
      "cell_type": "code",
      "metadata": {
        "id": "lsCiMW4-Zmqc"
      },
      "source": [
        ""
      ],
      "execution_count": null,
      "outputs": []
    }
  ]
}