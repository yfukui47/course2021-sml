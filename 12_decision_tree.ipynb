{
  "nbformat": 4,
  "nbformat_minor": 0,
  "metadata": {
    "colab": {
      "name": "12_decision_tree.ipynb",
      "provenance": [],
      "collapsed_sections": [],
      "authorship_tag": "ABX9TyMOec+HJwD7wkCHSL4A/n6a",
      "include_colab_link": true
    },
    "kernelspec": {
      "name": "python3",
      "display_name": "Python 3"
    },
    "accelerator": "GPU"
  },
  "cells": [
    {
      "cell_type": "markdown",
      "metadata": {
        "id": "view-in-github",
        "colab_type": "text"
      },
      "source": [
        "<a href=\"https://colab.research.google.com/github/tomonari-masada/course2021-sml/blob/main/12_decision_tree.ipynb\" target=\"_parent\"><img src=\"https://colab.research.google.com/assets/colab-badge.svg\" alt=\"Open In Colab\"/></a>"
      ]
    },
    {
      "cell_type": "markdown",
      "metadata": {
        "id": "gaQ8dO7PH-Ie"
      },
      "source": [
        "# Tree-based methodsによる住宅価格の予測\n",
        "\n",
        "* 前に使ったCalifornia housing datasetを使う。\n",
        "\n",
        " * scikit-learnからロードできるバージョンは、前処理が済んだキレイなデータなので、ここでは使わない。\n",
        "\n",
        "* データの取得や前処理の一部は、\n",
        "[Aurélien Géron. Hands-On Machine Learning with Scikit-Learn, Keras, and TensorFlow, 2nd Edition.](https://www.oreilly.com/library/view/hands-on-machine-learning/9781492032632/) の2章と同じ。"
      ]
    },
    {
      "cell_type": "code",
      "metadata": {
        "id": "sTQwl0oyWRdJ"
      },
      "source": [
        "import numpy as np\n",
        "from scipy import stats, special\n",
        "import pandas as pd\n",
        "import matplotlib.pyplot as plt\n",
        "import seaborn as sns\n",
        "from sklearn import tree\n",
        "from sklearn import metrics\n",
        "from sklearn.metrics import mean_squared_error\n",
        "from sklearn.model_selection import train_test_split, cross_val_score\n",
        "\n",
        "%config InlineBackend.figure_format = 'retina'"
      ],
      "execution_count": null,
      "outputs": []
    },
    {
      "cell_type": "markdown",
      "metadata": {
        "id": "B0ueH1eZQkV0"
      },
      "source": [
        "## 1) データを取得"
      ]
    },
    {
      "cell_type": "code",
      "metadata": {
        "id": "g-8ombKtQkBM"
      },
      "source": [
        "import os\n",
        "import tarfile\n",
        "from six.moves import urllib\n",
        "\n",
        "DOWNLOAD_ROOT = \"https://raw.githubusercontent.com/ageron/handson-ml/master/\"\n",
        "HOUSING_PATH = os.path.join(\"datasets\", \"housing\")\n",
        "HOUSING_URL = DOWNLOAD_ROOT + \"datasets/housing/housing.tgz\"\n",
        "\n",
        "def fetch_housing_data(housing_url=HOUSING_URL, housing_path=HOUSING_PATH):\n",
        "  os.makedirs(housing_path, exist_ok=True)\n",
        "  tgz_path = os.path.join(housing_path, \"housing.tgz\")\n",
        "  urllib.request.urlretrieve(housing_url, tgz_path)\n",
        "  housing_tgz = tarfile.open(tgz_path)\n",
        "  housing_tgz.extractall(path=housing_path)\n",
        "  housing_tgz.close()"
      ],
      "execution_count": null,
      "outputs": []
    },
    {
      "cell_type": "code",
      "metadata": {
        "id": "Ewm8TpCMQj4X"
      },
      "source": [
        "fetch_housing_data()"
      ],
      "execution_count": null,
      "outputs": []
    },
    {
      "cell_type": "code",
      "metadata": {
        "id": "qybD5v56JrtS"
      },
      "source": [
        "def load_housing_data(housing_path=HOUSING_PATH):\n",
        "  csv_path = os.path.join(housing_path, \"housing.csv\")\n",
        "  return pd.read_csv(csv_path)"
      ],
      "execution_count": null,
      "outputs": []
    },
    {
      "cell_type": "markdown",
      "metadata": {
        "id": "EUzt-Kn9Ht91"
      },
      "source": [
        "（ここより上の詳細はフォローしなくてもいいいです。）"
      ]
    },
    {
      "cell_type": "code",
      "metadata": {
        "id": "_L5MBp4WQjeb"
      },
      "source": [
        "housing = load_housing_data()\n",
        "housing.head()"
      ],
      "execution_count": null,
      "outputs": []
    },
    {
      "cell_type": "markdown",
      "metadata": {
        "id": "nl9YJ6M-RFGR"
      },
      "source": [
        "## 2) データを概観しつつ前処理"
      ]
    },
    {
      "cell_type": "code",
      "metadata": {
        "id": "OGJP-5qhNnoz"
      },
      "source": [
        "housing.info()"
      ],
      "execution_count": null,
      "outputs": []
    },
    {
      "cell_type": "markdown",
      "metadata": {
        "id": "O_myxQE7Vrhz"
      },
      "source": [
        "* 数値データではない列が一つだけある\n",
        "\n"
      ]
    },
    {
      "cell_type": "code",
      "metadata": {
        "id": "UUcTzYmBNp4g"
      },
      "source": [
        "housing['ocean_proximity'].value_counts()"
      ],
      "execution_count": null,
      "outputs": []
    },
    {
      "cell_type": "markdown",
      "metadata": {
        "id": "zPnV3ohqVv_z"
      },
      "source": [
        "* 今回は、この数値データではない列を残す\n",
        " * pandasのget_dummiesを使う\n",
        "\n"
      ]
    },
    {
      "cell_type": "code",
      "metadata": {
        "id": "Ac-bD3EfS9U6"
      },
      "source": [
        "housing_num = pd.get_dummies(housing, columns=['ocean_proximity'])"
      ],
      "execution_count": null,
      "outputs": []
    },
    {
      "cell_type": "code",
      "metadata": {
        "id": "FkOo-YDuTg5l"
      },
      "source": [
        "housing_num.info()"
      ],
      "execution_count": null,
      "outputs": []
    },
    {
      "cell_type": "markdown",
      "metadata": {
        "id": "eR0zrKTMV7GT"
      },
      "source": [
        "* Non-Null Countが他より少ない列がある\n",
        " * ここでは単に削除することにする\n",
        "\n"
      ]
    },
    {
      "cell_type": "code",
      "metadata": {
        "id": "UfaKuLw0TsgQ"
      },
      "source": [
        "housing_num = housing_num.dropna(subset=['total_bedrooms'])"
      ],
      "execution_count": null,
      "outputs": []
    },
    {
      "cell_type": "code",
      "metadata": {
        "id": "cbMVHFEyUFhw"
      },
      "source": [
        "housing_num.info()"
      ],
      "execution_count": null,
      "outputs": []
    },
    {
      "cell_type": "markdown",
      "metadata": {
        "id": "8ldVQfK_V_Dk"
      },
      "source": [
        "* 説明変数と目的変数を分ける\n",
        "\n"
      ]
    },
    {
      "cell_type": "code",
      "metadata": {
        "id": "M28tUOwREhEe"
      },
      "source": [
        "X = housing_num.drop('median_house_value', axis=1)\n",
        "y = housing_num[\"median_house_value\"].copy()"
      ],
      "execution_count": null,
      "outputs": []
    },
    {
      "cell_type": "markdown",
      "metadata": {
        "id": "jJVevWKDFPI2"
      },
      "source": [
        "## 3) 評価実験のための準備"
      ]
    },
    {
      "cell_type": "markdown",
      "metadata": {
        "id": "WTlCKf5DYPG3"
      },
      "source": [
        "* 今回は交差検証をおこなうので、テストデータだけを切り分けておく。"
      ]
    },
    {
      "cell_type": "code",
      "metadata": {
        "id": "HPLyJcSqEu6i"
      },
      "source": [
        "X_train, X_test, y_train, y_test = train_test_split(X, y, test_size=0.2, random_state=42)"
      ],
      "execution_count": null,
      "outputs": []
    },
    {
      "cell_type": "markdown",
      "metadata": {
        "id": "WfsOy4znNBHv"
      },
      "source": [
        "## 4) 前処理"
      ]
    },
    {
      "cell_type": "markdown",
      "metadata": {
        "id": "I4pdZ6B6X15P"
      },
      "source": [
        "* どのような前処理をおこなうかは、お任せします。"
      ]
    },
    {
      "cell_type": "code",
      "metadata": {
        "id": "jcWCkbkTNwZi"
      },
      "source": [
        "X_train.hist(bins=50, figsize=(15,12))"
      ],
      "execution_count": null,
      "outputs": []
    },
    {
      "cell_type": "markdown",
      "metadata": {
        "id": "Np16Vy-zNTva"
      },
      "source": [
        "## 5) 決定木をチューニング\n",
        "\n",
        "* 木の深さ（領域を何分割するか）をチューニングする。"
      ]
    },
    {
      "cell_type": "markdown",
      "metadata": {
        "id": "oTAh6vJ4WpiV"
      },
      "source": [
        "* cross_val_scoreで使える評価尺度一覧をチェックする。\n",
        " * いずれも、「値が大きいほど良い」という評価尺度になっている。\n",
        " * 今回はRMSEで評価したいが、これは「値が小さいほど良い」という評価尺度である。\n",
        " * そこで、一覧の中にある'neg_root_mean_squared_error'に、マイナスをつけたものを、使う。\n",
        " * これで前の結果と比較できるようになる。\n",
        "\n"
      ]
    },
    {
      "cell_type": "code",
      "metadata": {
        "id": "2b17N7AQwQ2r"
      },
      "source": [
        "sorted(metrics.SCORERS.keys())"
      ],
      "execution_count": null,
      "outputs": []
    },
    {
      "cell_type": "markdown",
      "metadata": {
        "id": "7-1U0vm9WwoL"
      },
      "source": [
        "* 10-fold cross validationを実施\n",
        " * 木の深さは3から20まで変える。\n",
        " * 評価尺度は　RMSEとする。\n",
        "\n"
      ]
    },
    {
      "cell_type": "code",
      "metadata": {
        "id": "be12cT0KPyrg"
      },
      "source": [
        "for i in range(3, 16):\n",
        "  reg = tree.DecisionTreeRegressor(max_depth=i, random_state=123)\n",
        "  reg.fit(X_train, y_train)\n",
        "  scores = cross_val_score(estimator=reg, X=X_train, y=y_train,\n",
        "                           scoring='neg_root_mean_squared_error', cv=10)\n",
        "  print(f'depth {i}: {- scores.mean():.2f}') "
      ],
      "execution_count": null,
      "outputs": []
    },
    {
      "cell_type": "markdown",
      "metadata": {
        "id": "mILiouL2XE6_"
      },
      "source": [
        "* 最適な木の深さを使って訓練データ全体で学習をやり直し、テストデータで評価。\n",
        "\n"
      ]
    },
    {
      "cell_type": "code",
      "metadata": {
        "id": "fPy58KHFXJR-"
      },
      "source": [
        "reg = tree.DecisionTreeRegressor(max_depth=9, random_state=123)\n",
        "reg.fit(X_train, y_train)\n",
        "y_test_pred = reg.predict(X_test)\n",
        "print('Test set RMSE: {:.2f}'.format(mean_squared_error(y_test, y_test_pred, squared=False)))"
      ],
      "execution_count": null,
      "outputs": []
    },
    {
      "cell_type": "markdown",
      "metadata": {
        "id": "GaLWv6KThGkW"
      },
      "source": [
        "* これが今回のベースラインです。\n",
        "* この値を改善することを試みてください。"
      ]
    },
    {
      "cell_type": "markdown",
      "metadata": {
        "id": "2PT_IGbQLCis"
      },
      "source": [
        "# 課題12\n",
        "\n",
        "* RMSEによって評価される予測性能を、良くして下さい\n",
        "* test setとそれ以外の部分の分割は、変えないでください\n",
        " * test set以外の部分をどう使うかは、自由です\n",
        " * 交差検証の方法は何でもよいです。\n",
        "* 決定木ベースの手法やその系統の手法なら、何を使ってもいいです。\n",
        "* test setでのRMSEによる評価は、最後に一回おこなうだけです"
      ]
    },
    {
      "cell_type": "markdown",
      "metadata": {
        "id": "roLZXQReY2ZW"
      },
      "source": [
        "## A) XGBoostを使ってみる\n",
        "\n"
      ]
    },
    {
      "cell_type": "code",
      "metadata": {
        "id": "QvEWe5j80MO3"
      },
      "source": [
        "import xgboost as xgb"
      ],
      "execution_count": null,
      "outputs": []
    },
    {
      "cell_type": "markdown",
      "metadata": {
        "id": "NkIPWJttZXhC"
      },
      "source": [
        "* XGBoostが出すエラーへの対処\n",
        " * https://stackoverflow.com/questions/48645846/pythons-xgoost-valueerrorfeature-names-may-not-contain-or"
      ]
    },
    {
      "cell_type": "code",
      "metadata": {
        "id": "EHOF_M8WZV2L"
      },
      "source": [
        "import re\n",
        "regex = re.compile(r\"\\[|\\]|<\", re.IGNORECASE)\n",
        "X_train.columns = [regex.sub(\"_\", col) if any(x in str(col) for x in set(('[', ']', '<'))) else col for col in X_train.columns.values]\n",
        "X_test.columns = [regex.sub(\"_\", col) if any(x in str(col) for x in set(('[', ']', '<'))) else col for col in X_test.columns.values]"
      ],
      "execution_count": null,
      "outputs": []
    },
    {
      "cell_type": "markdown",
      "metadata": {
        "id": "EtolE-WEZtpK"
      },
      "source": [
        "* 10-fold cross validationを実施\n"
      ]
    },
    {
      "cell_type": "code",
      "metadata": {
        "id": "31-tQx4I0VET"
      },
      "source": [
        "for i in range(6, 14):\n",
        "  reg = xgb.XGBRegressor(objective ='reg:squarederror', max_depth=i, random_state=123)\n",
        "  scores = cross_val_score(estimator=reg, X=X_train, y=y_train, \n",
        "                           scoring='neg_root_mean_squared_error', cv=10)\n",
        "  print(f'depth {i}: {- scores.mean():.2f}')"
      ],
      "execution_count": null,
      "outputs": []
    },
    {
      "cell_type": "markdown",
      "metadata": {
        "id": "W74IrUAMaP2H"
      },
      "source": [
        "* 最適な木の深さを使って訓練データ全体で学習をやり直し、テストデータで評価。\n",
        "\n"
      ]
    },
    {
      "cell_type": "code",
      "metadata": {
        "id": "VeOJJwDjaQkn"
      },
      "source": [
        "# 各自、実践してください。"
      ],
      "execution_count": null,
      "outputs": []
    },
    {
      "cell_type": "markdown",
      "metadata": {
        "id": "bIAMBKPldeLI"
      },
      "source": [
        "## B) CatBoostを使ってみる"
      ]
    },
    {
      "cell_type": "code",
      "metadata": {
        "id": "gAtyJXl2HqLN"
      },
      "source": [
        "!pip install catboost"
      ],
      "execution_count": null,
      "outputs": []
    },
    {
      "cell_type": "code",
      "metadata": {
        "id": "dUWchROwIblG"
      },
      "source": [
        "from catboost import CatBoostRegressor"
      ],
      "execution_count": null,
      "outputs": []
    },
    {
      "cell_type": "code",
      "metadata": {
        "id": "9Q2NFxDHIzaf"
      },
      "source": [
        "for i in range(6, 14):\n",
        "  model = CatBoostRegressor(iterations=200, depth=i, random_seed=123, logging_level='Silent')\n",
        "  scores = cross_val_score(estimator=model, X=X_train, y=y_train,\n",
        "                           scoring='neg_root_mean_squared_error', cv=10)\n",
        "  print(f'depth {i}: {- scores.mean():.2f}')"
      ],
      "execution_count": null,
      "outputs": []
    },
    {
      "cell_type": "markdown",
      "metadata": {
        "id": "NWkz2rOqZ3VI"
      },
      "source": [
        "* 最適な木の深さを使って訓練データ全体で学習をやり直し、テストデータで評価。\n",
        "\n"
      ]
    },
    {
      "cell_type": "code",
      "metadata": {
        "id": "KrXKcqa00f88"
      },
      "source": [
        "best_depth = 10\n",
        "model = CatBoostRegressor(iterations=200, depth=best_depth, random_seed=123)\n",
        "model.fit(X_train, y_train)\n",
        "y_test_pred = model.predict(X_test)\n",
        "print('Test set RMSE: {:.2f}'.format(mean_squared_error(y_test, y_test_pred, squared=False)))"
      ],
      "execution_count": null,
      "outputs": []
    }
  ]
}