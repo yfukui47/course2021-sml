{
  "nbformat": 4,
  "nbformat_minor": 0,
  "metadata": {
    "colab": {
      "name": "08_linear_regression_3_example.ipynb",
      "provenance": [],
      "collapsed_sections": [],
      "mount_file_id": "16FwSELqvgadDj7UzXoqufPO45Hq1fbC-",
      "authorship_tag": "ABX9TyPZi3xZyxDRk6mDZiQ3wFM0",
      "include_colab_link": true
    },
    "kernelspec": {
      "name": "python3",
      "display_name": "Python 3"
    }
  },
  "cells": [
    {
      "cell_type": "markdown",
      "metadata": {
        "id": "view-in-github",
        "colab_type": "text"
      },
      "source": [
        "<a href=\"https://colab.research.google.com/github/tomonari-masada/course2021-sml/blob/main/08_linear_regression_3_example.ipynb\" target=\"_parent\"><img src=\"https://colab.research.google.com/assets/colab-badge.svg\" alt=\"Open In Colab\"/></a>"
      ]
    },
    {
      "cell_type": "markdown",
      "metadata": {
        "id": "Qy8AYW1oaHQi"
      },
      "source": [
        "# ケーススタディ： solubility data の実行例\n",
        "\n",
        "Max Kuhn and Kjell Johnson. Applied Predictive Modeling. Springer, 2013. に出てくるデータセット (Section 6.1)\n",
        "\n",
        "http://appliedpredictivemodeling.com/data"
      ]
    },
    {
      "cell_type": "markdown",
      "metadata": {
        "id": "evA6IHCfbBUl"
      },
      "source": [
        "* 説明変数は下記の228個\n",
        " * Two hundred and eight binary “fingerprints” that indicate the presence or absence of a particular chemical substructure.\n",
        " * Sixteen count descriptors, such as the number of bonds or the number of bromine atoms.\n",
        " * Four continuous descriptors, such as molecular weight or surface area.\n",
        "\n",
        "* 目的変数はlog solubility\n",
        " * 範囲は−11.6から1.6、平均は−2.7"
      ]
    },
    {
      "cell_type": "code",
      "metadata": {
        "id": "BAs8TdF-Ly5J"
      },
      "source": [
        "import numpy as np\n",
        "from scipy import stats\n",
        "import pandas as pd\n",
        "import matplotlib.pyplot as plt\n",
        "import seaborn as sns\n",
        "from sklearn.model_selection import train_test_split\n",
        "from sklearn.linear_model import LinearRegression\n",
        "from sklearn.metrics import mean_squared_error\n",
        "\n",
        "%config InlineBackend.figure_format = 'retina'"
      ],
      "execution_count": 1,
      "outputs": []
    },
    {
      "cell_type": "code",
      "metadata": {
        "id": "FHmuTZD1L5ka"
      },
      "source": [
        "PATH = '/content/drive/MyDrive/data/'\n",
        "\n",
        "X = pd.read_csv(PATH + 'solTrainX.csv')\n",
        "y = pd.read_csv(PATH + 'solTrainY.csv')['x']\n",
        "\n",
        "X_test = pd.read_csv(PATH + 'solTestX.csv')\n",
        "y_test = pd.read_csv(PATH + 'solTestY.csv')['x']"
      ],
      "execution_count": 2,
      "outputs": []
    },
    {
      "cell_type": "code",
      "metadata": {
        "id": "mJxFDaWRRh7S",
        "colab": {
          "base_uri": "https://localhost:8080/"
        },
        "outputId": "1f56c12c-d623-4ab3-fed4-a4b4b6d28f71"
      },
      "source": [
        "# 0/1でない値をとる変数の名前を取り出す\n",
        "continuous = [s for s in X.columns.to_list() if s[:3] in ['Num', 'Hyd', 'Mol', 'Sur']]\n",
        "print(len(continuous), 'continuous features')\n",
        "print(continuous)"
      ],
      "execution_count": 3,
      "outputs": [
        {
          "output_type": "stream",
          "text": [
            "20 continuous features\n",
            "['MolWeight', 'NumAtoms', 'NumNonHAtoms', 'NumBonds', 'NumNonHBonds', 'NumMultBonds', 'NumRotBonds', 'NumDblBonds', 'NumAromaticBonds', 'NumHydrogen', 'NumCarbon', 'NumNitrogen', 'NumOxygen', 'NumSulfer', 'NumChlorine', 'NumHalogen', 'NumRings', 'HydrophilicFactor', 'SurfaceArea1', 'SurfaceArea2']\n"
          ],
          "name": "stdout"
        }
      ]
    },
    {
      "cell_type": "code",
      "metadata": {
        "id": "o9ts2bVrDA1B",
        "colab": {
          "base_uri": "https://localhost:8080/"
        },
        "outputId": "71fe3d77-7bde-4dcc-d264-f205e17ad256"
      },
      "source": [
        "# 0/1値をとる変数の名前を取り出す\n",
        "binary = X.columns[X.columns.str.startswith('FP')].to_list()\n",
        "print(len(binary), 'binary features')"
      ],
      "execution_count": 4,
      "outputs": [
        {
          "output_type": "stream",
          "text": [
            "208 binary features\n"
          ],
          "name": "stdout"
        }
      ]
    },
    {
      "cell_type": "markdown",
      "metadata": {
        "id": "xevwrxX3W1pR"
      },
      "source": [
        "* 訓練データと検証データを分けておく"
      ]
    },
    {
      "cell_type": "code",
      "metadata": {
        "id": "Usulx84yBkgX"
      },
      "source": [
        "X_train, X_valid, y_train, y_valid = train_test_split(X, y, test_size=0.2, random_state=42)"
      ],
      "execution_count": 5,
      "outputs": []
    },
    {
      "cell_type": "markdown",
      "metadata": {
        "id": "r_ZhZx7vW6cA"
      },
      "source": [
        "* 元のままのデータで最小二乗法を検証データ上で評価"
      ]
    },
    {
      "cell_type": "code",
      "metadata": {
        "id": "C1Xp0YMhH_7J",
        "colab": {
          "base_uri": "https://localhost:8080/"
        },
        "outputId": "503060af-7a6c-4b73-aa43-a95106fbe879"
      },
      "source": [
        "X_train = pd.concat([X_train[binary], X_train[continuous]], axis=1)\n",
        "reg = LinearRegression()\n",
        "reg.fit(X_train, y_train)\n",
        "X_valid = pd.concat([X_valid[binary], X_valid[continuous]], axis=1)\n",
        "y_valid_pred = reg.predict(X_valid)\n",
        "print(f'RMSE: {mean_squared_error(y_valid, y_valid_pred, squared=False):.4f}')"
      ],
      "execution_count": 6,
      "outputs": [
        {
          "output_type": "stream",
          "text": [
            "RMSE: 0.6571\n"
          ],
          "name": "stdout"
        }
      ]
    },
    {
      "cell_type": "markdown",
      "metadata": {
        "id": "3_GY9HxVGUtY"
      },
      "source": [
        "* このRMSEを改善できるかどうか、いろいろ試行錯誤する。"
      ]
    },
    {
      "cell_type": "markdown",
      "metadata": {
        "id": "ew-vulMpQFLW"
      },
      "source": [
        "---"
      ]
    },
    {
      "cell_type": "markdown",
      "metadata": {
        "id": "S3yUNXq3ftaz"
      },
      "source": [
        "## ２値変数のインタラクションを考慮してみる\n",
        "\n",
        "* PolynomialFeaturesを2次の設定で使う\n",
        "* その上で主成分分析を適用\n"
      ]
    },
    {
      "cell_type": "markdown",
      "metadata": {
        "id": "3Hgo6l7ycBOd"
      },
      "source": [
        "* ただし、主成分分析のコンポーネント数（次元削減後の次元数）は、Ridge回帰やLassoのalphaと同時にチューニングする\n",
        " * ここが重要っぽいです。"
      ]
    },
    {
      "cell_type": "markdown",
      "metadata": {
        "id": "LwfrLojscUyC"
      },
      "source": [
        "## Ridge回帰の場合"
      ]
    },
    {
      "cell_type": "code",
      "metadata": {
        "colab": {
          "base_uri": "https://localhost:8080/"
        },
        "id": "SMeUJkwAXXIb",
        "outputId": "bd2b9390-2034-437a-aade-e81e7ce215db"
      },
      "source": [
        "from sklearn.decomposition import PCA\n",
        "from sklearn.preprocessing import PolynomialFeatures\n",
        "from sklearn.linear_model import Ridge\n",
        "\n",
        "for n_components in [150, 200, 250, 300, 350, 400]:\n",
        "\n",
        "  pca = PCA(n_components=n_components, random_state=123)\n",
        "  poly = PolynomialFeatures(2, interaction_only=True, include_bias=False)\n",
        "\n",
        "  X_train_binary_poly = poly.fit_transform(X_train[binary])\n",
        "  X_train_binary_poly_embedded = pca.fit_transform(X_train_binary_poly)\n",
        "  X_train_embedded = np.concatenate([X_train_binary_poly_embedded, X_train[continuous]], 1)\n",
        "\n",
        "  X_valid_binary_poly_embedded = pca.transform(poly.transform(X_valid[binary]))\n",
        "  X_valid_embedded = np.concatenate([X_valid_binary_poly_embedded, X_valid[continuous]], 1)\n",
        "\n",
        "  for alpha in 10.0 ** np.arange(-3, 4):\n",
        "    reg = Ridge(alpha=alpha)\n",
        "    reg.fit(X_train_embedded, y_train)\n",
        "    y_valid_pred = reg.predict(X_valid_embedded)\n",
        "    print(f'{n_components} components | alpha {alpha:.2e} | RMSE: {mean_squared_error(y_valid, y_valid_pred, squared=False):.4f}')"
      ],
      "execution_count": 7,
      "outputs": [
        {
          "output_type": "stream",
          "text": [
            "150 components | alpha 1.00e-03 | RMSE: 0.5924\n",
            "150 components | alpha 1.00e-02 | RMSE: 0.5922\n",
            "150 components | alpha 1.00e-01 | RMSE: 0.5910\n",
            "150 components | alpha 1.00e+00 | RMSE: 0.5872\n",
            "150 components | alpha 1.00e+01 | RMSE: 0.5913\n",
            "150 components | alpha 1.00e+02 | RMSE: 0.6139\n",
            "150 components | alpha 1.00e+03 | RMSE: 0.6535\n",
            "200 components | alpha 1.00e-03 | RMSE: 0.5750\n",
            "200 components | alpha 1.00e-02 | RMSE: 0.5747\n",
            "200 components | alpha 1.00e-01 | RMSE: 0.5726\n",
            "200 components | alpha 1.00e+00 | RMSE: 0.5680\n",
            "200 components | alpha 1.00e+01 | RMSE: 0.5712\n",
            "200 components | alpha 1.00e+02 | RMSE: 0.5865\n",
            "200 components | alpha 1.00e+03 | RMSE: 0.6372\n",
            "250 components | alpha 1.00e-03 | RMSE: 0.5703\n",
            "250 components | alpha 1.00e-02 | RMSE: 0.5697\n",
            "250 components | alpha 1.00e-01 | RMSE: 0.5669\n",
            "250 components | alpha 1.00e+00 | RMSE: 0.5643\n",
            "250 components | alpha 1.00e+01 | RMSE: 0.5706\n",
            "250 components | alpha 1.00e+02 | RMSE: 0.5809\n",
            "250 components | alpha 1.00e+03 | RMSE: 0.6312\n",
            "300 components | alpha 1.00e-03 | RMSE: 0.5758\n",
            "300 components | alpha 1.00e-02 | RMSE: 0.5751\n",
            "300 components | alpha 1.00e-01 | RMSE: 0.5705\n",
            "300 components | alpha 1.00e+00 | RMSE: 0.5608\n",
            "300 components | alpha 1.00e+01 | RMSE: 0.5605\n",
            "300 components | alpha 1.00e+02 | RMSE: 0.5608\n",
            "300 components | alpha 1.00e+03 | RMSE: 0.6221\n",
            "350 components | alpha 1.00e-03 | RMSE: 0.6075\n",
            "350 components | alpha 1.00e-02 | RMSE: 0.6062\n",
            "350 components | alpha 1.00e-01 | RMSE: 0.5989\n",
            "350 components | alpha 1.00e+00 | RMSE: 0.5856\n",
            "350 components | alpha 1.00e+01 | RMSE: 0.5777\n",
            "350 components | alpha 1.00e+02 | RMSE: 0.5675\n",
            "350 components | alpha 1.00e+03 | RMSE: 0.6231\n",
            "400 components | alpha 1.00e-03 | RMSE: 0.5923\n",
            "400 components | alpha 1.00e-02 | RMSE: 0.5898\n",
            "400 components | alpha 1.00e-01 | RMSE: 0.5809\n",
            "400 components | alpha 1.00e+00 | RMSE: 0.5726\n",
            "400 components | alpha 1.00e+01 | RMSE: 0.5703\n",
            "400 components | alpha 1.00e+02 | RMSE: 0.5634\n",
            "400 components | alpha 1.00e+03 | RMSE: 0.6212\n"
          ],
          "name": "stdout"
        }
      ]
    },
    {
      "cell_type": "markdown",
      "metadata": {
        "id": "p7t_39oKcXi7"
      },
      "source": [
        "## Lassoの場合\n",
        "* まだ収束していないというwarningができるだけ出ないように、max_iterを大きな値にしておく。"
      ]
    },
    {
      "cell_type": "code",
      "metadata": {
        "colab": {
          "base_uri": "https://localhost:8080/"
        },
        "id": "S85G4b0pYD8a",
        "outputId": "571344dc-4a8c-44a6-faee-ba7d02f766b1"
      },
      "source": [
        "from sklearn.linear_model import Lasso\n",
        "\n",
        "for n_components in [150, 200, 250, 300, 350, 400]:\n",
        "    \n",
        "  pca = PCA(n_components=n_components, random_state=123)\n",
        "  poly = PolynomialFeatures(2, interaction_only=True, include_bias=False)\n",
        "\n",
        "  X_train_binary_poly = poly.fit_transform(X_train[binary])\n",
        "  X_train_binary_poly_embedded = pca.fit_transform(X_train_binary_poly)\n",
        "  X_train_embedded = np.concatenate([X_train_binary_poly_embedded, X_train[continuous]], 1)\n",
        "\n",
        "  X_valid_binary_poly_embedded = pca.transform(poly.transform(X_valid[binary]))\n",
        "  X_valid_embedded = np.concatenate([X_valid_binary_poly_embedded, X_valid[continuous]], 1)\n",
        "\n",
        "  for alpha in 10.0 ** np.arange(-4, 1):\n",
        "    reg = Lasso(alpha=alpha, max_iter=100000) # max_iterを大きな値に\n",
        "    reg.fit(X_train_embedded, y_train)\n",
        "    y_valid_pred = reg.predict(X_valid_embedded)\n",
        "    print(f'{n_components} components | alpha {alpha:.2e} | RMSE: {mean_squared_error(y_valid, y_valid_pred, squared=False):.4f}')"
      ],
      "execution_count": 8,
      "outputs": [
        {
          "output_type": "stream",
          "text": [
            "150 components | alpha 1.00e-04 | RMSE: 0.5913\n",
            "150 components | alpha 1.00e-03 | RMSE: 0.5865\n",
            "150 components | alpha 1.00e-02 | RMSE: 0.6055\n",
            "150 components | alpha 1.00e-01 | RMSE: 0.7277\n",
            "150 components | alpha 1.00e+00 | RMSE: 0.9769\n",
            "200 components | alpha 1.00e-04 | RMSE: 0.5730\n",
            "200 components | alpha 1.00e-03 | RMSE: 0.5658\n",
            "200 components | alpha 1.00e-02 | RMSE: 0.5802\n",
            "200 components | alpha 1.00e-01 | RMSE: 0.7286\n",
            "200 components | alpha 1.00e+00 | RMSE: 0.9769\n"
          ],
          "name": "stdout"
        },
        {
          "output_type": "stream",
          "text": [
            "/usr/local/lib/python3.7/dist-packages/sklearn/linear_model/_coordinate_descent.py:476: ConvergenceWarning: Objective did not converge. You might want to increase the number of iterations. Duality gap: 15.29206193983952, tolerance: 0.3181516071052631\n",
            "  positive)\n"
          ],
          "name": "stderr"
        },
        {
          "output_type": "stream",
          "text": [
            "250 components | alpha 1.00e-04 | RMSE: 0.5666\n",
            "250 components | alpha 1.00e-03 | RMSE: 0.5618\n",
            "250 components | alpha 1.00e-02 | RMSE: 0.5692\n",
            "250 components | alpha 1.00e-01 | RMSE: 0.7285\n",
            "250 components | alpha 1.00e+00 | RMSE: 0.9769\n"
          ],
          "name": "stdout"
        },
        {
          "output_type": "stream",
          "text": [
            "/usr/local/lib/python3.7/dist-packages/sklearn/linear_model/_coordinate_descent.py:476: ConvergenceWarning: Objective did not converge. You might want to increase the number of iterations. Duality gap: 1.3527679834422344, tolerance: 0.3181516071052631\n",
            "  positive)\n"
          ],
          "name": "stderr"
        },
        {
          "output_type": "stream",
          "text": [
            "300 components | alpha 1.00e-04 | RMSE: 0.5677\n",
            "300 components | alpha 1.00e-03 | RMSE: 0.5520\n",
            "300 components | alpha 1.00e-02 | RMSE: 0.5602\n",
            "300 components | alpha 1.00e-01 | RMSE: 0.7285\n",
            "300 components | alpha 1.00e+00 | RMSE: 0.9769\n"
          ],
          "name": "stdout"
        },
        {
          "output_type": "stream",
          "text": [
            "/usr/local/lib/python3.7/dist-packages/sklearn/linear_model/_coordinate_descent.py:476: ConvergenceWarning: Objective did not converge. You might want to increase the number of iterations. Duality gap: 11.72165642636206, tolerance: 0.3181516071052631\n",
            "  positive)\n"
          ],
          "name": "stderr"
        },
        {
          "output_type": "stream",
          "text": [
            "350 components | alpha 1.00e-04 | RMSE: 0.5952\n",
            "350 components | alpha 1.00e-03 | RMSE: 0.5670\n",
            "350 components | alpha 1.00e-02 | RMSE: 0.5508\n",
            "350 components | alpha 1.00e-01 | RMSE: 0.7285\n",
            "350 components | alpha 1.00e+00 | RMSE: 0.9769\n"
          ],
          "name": "stdout"
        },
        {
          "output_type": "stream",
          "text": [
            "/usr/local/lib/python3.7/dist-packages/sklearn/linear_model/_coordinate_descent.py:476: ConvergenceWarning: Objective did not converge. You might want to increase the number of iterations. Duality gap: 10.543470401306212, tolerance: 0.3181516071052631\n",
            "  positive)\n"
          ],
          "name": "stderr"
        },
        {
          "output_type": "stream",
          "text": [
            "400 components | alpha 1.00e-04 | RMSE: 0.5777\n",
            "400 components | alpha 1.00e-03 | RMSE: 0.5601\n",
            "400 components | alpha 1.00e-02 | RMSE: 0.5482\n",
            "400 components | alpha 1.00e-01 | RMSE: 0.7285\n",
            "400 components | alpha 1.00e+00 | RMSE: 0.9769\n"
          ],
          "name": "stdout"
        }
      ]
    },
    {
      "cell_type": "markdown",
      "metadata": {
        "id": "7Cseqvu4caOE"
      },
      "source": [
        "## Lassoをさらにチューニング"
      ]
    },
    {
      "cell_type": "code",
      "metadata": {
        "colab": {
          "base_uri": "https://localhost:8080/"
        },
        "id": "Mlrn7GEBaUc3",
        "outputId": "00425d18-c427-4c9e-bff6-5296b11175e9"
      },
      "source": [
        "from sklearn.linear_model import Lasso\n",
        "\n",
        "for n_components in [350, 400, 450, 500]:\n",
        "    \n",
        "  pca = PCA(n_components=n_components, random_state=123)\n",
        "  poly = PolynomialFeatures(2, interaction_only=True, include_bias=False)\n",
        "\n",
        "  X_train_binary_poly = poly.fit_transform(X_train[binary])\n",
        "  X_train_binary_poly_embedded = pca.fit_transform(X_train_binary_poly)\n",
        "  X_train_embedded = np.concatenate([X_train_binary_poly_embedded, X_train[continuous]], 1)\n",
        "\n",
        "  X_valid_binary_poly_embedded = pca.transform(poly.transform(X_valid[binary]))\n",
        "  X_valid_embedded = np.concatenate([X_valid_binary_poly_embedded, X_valid[continuous]], 1)\n",
        "\n",
        "  for alpha in [0.002, 0.005, 0.01, 0.02, 0.05]:\n",
        "    reg = Lasso(alpha=alpha, max_iter=100000)\n",
        "    reg.fit(X_train_embedded, y_train)\n",
        "    y_valid_pred = reg.predict(X_valid_embedded)\n",
        "    print(f'{n_components} components | alpha {alpha:.2e} | RMSE: {mean_squared_error(y_valid, y_valid_pred, squared=False):.4f}')"
      ],
      "execution_count": 9,
      "outputs": [
        {
          "output_type": "stream",
          "text": [
            "350 components | alpha 2.00e-03 | RMSE: 0.5614\n",
            "350 components | alpha 5.00e-03 | RMSE: 0.5550\n",
            "350 components | alpha 1.00e-02 | RMSE: 0.5508\n",
            "350 components | alpha 2.00e-02 | RMSE: 0.5807\n",
            "350 components | alpha 5.00e-02 | RMSE: 0.6605\n",
            "400 components | alpha 2.00e-03 | RMSE: 0.5549\n",
            "400 components | alpha 5.00e-03 | RMSE: 0.5469\n",
            "400 components | alpha 1.00e-02 | RMSE: 0.5482\n",
            "400 components | alpha 2.00e-02 | RMSE: 0.5798\n",
            "400 components | alpha 5.00e-02 | RMSE: 0.6605\n",
            "450 components | alpha 2.00e-03 | RMSE: 0.5705\n",
            "450 components | alpha 5.00e-03 | RMSE: 0.5580\n",
            "450 components | alpha 1.00e-02 | RMSE: 0.5529\n",
            "450 components | alpha 2.00e-02 | RMSE: 0.5795\n",
            "450 components | alpha 5.00e-02 | RMSE: 0.6605\n",
            "500 components | alpha 2.00e-03 | RMSE: 0.5651\n",
            "500 components | alpha 5.00e-03 | RMSE: 0.5473\n",
            "500 components | alpha 1.00e-02 | RMSE: 0.5490\n",
            "500 components | alpha 2.00e-02 | RMSE: 0.5797\n",
            "500 components | alpha 5.00e-02 | RMSE: 0.6605\n"
          ],
          "name": "stdout"
        }
      ]
    },
    {
      "cell_type": "code",
      "metadata": {
        "colab": {
          "base_uri": "https://localhost:8080/"
        },
        "id": "T6uwESgFayED",
        "outputId": "3c72f8d0-abd1-485e-bd0e-4bce63e5a5f6"
      },
      "source": [
        "from sklearn.linear_model import Lasso\n",
        "\n",
        "for n_components in [380, 390, 400, 410, 420]:\n",
        "    \n",
        "  pca = PCA(n_components=n_components, random_state=123)\n",
        "  poly = PolynomialFeatures(2, interaction_only=True, include_bias=False)\n",
        "\n",
        "  X_train_binary_poly = poly.fit_transform(X_train[binary])\n",
        "  X_train_binary_poly_embedded = pca.fit_transform(X_train_binary_poly)\n",
        "  X_train_embedded = np.concatenate([X_train_binary_poly_embedded, X_train[continuous]], 1)\n",
        "\n",
        "  X_valid_binary_poly_embedded = pca.transform(poly.transform(X_valid[binary]))\n",
        "  X_valid_embedded = np.concatenate([X_valid_binary_poly_embedded, X_valid[continuous]], 1)\n",
        "\n",
        "  for alpha in [0.003, 0.004, 0.005, 0.006, 0.007, 0.008, 0.009]:\n",
        "    reg = Lasso(alpha=alpha, max_iter=100000)\n",
        "    reg.fit(X_train_embedded, y_train)\n",
        "    y_valid_pred = reg.predict(X_valid_embedded)\n",
        "    print(f'{n_components} components | alpha {alpha:.2e} | RMSE: {mean_squared_error(y_valid, y_valid_pred, squared=False):.4f}')"
      ],
      "execution_count": 10,
      "outputs": [
        {
          "output_type": "stream",
          "text": [
            "380 components | alpha 3.00e-03 | RMSE: 0.5657\n",
            "380 components | alpha 4.00e-03 | RMSE: 0.5629\n",
            "380 components | alpha 5.00e-03 | RMSE: 0.5601\n",
            "380 components | alpha 6.00e-03 | RMSE: 0.5580\n",
            "380 components | alpha 7.00e-03 | RMSE: 0.5559\n",
            "380 components | alpha 8.00e-03 | RMSE: 0.5540\n",
            "380 components | alpha 9.00e-03 | RMSE: 0.5538\n",
            "390 components | alpha 3.00e-03 | RMSE: 0.5665\n",
            "390 components | alpha 4.00e-03 | RMSE: 0.5623\n",
            "390 components | alpha 5.00e-03 | RMSE: 0.5603\n",
            "390 components | alpha 6.00e-03 | RMSE: 0.5587\n",
            "390 components | alpha 7.00e-03 | RMSE: 0.5582\n",
            "390 components | alpha 8.00e-03 | RMSE: 0.5575\n",
            "390 components | alpha 9.00e-03 | RMSE: 0.5563\n",
            "400 components | alpha 3.00e-03 | RMSE: 0.5507\n",
            "400 components | alpha 4.00e-03 | RMSE: 0.5483\n",
            "400 components | alpha 5.00e-03 | RMSE: 0.5469\n",
            "400 components | alpha 6.00e-03 | RMSE: 0.5469\n",
            "400 components | alpha 7.00e-03 | RMSE: 0.5462\n",
            "400 components | alpha 8.00e-03 | RMSE: 0.5466\n",
            "400 components | alpha 9.00e-03 | RMSE: 0.5474\n",
            "410 components | alpha 3.00e-03 | RMSE: 0.5618\n",
            "410 components | alpha 4.00e-03 | RMSE: 0.5586\n",
            "410 components | alpha 5.00e-03 | RMSE: 0.5562\n",
            "410 components | alpha 6.00e-03 | RMSE: 0.5542\n",
            "410 components | alpha 7.00e-03 | RMSE: 0.5514\n",
            "410 components | alpha 8.00e-03 | RMSE: 0.5496\n",
            "410 components | alpha 9.00e-03 | RMSE: 0.5496\n",
            "420 components | alpha 3.00e-03 | RMSE: 0.5665\n",
            "420 components | alpha 4.00e-03 | RMSE: 0.5622\n",
            "420 components | alpha 5.00e-03 | RMSE: 0.5596\n",
            "420 components | alpha 6.00e-03 | RMSE: 0.5577\n",
            "420 components | alpha 7.00e-03 | RMSE: 0.5557\n",
            "420 components | alpha 8.00e-03 | RMSE: 0.5543\n",
            "420 components | alpha 9.00e-03 | RMSE: 0.5532\n"
          ],
          "name": "stdout"
        }
      ]
    },
    {
      "cell_type": "markdown",
      "metadata": {
        "id": "_bu10Uvak8TL"
      },
      "source": [
        "### ここまで一番良かった手法で最終評価\n",
        "* PCAで400次元に落とす\n",
        "* Lassoのalphaを0.007にする"
      ]
    },
    {
      "cell_type": "code",
      "metadata": {
        "id": "tmqZu7AfJ4Q3",
        "colab": {
          "base_uri": "https://localhost:8080/"
        },
        "outputId": "590894f9-9c6c-46ea-90c8-3523bbaf68c4"
      },
      "source": [
        "n_components = 400\n",
        "pca = PCA(n_components=n_components, random_state=123)\n",
        "poly = PolynomialFeatures(2, interaction_only=True, include_bias=False)\n",
        "X_train_binary_poly = poly.fit_transform(X_train[binary])\n",
        "X_train_binary_poly_embedded = pca.fit_transform(X_train_binary_poly)\n",
        "X_train_embedded = np.concatenate([X_train_binary_poly_embedded, X_train[continuous]], 1)\n",
        "\n",
        "reg = Lasso(alpha=0.007, max_iter=100000)\n",
        "reg.fit(X_train_embedded, y_train)\n",
        "\n",
        "X_test_binary_poly_embedded = pca.transform(poly.transform(X_test[binary]))\n",
        "X_test_embedded = np.concatenate([X_test_binary_poly_embedded, X_test[continuous]], 1)\n",
        "y_test_pred = reg.predict(X_test_embedded)\n",
        "print('RMSE:', mean_squared_error(y_test, y_test_pred, squared=False))"
      ],
      "execution_count": 11,
      "outputs": [
        {
          "output_type": "stream",
          "text": [
            "RMSE: 0.6735017331270905\n"
          ],
          "name": "stdout"
        }
      ]
    }
  ]
}