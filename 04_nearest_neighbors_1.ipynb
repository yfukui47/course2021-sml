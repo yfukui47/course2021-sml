{
  "nbformat": 4,
  "nbformat_minor": 0,
  "metadata": {
    "kernelspec": {
      "display_name": "Python 3",
      "language": "python",
      "name": "python3"
    },
    "language_info": {
      "codemirror_mode": {
        "name": "ipython",
        "version": 3
      },
      "file_extension": ".py",
      "mimetype": "text/x-python",
      "name": "python",
      "nbconvert_exporter": "python",
      "pygments_lexer": "ipython3",
      "version": "3.7.6"
    },
    "colab": {
      "name": "04_nearest_neighbors_1.ipynb",
      "provenance": [],
      "collapsed_sections": [],
      "include_colab_link": true
    }
  },
  "cells": [
    {
      "cell_type": "markdown",
      "metadata": {
        "id": "view-in-github",
        "colab_type": "text"
      },
      "source": [
        "<a href=\"https://colab.research.google.com/github/tomonari-masada/course2021-sml/blob/main/04_nearest_neighbors_1.ipynb\" target=\"_parent\"><img src=\"https://colab.research.google.com/assets/colab-badge.svg\" alt=\"Open In Colab\"/></a>"
      ]
    },
    {
      "cell_type": "markdown",
      "metadata": {
        "id": "mu4ZhS4kEkFp"
      },
      "source": [
        "# 4. k近傍法\n",
        "* 直感的には、「どんな友人と付き合っているかを見ればその人が分かる」という考え方にもとづく分類および回帰の手法。\n",
        "* 新しいデータ点について、対応する目的変数の値を予測する場合、そのデータ点のk個の近傍のクラスを元に予測する。\n",
        " * クラスを予測する（分類）の場合、予測は多数決で行われる。\n",
        " * 数値を予測する（回帰）の場合、近傍の目的変数の値の平均を予測値とする。（他の方法もありうる。）"
      ]
    },
    {
      "cell_type": "markdown",
      "metadata": {
        "id": "o6bysduxJFWw"
      },
      "source": [
        "## 4.1 準備"
      ]
    },
    {
      "cell_type": "markdown",
      "metadata": {
        "id": "tCgsFz61JH-o"
      },
      "source": [
        "### 4.1.1 必要なパッケージのインポート"
      ]
    },
    {
      "cell_type": "code",
      "metadata": {
        "id": "L_Lmt3WUxc1T"
      },
      "source": [
        "import numpy as np\n",
        "import pandas as pd\n",
        "import matplotlib.pyplot as plt\n",
        "\n",
        "%config InlineBackend.figure_format = 'retina'"
      ],
      "execution_count": null,
      "outputs": []
    },
    {
      "cell_type": "markdown",
      "metadata": {
        "id": "kzMp2waiJNca"
      },
      "source": [
        "### 4.1.2 データファイルのアップロード\n",
        "* 説明変数は国民一人当たりのGDP。\n",
        "* 目的変数は生活満足度。\n",
        "* 国民一人当たりのGDPを使って、生活満足度を予測する。"
      ]
    },
    {
      "cell_type": "markdown",
      "metadata": {
        "id": "bg1mpu9nI9DE"
      },
      "source": [
        "* `lifesat.csv`というファイルをColabにアップロードする。"
      ]
    },
    {
      "cell_type": "code",
      "metadata": {
        "id": "d-CK-HssI8Uh"
      },
      "source": [
        "from google.colab import files\n",
        "files.upload()"
      ],
      "execution_count": null,
      "outputs": []
    },
    {
      "cell_type": "markdown",
      "metadata": {
        "id": "KuZKbqTrJmnu"
      },
      "source": [
        "### 4.1.3 データファイルの内容を確認"
      ]
    },
    {
      "cell_type": "code",
      "metadata": {
        "id": "-Yyt9P1Cxc1W"
      },
      "source": [
        "country_stats = pd.read_csv('lifesat.csv')"
      ],
      "execution_count": null,
      "outputs": []
    },
    {
      "cell_type": "code",
      "metadata": {
        "id": "Dt1KNR7Sxc1c"
      },
      "source": [
        "country_stats"
      ],
      "execution_count": null,
      "outputs": []
    },
    {
      "cell_type": "code",
      "metadata": {
        "id": "noBKVMLQxc1Z"
      },
      "source": [
        "country_stats.info()"
      ],
      "execution_count": null,
      "outputs": []
    },
    {
      "cell_type": "code",
      "metadata": {
        "id": "67O8Si4EJwKY"
      },
      "source": [
        "country_stats.describe()"
      ],
      "execution_count": null,
      "outputs": []
    },
    {
      "cell_type": "markdown",
      "metadata": {
        "id": "upvYkkh_KDlS"
      },
      "source": [
        "* 国民一人当たりのGDPを使って生活満足度を予測するという問題設定が、そもそも妥当な問題設定かどうか、確認する。\n",
        " * 説明変数と目的変数とのあいだに、ある程度の関連性がないと、解けない問題を解こうとしていることになる。"
      ]
    },
    {
      "cell_type": "code",
      "metadata": {
        "id": "o4pTlEYxxc1f"
      },
      "source": [
        "country_stats.plot(kind='scatter', x='GDP per capita', y='Life satisfaction')"
      ],
      "execution_count": null,
      "outputs": []
    },
    {
      "cell_type": "markdown",
      "metadata": {
        "id": "Pv2ZyEWkKdVf"
      },
      "source": [
        "## 4.2 1近傍法の実装（k=1の場合のk近傍法）\n",
        "* 例題として、日本の生活満足度の予測を考える。\n",
        "* そこで、最も日本に近い国の生活満足度でもって、日本の生活満足度の予測値とする手法を、実装してみる。"
      ]
    },
    {
      "cell_type": "markdown",
      "metadata": {
        "id": "pVwf-GRQN03L"
      },
      "source": [
        "### 4.2.1 説明変数と目的変数の用意"
      ]
    },
    {
      "cell_type": "markdown",
      "metadata": {
        "id": "s-umrrVSNlSP"
      },
      "source": [
        "* 国名をインデックスに設定してデータフレームを作り直す。"
      ]
    },
    {
      "cell_type": "code",
      "metadata": {
        "id": "ZIqEnUpeM5pH"
      },
      "source": [
        "df = country_stats.set_index('Country')"
      ],
      "execution_count": null,
      "outputs": []
    },
    {
      "cell_type": "code",
      "metadata": {
        "id": "hendlvfkM974"
      },
      "source": [
        "df"
      ],
      "execution_count": null,
      "outputs": []
    },
    {
      "cell_type": "markdown",
      "metadata": {
        "id": "lHiE2oavNqjs"
      },
      "source": [
        "* 説明変数である一人当たりのGDPと、目的変数である生活満足度とを、別々に保存する。"
      ]
    },
    {
      "cell_type": "code",
      "metadata": {
        "id": "2sNIm_oTMi0v"
      },
      "source": [
        "x = df['GDP per capita']\n",
        "y = df['Life satisfaction']"
      ],
      "execution_count": null,
      "outputs": []
    },
    {
      "cell_type": "markdown",
      "metadata": {
        "id": "y2czJo-NOBWT"
      },
      "source": [
        "* 日本の生活満足度を予測したい。\n",
        "* そのために、日本の近傍となる国を求める必要がある。\n",
        "* 近傍を求める時には、説明変数を使う。"
      ]
    },
    {
      "cell_type": "code",
      "metadata": {
        "id": "u2FCQCcCNHXM"
      },
      "source": [
        "x['Japan']"
      ],
      "execution_count": null,
      "outputs": []
    },
    {
      "cell_type": "markdown",
      "metadata": {
        "id": "FBK7T_BRPSW_"
      },
      "source": [
        "* なお、以下のようにすれば、インデックスを枚挙できる。"
      ]
    },
    {
      "cell_type": "code",
      "metadata": {
        "id": "0cvMhZqXPM4X"
      },
      "source": [
        "for country in df.index:\n",
        "  print(country)"
      ],
      "execution_count": null,
      "outputs": []
    },
    {
      "cell_type": "markdown",
      "metadata": {
        "id": "3DmGBd8QRB09"
      },
      "source": [
        "* 以下のようにすれば、各国の一人あたりのGDPを枚挙できる。"
      ]
    },
    {
      "cell_type": "code",
      "metadata": {
        "id": "06Pg2WshRGT7"
      },
      "source": [
        "for country in df.index:\n",
        "  print(x[country])"
      ],
      "execution_count": null,
      "outputs": []
    },
    {
      "cell_type": "markdown",
      "metadata": {
        "id": "l_q45XqlO18M"
      },
      "source": [
        "### 4.2.2 演習"
      ]
    },
    {
      "cell_type": "markdown",
      "metadata": {
        "id": "YD_dx8JyOL-s"
      },
      "source": [
        "* 演習問題4-1：日本の説明変数の値に、最も近い説明変数の値を持つ国を求めてみよう。"
      ]
    },
    {
      "cell_type": "code",
      "metadata": {
        "id": "ZCOzivS2NjCa"
      },
      "source": [
        ""
      ],
      "execution_count": null,
      "outputs": []
    },
    {
      "cell_type": "markdown",
      "metadata": {
        "id": "uo6zKQu-Qdpe"
      },
      "source": [
        "* 演習問題4-2：日本に最も近い国の生活満足度を、日本の生活満足度の予測値とした場合、予測誤差はいくらになるか。"
      ]
    },
    {
      "cell_type": "code",
      "metadata": {
        "id": "DulsnyugQcNe"
      },
      "source": [
        ""
      ],
      "execution_count": null,
      "outputs": []
    },
    {
      "cell_type": "markdown",
      "metadata": {
        "id": "K4YmbhR2O5Ox"
      },
      "source": [
        "## 4.3 k近傍法の実装"
      ]
    },
    {
      "cell_type": "markdown",
      "metadata": {
        "id": "Y0r3MZZ6O-Ef"
      },
      "source": [
        "### 4.3.1 演習"
      ]
    },
    {
      "cell_type": "markdown",
      "metadata": {
        "id": "eUxcbESySVeD"
      },
      "source": [
        "* 演習問題4-3：日本以外の全ての国について、説明変数を使って計算される日本との距離を、求めてみよう。"
      ]
    },
    {
      "cell_type": "code",
      "metadata": {
        "id": "Zoj2kgnaSq62"
      },
      "source": [
        ""
      ],
      "execution_count": null,
      "outputs": []
    },
    {
      "cell_type": "markdown",
      "metadata": {
        "id": "uj38fHOiObSp"
      },
      "source": [
        "* 演習問題4-4：日本の説明変数の値に近い順に、他の全ての国を並べ替えて、表示させてみよう。"
      ]
    },
    {
      "cell_type": "code",
      "metadata": {
        "id": "-mm5cZiSOwci"
      },
      "source": [
        ""
      ],
      "execution_count": null,
      "outputs": []
    },
    {
      "cell_type": "markdown",
      "metadata": {
        "id": "hLgu1q5YPg4o"
      },
      "source": [
        "* 演習問題4-5：変数kに、求めるべき近傍の個数がセットされているとする。日本のk個の近傍の国名を、日本に近い順に表示させてみよう。"
      ]
    },
    {
      "cell_type": "code",
      "metadata": {
        "id": "suZEBNaDO7n8"
      },
      "source": [
        "k = 5\n"
      ],
      "execution_count": null,
      "outputs": []
    },
    {
      "cell_type": "markdown",
      "metadata": {
        "id": "b89AK_rnQJFg"
      },
      "source": [
        "* 演習問題4-6：上で求めたk個の国について、それらの国の生活満足度の平均値を求めてみよう。"
      ]
    },
    {
      "cell_type": "code",
      "metadata": {
        "id": "kovx7LeBQa3i"
      },
      "source": [
        ""
      ],
      "execution_count": null,
      "outputs": []
    },
    {
      "cell_type": "markdown",
      "metadata": {
        "id": "25Yto3BNQ0zR"
      },
      "source": [
        "* 演習問題4-7：上の平均値を、日本の生活満足度の予測値とした場合、予測誤差はいくらになるか。"
      ]
    },
    {
      "cell_type": "code",
      "metadata": {
        "id": "C9S-4DstQ7_q"
      },
      "source": [
        ""
      ],
      "execution_count": null,
      "outputs": []
    }
  ]
}