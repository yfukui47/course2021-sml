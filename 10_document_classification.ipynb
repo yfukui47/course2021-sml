{
  "nbformat": 4,
  "nbformat_minor": 0,
  "metadata": {
    "colab": {
      "name": "10_document_classification.ipynb",
      "provenance": [],
      "collapsed_sections": [],
      "mount_file_id": "1Ud7V89xZ504GreKsw6yTFAkk9U45S3FR",
      "authorship_tag": "ABX9TyPXlGjjWelGn9uY0iYYcVd0",
      "include_colab_link": true
    },
    "kernelspec": {
      "name": "python3",
      "display_name": "Python 3"
    }
  },
  "cells": [
    {
      "cell_type": "markdown",
      "metadata": {
        "id": "view-in-github",
        "colab_type": "text"
      },
      "source": [
        "<a href=\"https://colab.research.google.com/github/tomonari-masada/course2021-sml/blob/main/10_document_classification.ipynb\" target=\"_parent\"><img src=\"https://colab.research.google.com/assets/colab-badge.svg\" alt=\"Open In Colab\"/></a>"
      ]
    },
    {
      "cell_type": "markdown",
      "metadata": {
        "id": "77taeHZLUaTm"
      },
      "source": [
        "# 機械学習で文書分類を試みる\n",
        "\n",
        "* WikipediaからUSの男性俳優と女性俳優のページを2020年にクローリングして、spaCyで簡単な前処理を済ませてあるデータを使う。\n",
        "\n",
        " * 固有名詞、冠詞、前置詞、代名詞、副詞、数詞、接続詞は除去してある。\n",
        " * lemmatizationした結果を使っている。\n",
        " * \"actor\"と\"actress\"という単語は特別に除去してある。\n",
        "\n",
        "* 分析の目的1: 検証データでできるかぎりチューニングを行い、最後にテストデータでの分類性能を明らかにする。\n",
        "\n",
        "* 分析の目的2: 男性俳優と女性俳優のページを分類する際に、どのような単語が特に効いているかを調べる。\n",
        "\n",
        " * この調査によって、俳優に関する記述におけるジェンダー・ステレオタイプを明らかにできるか？"
      ]
    },
    {
      "cell_type": "code",
      "metadata": {
        "id": "Qos6P0RsSsqg"
      },
      "source": [
        "import numpy as np\n",
        "import pandas as pd\n",
        "import matplotlib.pyplot as plt\n",
        "import seaborn as sns\n",
        "from sklearn.model_selection import train_test_split, StratifiedKFold\n",
        "from sklearn.linear_model import LogisticRegression\n",
        "from sklearn.svm import LinearSVC\n",
        "from sklearn.metrics import roc_auc_score, auc, roc_curve\n",
        "from sklearn.feature_extraction.text import TfidfVectorizer\n",
        "\n",
        "%config InlineBackend.figure_format = 'retina'"
      ],
      "execution_count": null,
      "outputs": []
    },
    {
      "cell_type": "markdown",
      "metadata": {
        "id": "oEMUit1zVZma"
      },
      "source": [
        "## 1) データファイルを読み込む\n",
        "\n",
        "* データファイルは、あらかじめ自分のGoogle Driveの適当なフォルダに置いておく。\n",
        "\n",
        "* データファイルの各行には、女性俳優(1)か男性俳優(0)かを表すフラグ、俳優の名前、Wikipediaのページの本文が、この順に格納されている。\n",
        "\n",
        "* データファイルの各行に対してeval組み込み関数を適用すると、Pythonのリストに変換できるようなフォーマットで、ファイルに記録されている。"
      ]
    },
    {
      "cell_type": "code",
      "metadata": {
        "id": "ngsjTPa8TqgP"
      },
      "source": [
        "y = list()\n",
        "names = list()\n",
        "corpus = list()\n",
        "with open('/content/drive/MyDrive/2021Courses/SML/us_actors_and_actresses.txt', 'r') as f:\n",
        "  for line in f:\n",
        "    flag, name, text = eval(line.strip())\n",
        "    y.append(int(flag))\n",
        "    names.append(name)\n",
        "    corpus.append(text)"
      ],
      "execution_count": null,
      "outputs": []
    },
    {
      "cell_type": "markdown",
      "metadata": {
        "id": "7pz_yuM4CEYt"
      },
      "source": [
        "* `corpus`は、本文の文字列がたくさん入っているリスト。最初の10件の文書だけ表示してみる。\n"
      ]
    },
    {
      "cell_type": "code",
      "metadata": {
        "id": "48lbVvkseCqk",
        "colab": {
          "base_uri": "https://localhost:8080/"
        },
        "outputId": "7ba8c9c1-2fb6-4003-a0f0-e3e38385a1eb"
      },
      "source": [
        "corpus[:10]"
      ],
      "execution_count": null,
      "outputs": [
        {
          "output_type": "execute_result",
          "data": {
            "text/plain": [
              "['bear american bond appear guest television show feature film film production company call fellow bear convict manslaughter death aunt boyfriend finish serve year sentence',\n",
              " 'american film director',\n",
              " 'american film bear appear film remember role several film give era perform cast stereotypical role common film time boundless energy can see restrictive role master become know scared reaction comedy appear soundie musical film viewer will remember portrayal startled cook quizzical orderly frighten porter apprehensive watchman such film hold play lovable train conductor bug eye shriek ah lion attack rip seat pant shine pair shoe gag use previous short portrayal scene funny crew could contain laughter can hear final release memorable role hapless chef plumbing Will go utter bewilderment house sho go crazy able show range act talent role able raise laugh audience give suspicious sideway look kitchen appliance act footage would recycle more future comedy include film scene raincoat clothe inform guest dinner postpone account rain turn phrase use describe cancelling baseball game inclement weather make mark series receive featured billing several comedy produce valet scary situation react comic terror early 1950 appear several episode tv lodge member retire act die brain tumor age bury live see renew interest 1960 work stooge',\n",
              " 'american stage film television bear begin career age make feature film debut ticket taker television career play old man episode appear episode gunsmoke episode episode last appearance screen play die age',\n",
              " 'bear american silent film appear action film western film bear son father wish perform young child adolescence arrest infidelity complaint wife unknown enter film industry feature film could research career appear feature film known role husband outside married die age',\n",
              " 'bear american former child real estate broker commercial cast director entrepreneur known role bear bear classical musician parent mother renowned composer orchestra late 20th century guitar concerto her final contention father graduate clarinetist librarian play appear radio tv commercial voice over theater play role film year old perform declare hiatus act age kid go receive theatre urge travel found travel service arrange bind charter flight backpacker passion travel take country follow brief stint real estate film production commercial cast business representation few other venture sign autograph movie convention run photography business make sporadic appearance commercial play tv show adult acting appearance include sixth season episode series fawning fan play contestant bill former child star episode american game show themman appear british television morning show other child make additional 40th anniversary reunion appearance day appear tv version win money lose themman appear podcast episode record wife appear contestant return champion defeat third appearance contestant finish second place marry couple reside sister singer music therapist sister married voice voice director',\n",
              " 'american work television bear son geophysicist attend earn degree follow year stint rise rank plan study derail cast off play play close performance lead cast episode citation need appearance limit man follow regular soap opera search primetime recur role feature tv movie such eye take beautiful film appearance include title role ride edge will remember play play play other tv role include frasier caution murder Can hazardous married divorce marry daughter announce death day occur specify cause die heart attack',\n",
              " 'bear american stage film appear several dozen film character bear son first wife daughter prominent family citation need note variety performance weak willed strong character such father psychopathic killer good know performance ineffectual police chief father biker love interest film tough nonsense cop time antagonist film musical starring role write wind role television include role father lead role episode present last screen effort role rich patriarch self center greed riddled family wait benefactor die second wife stage son marry decade junior divorce cite abuse domestic cruelty divorce filing know committed suicide jump famous remain married fourth wife death citation need',\n",
              " 'pioneer african american martial artist member member focusse die cancer bear die raise graduating go attend graduate belief street provide dynamic education work firefighter achieve rank former jiujitsu practitioner learn member chairman hold position head coach key get karate recognize consider american martial art pioneer defeat many famous martial artist include tournament train consider contemporary 8th degree blackbelt induct feature various magazine include act movie star movie feature training youth documentary',\n",
              " 'writer producer director bear ambulance highway outskirt early training begin mentor late founder director choreographer educator join company member other notable teacher act act theater history voice costume make early training dancer include class short stay study perform meet go work numerous project include different tv appearance include guest star role different several commercial perform special receive nomination choreography appear nominate co star opening number original cast star have appear original production return company production play role other credit include play different time co star original australian cast die prostate cancer']"
            ]
          },
          "metadata": {
            "tags": []
          },
          "execution_count": 3
        }
      ]
    },
    {
      "cell_type": "markdown",
      "metadata": {
        "id": "A0epIPR0CH8f"
      },
      "source": [
        "* `y`は、各文書が男性俳優に関するものか、女性俳優に関するものかを表す、0/1の値（これが目的変数）。\n",
        "* `names`は、各文書が誰に関する記事かを表す俳優の名前（分類には使わない参考データ）。\n",
        "\n"
      ]
    },
    {
      "cell_type": "code",
      "metadata": {
        "id": "mB1KVAZ6YB3E",
        "colab": {
          "base_uri": "https://localhost:8080/"
        },
        "outputId": "1a1fc1b9-e0b4-43e5-f752-38ced594ac9a"
      },
      "source": [
        "y = np.array(y)\n",
        "names = np.array(names)\n",
        "print(names[:20])"
      ],
      "execution_count": null,
      "outputs": [
        {
          "output_type": "stream",
          "text": [
            "['De%27Aundre_Bonds' 'James_McLaughlin_(actor)' 'Dudley_Dickerson'\n",
            " 'Charles_P._Thompson' 'Gus_Saville' 'Paris_Themmen' 'Peter_Haskell'\n",
            " 'Robert_Keith_(actor)' 'Thomas_Carroll_(martial_artist)'\n",
            " 'Matthew_Dickens' 'Nat_Benchley' 'Richard_Hunt_(puppeteer)'\n",
            " 'Thomas_McDonell' 'Paul_Smith_(American_actor,_born_1929)' 'Jim_Zulevic'\n",
            " 'Rob_Moran' 'Harry_Bannister' 'Shaun_Weiss' 'Peter_Sarsgaard'\n",
            " 'Palmer_Williams_Jr.']\n"
          ],
          "name": "stdout"
        }
      ]
    },
    {
      "cell_type": "code",
      "metadata": {
        "id": "VR0Ew63dY-1I",
        "colab": {
          "base_uri": "https://localhost:8080/"
        },
        "outputId": "534d4b5a-c597-45a0-9add-2a7a0a29d7ca"
      },
      "source": [
        "N = len(y) # 全文書数\n",
        "print(f'We have {N:d} documents.')"
      ],
      "execution_count": null,
      "outputs": [
        {
          "output_type": "stream",
          "text": [
            "We have 19645 documents.\n"
          ],
          "name": "stdout"
        }
      ]
    },
    {
      "cell_type": "markdown",
      "metadata": {
        "id": "TvlpBs-hGzML"
      },
      "source": [
        "## 2) テストデータを分離"
      ]
    },
    {
      "cell_type": "markdown",
      "metadata": {
        "id": "fRFXDP_BCVTc"
      },
      "source": [
        "* 訓練データとテストデータを分割するために、インデックスをランダムにシャッフルする。\n"
      ]
    },
    {
      "cell_type": "code",
      "metadata": {
        "id": "xqhGQYYQbDx-",
        "colab": {
          "base_uri": "https://localhost:8080/"
        },
        "outputId": "b51058c8-f68b-4ce8-cfda-4dd1fa170395"
      },
      "source": [
        "indices = np.arange(N)\n",
        "np.random.seed(123) # 乱数のシードを固定して再現性を持たせている。\n",
        "np.random.shuffle(indices)\n",
        "print(indices)"
      ],
      "execution_count": null,
      "outputs": [
        {
          "output_type": "stream",
          "text": [
            "[12617 18144 17561 ... 15377 17730 15725]\n"
          ],
          "name": "stdout"
        }
      ]
    },
    {
      "cell_type": "markdown",
      "metadata": {
        "id": "dSA-zHtKCgwj"
      },
      "source": [
        "* 手動で訓練データ8割、テストデータ2割に分割する。\n"
      ]
    },
    {
      "cell_type": "code",
      "metadata": {
        "id": "kuNIHWRbbMC6",
        "colab": {
          "base_uri": "https://localhost:8080/"
        },
        "outputId": "16a4ad50-2bf6-4a9a-eaf7-1e254c63e806"
      },
      "source": [
        "border = N * 8 // 10\n",
        "print(f'We have {N - border:d} test documents.')\n",
        "train_indices = indices[:border]\n",
        "test_indices = indices[border:]\n",
        "y_train = y[train_indices]\n",
        "y_test = y[test_indices]\n",
        "names_train = names[train_indices]\n",
        "names_test = names[test_indices]"
      ],
      "execution_count": null,
      "outputs": [
        {
          "output_type": "stream",
          "text": [
            "We have 3929 test documents.\n"
          ],
          "name": "stdout"
        }
      ]
    },
    {
      "cell_type": "markdown",
      "metadata": {
        "id": "1hsCbjgACssR"
      },
      "source": [
        "* 本文のほうも、インデックスの同じ分割を使って、訓練データとテストデータに分割する。\n",
        "\n"
      ]
    },
    {
      "cell_type": "code",
      "metadata": {
        "id": "MPZeCpZlesne"
      },
      "source": [
        "corpus_train = list()\n",
        "for i in train_indices:\n",
        "  corpus_train.append(corpus[i])\n",
        "corpus_test = list()\n",
        "for i in test_indices:\n",
        "  corpus_test.append(corpus[i])"
      ],
      "execution_count": null,
      "outputs": []
    },
    {
      "cell_type": "markdown",
      "metadata": {
        "id": "CZFZGWwte8fu"
      },
      "source": [
        "* ここまでのtraining setとtest setへの分割は、変えないようにしてください。"
      ]
    },
    {
      "cell_type": "markdown",
      "metadata": {
        "id": "KKg-InjbVh7r"
      },
      "source": [
        "## 3) TF-IDFで各文書をベクトル化する\n",
        "\n"
      ]
    },
    {
      "cell_type": "markdown",
      "metadata": {
        "id": "MQWEdxwuC7Tt"
      },
      "source": [
        "### TF-IDFとは\n",
        "* TF-IDFは単語列をベクトル化する方法のひとつ。\n",
        "* ベクトルの次元は語彙数となる。各文書が1つのベクトルへ変換される。\n",
        "\n",
        " * すべての単語について、文書ごとに重みを計算する方法。\n",
        " * TFとは、ある文書のなかにその単語が何回出現するか、その回数。\n",
        " * DFとは、単語がいくつの文書に出現するか、その文書数。IDFはDFの逆数。\n",
        " * TF-IDFは、ざっくり言うと、TFとIDFの積。\n",
        " * 特定の文書に注目すると、その文書に出現する回数が多いほど、TF-IDFの値は大きくなる。しかし、たくさんの文書に出現する単語は、IDFが小さくなるので、その分、TF-IDFの値は小さくなる。"
      ]
    },
    {
      "cell_type": "markdown",
      "metadata": {
        "id": "qbLfK3LvDEMf"
      },
      "source": [
        "### sklearnの`TfidfVectorizer`について\n",
        "* TfidfVectorizerのパラメータをチューニングしても構わないです。\n",
        "\n",
        "* ここでTF-IDFの計算をするとき、テストデータは使っていないので、ズルはしていない。\n",
        "* stop_words='english'とは、英語のストップワードは語彙から取り除く、という意味。\n",
        "  * ストップワードとはthe, a, is, ofなど、ありふれすぎていて、文書分類などのタスクにはあまり効かない単語のこと。こういう単語は、特徴量削減の意味も含めて、しばしばあらかじめ削除しておく。\n",
        "\n",
        "* min_dfは、その数より少ない文書にしか出現しない単語を削除する、という意味のパラメータ。希少な単語を削除するために使う。\n",
        "\n",
        "* max_dfは、0から1の間の実数で指定すると、その割合より多い文書に出現する単語を削除する、という意味のパラメータ。ありふれた単語を削除するために使う。"
      ]
    },
    {
      "cell_type": "code",
      "metadata": {
        "id": "WHsek-uzTxi0",
        "colab": {
          "base_uri": "https://localhost:8080/"
        },
        "outputId": "7b9798f8-3b68-40aa-8548-3c0255248c29"
      },
      "source": [
        "# TF-IDFにより、単なる単語列であった文書を、ベクトル化する。\n",
        "# （ベクトル化してしまえば、テキストデータのような非構造化データも、\n",
        "#  様々な機械学習手法の入力として使えるようになる。）\n",
        "\n",
        "vectorizer = TfidfVectorizer(stop_words='english', min_df=50, smooth_idf=False, sublinear_tf=True)\n",
        "X_train = vectorizer.fit_transform(corpus_train)\n",
        "print('# X_train: 文書数　{}, 語彙数 {}'.format(*X_train.shape))"
      ],
      "execution_count": null,
      "outputs": [
        {
          "output_type": "stream",
          "text": [
            "# X_train: 文書数　15716, 語彙数 3990\n"
          ],
          "name": "stdout"
        }
      ]
    },
    {
      "cell_type": "markdown",
      "metadata": {
        "id": "xy5RKu8zDZVP"
      },
      "source": [
        "* 語彙を取得する。\n",
        "\n"
      ]
    },
    {
      "cell_type": "code",
      "metadata": {
        "id": "xUcTnazzT5Qm"
      },
      "source": [
        "vocab = np.array(vectorizer.get_feature_names())"
      ],
      "execution_count": null,
      "outputs": []
    },
    {
      "cell_type": "markdown",
      "metadata": {
        "id": "70HQNALpDcQl"
      },
      "source": [
        "* 語彙の一部を見てみる（アルファベット順に並んでいるようだ）。\n",
        "\n"
      ]
    },
    {
      "cell_type": "code",
      "metadata": {
        "id": "_e2QrURgT_gr",
        "colab": {
          "base_uri": "https://localhost:8080/"
        },
        "outputId": "da6dd57b-cc9d-4237-f531-26a52ed1eef0"
      },
      "source": [
        "print(vocab[1000:1010])"
      ],
      "execution_count": null,
      "outputs": [
        {
          "output_type": "stream",
          "text": [
            "['defendant' 'defense' 'defensive' 'define' 'defunct' 'defy' 'degree'\n",
            " 'delay' 'delete' 'delight']\n"
          ],
          "name": "stdout"
        }
      ]
    },
    {
      "cell_type": "markdown",
      "metadata": {
        "id": "YApqwsSrDeJK"
      },
      "source": [
        "* 最初の文書をTF-IDFでベクトル化したらどうなったかを、見てみる。\n",
        " * スパースな表現になっている。\n",
        "\n"
      ]
    },
    {
      "cell_type": "code",
      "metadata": {
        "id": "3GZx-gLj2QRf",
        "colab": {
          "base_uri": "https://localhost:8080/"
        },
        "outputId": "8c74f34b-deb5-400b-c64c-2252cd280b6c"
      },
      "source": [
        "print(type(X_train))\n",
        "print(X_train[0])"
      ],
      "execution_count": null,
      "outputs": [
        {
          "output_type": "stream",
          "text": [
            "<class 'scipy.sparse.csr.csr_matrix'>\n",
            "  (0, 143)\t0.09963200724281028\n",
            "  (0, 1789)\t0.14193942696297396\n",
            "  (0, 1418)\t0.20490688645449368\n",
            "  (0, 1741)\t0.16359109865557245\n",
            "  (0, 1497)\t0.2849237458805407\n",
            "  (0, 1522)\t0.22122534866692944\n",
            "  (0, 314)\t0.26258819041866277\n",
            "  (0, 2411)\t0.1676710164168526\n",
            "  (0, 85)\t0.088598968119733\n",
            "  (0, 3035)\t0.16948737922093723\n",
            "  (0, 2086)\t0.12739701374278598\n",
            "  (0, 899)\t0.1461734042206262\n",
            "  (0, 2207)\t0.1347934664384561\n",
            "  (0, 494)\t0.16352797322445511\n",
            "  (0, 988)\t0.16506566060651578\n",
            "  (0, 3926)\t0.239796661280055\n",
            "  (0, 2187)\t0.08357447145693353\n",
            "  (0, 3734)\t0.16393973515602983\n",
            "  (0, 3971)\t0.13740263859142948\n",
            "  (0, 1970)\t0.14846934907115034\n",
            "  (0, 71)\t0.1651633710652765\n",
            "  (0, 1072)\t0.1647755137159966\n",
            "  (0, 1834)\t0.14564314559846508\n",
            "  (0, 2460)\t0.2616631105634453\n",
            "  (0, 2316)\t0.1448366347937195\n",
            "  (0, 2982)\t0.16977283253595216\n",
            "  (0, 617)\t0.09266162264156541\n",
            "  (0, 3211)\t0.07522257543074252\n",
            "  (0, 3743)\t0.10970706785350846\n",
            "  (0, 1837)\t0.25920484613906036\n",
            "  (0, 2376)\t0.23679632866225803\n",
            "  (0, 2627)\t0.11612551893238364\n",
            "  (0, 2410)\t0.16581975112809985\n",
            "  (0, 3607)\t0.07183988446605324\n",
            "  (0, 1481)\t0.05556015150885678\n",
            "  (0, 188)\t0.05191032633404519\n"
          ],
          "name": "stdout"
        }
      ]
    },
    {
      "cell_type": "markdown",
      "metadata": {
        "id": "HmRAzGE1W4af"
      },
      "source": [
        "## 4) ロジスティック回帰による２値分類と評価"
      ]
    },
    {
      "cell_type": "markdown",
      "metadata": {
        "id": "xT5NR_zjE3Z6"
      },
      "source": [
        "* 交差検証のための準備"
      ]
    },
    {
      "cell_type": "code",
      "metadata": {
        "id": "xsjXWq7-EX2O"
      },
      "source": [
        "skf = StratifiedKFold(n_splits=5, shuffle=True, random_state=123)"
      ],
      "execution_count": null,
      "outputs": []
    },
    {
      "cell_type": "markdown",
      "metadata": {
        "id": "FlKIK8jlT_SO"
      },
      "source": [
        "### 正則化のハイパーパラメータ"
      ]
    },
    {
      "cell_type": "code",
      "metadata": {
        "id": "DMBWsc8wS_9o",
        "colab": {
          "base_uri": "https://localhost:8080/"
        },
        "outputId": "15e9572c-0cd8-416f-9336-0f12fb6213f4"
      },
      "source": [
        "for C in 10. ** np.arange(-2, 3):\n",
        "  scores = list()\n",
        "  for train_index, valid_index in skf.split(X_train, y_train):\n",
        "    clf = LogisticRegression(C=C, solver='liblinear', random_state=123)\n",
        "    clf.fit(X_train[train_index], y_train[train_index])\n",
        "    scores.append(clf.score(X_train[valid_index], y_train[valid_index]))\n",
        "  print(f'mean validation accuracy: {np.array(scores).mean():.4f} for C={C:.2e}')"
      ],
      "execution_count": null,
      "outputs": [
        {
          "output_type": "stream",
          "text": [
            "mean validation accuracy: 0.5869 for C=1.00e-02\n",
            "mean validation accuracy: 0.8078 for C=1.00e-01\n",
            "mean validation accuracy: 0.8426 for C=1.00e+00\n",
            "mean validation accuracy: 0.8358 for C=1.00e+01\n",
            "mean validation accuracy: 0.8038 for C=1.00e+02\n"
          ],
          "name": "stdout"
        }
      ]
    },
    {
      "cell_type": "markdown",
      "metadata": {
        "id": "AOOvEgPQVqVI"
      },
      "source": [
        "* L1正則化も試す。"
      ]
    },
    {
      "cell_type": "code",
      "metadata": {
        "id": "c_K4tVR6Vr5E",
        "colab": {
          "base_uri": "https://localhost:8080/"
        },
        "outputId": "f9e52305-2451-4ea4-c40d-4d423ba507cc"
      },
      "source": [
        "for C in 10. ** np.arange(-2, 3):\n",
        "  scores = list()\n",
        "  for train_index, valid_index in skf.split(X_train, y_train):\n",
        "    clf = LogisticRegression(penalty='l1', C=C, solver='liblinear', random_state=123)\n",
        "    clf.fit(X_train[train_index], y_train[train_index])\n",
        "    scores.append(clf.score(X_train[valid_index], y_train[valid_index]))\n",
        "  print(f'mean validation accuracy: {np.array(scores).mean():.4f} for C={C:.2e}')"
      ],
      "execution_count": null,
      "outputs": [
        {
          "output_type": "stream",
          "text": [
            "mean validation accuracy: 0.5711 for C=1.00e-02\n",
            "mean validation accuracy: 0.7929 for C=1.00e-01\n",
            "mean validation accuracy: 0.8427 for C=1.00e+00\n",
            "mean validation accuracy: 0.8185 for C=1.00e+01\n",
            "mean validation accuracy: 0.7560 for C=1.00e+02\n"
          ],
          "name": "stdout"
        }
      ]
    },
    {
      "cell_type": "markdown",
      "metadata": {
        "id": "190x80QqULfi"
      },
      "source": [
        "### TF-IDFの設定\n",
        "* まずmin_dfを変えてみる。"
      ]
    },
    {
      "cell_type": "code",
      "metadata": {
        "id": "WvSnZVQ-T-Lx",
        "colab": {
          "base_uri": "https://localhost:8080/"
        },
        "outputId": "5f505db3-3163-4356-f5fd-d06e05742e7a"
      },
      "source": [
        "for min_df in [10, 20, 50, 70, 100]:\n",
        "\n",
        "  vectorizer = TfidfVectorizer(stop_words='english', min_df=min_df, smooth_idf=False, sublinear_tf=True)\n",
        "  X_train = vectorizer.fit_transform(corpus_train)\n",
        "\n",
        "  scores = list()\n",
        "  for train_index, valid_index in skf.split(X_train, y_train):\n",
        "    clf = LogisticRegression(penalty='l1', C=1.0, solver='liblinear', random_state=123)\n",
        "    clf.fit(X_train[train_index], y_train[train_index])\n",
        "    scores.append(clf.score(X_train[valid_index], y_train[valid_index]))\n",
        "  print(f'mean validation accuracy: {np.array(scores).mean():.4f} for min_df={min_df} where voc size={X_train.shape[1]}')"
      ],
      "execution_count": null,
      "outputs": [
        {
          "output_type": "stream",
          "text": [
            "mean validation accuracy: 0.8427 for min_df=10 where voc size=9411\n",
            "mean validation accuracy: 0.8430 for min_df=20 where voc size=6602\n",
            "mean validation accuracy: 0.8427 for min_df=50 where voc size=3990\n",
            "mean validation accuracy: 0.8428 for min_df=70 where voc size=3245\n",
            "mean validation accuracy: 0.8413 for min_df=100 where voc size=2579\n"
          ],
          "name": "stdout"
        }
      ]
    },
    {
      "cell_type": "code",
      "metadata": {
        "id": "Gv6b8YvvXWKN",
        "colab": {
          "base_uri": "https://localhost:8080/"
        },
        "outputId": "e703781e-bdd4-4661-e703-4c8735f30a2b"
      },
      "source": [
        "for min_df in [30, 40, 50, 60]:\n",
        "\n",
        "  vectorizer = TfidfVectorizer(stop_words='english', min_df=min_df, smooth_idf=False, sublinear_tf=True)\n",
        "  X_train = vectorizer.fit_transform(corpus_train)\n",
        "\n",
        "  scores = list()\n",
        "  for train_index, valid_index in skf.split(X_train, y_train):\n",
        "    clf = LogisticRegression(penalty='l1', C=1.0, solver='liblinear', random_state=123)\n",
        "    clf.fit(X_train[train_index], y_train[train_index])\n",
        "    scores.append(clf.score(X_train[valid_index], y_train[valid_index]))\n",
        "  print(f'mean validation accuracy: {np.array(scores).mean():.4f} for min_df={min_df} where voc size={X_train.shape[1]}')"
      ],
      "execution_count": null,
      "outputs": [
        {
          "output_type": "stream",
          "text": [
            "mean validation accuracy: 0.8429 for min_df=30 where voc size=5284\n",
            "mean validation accuracy: 0.8425 for min_df=40 where voc size=4511\n",
            "mean validation accuracy: 0.8427 for min_df=50 where voc size=3990\n",
            "mean validation accuracy: 0.8424 for min_df=60 where voc size=3567\n"
          ],
          "name": "stdout"
        }
      ]
    },
    {
      "cell_type": "markdown",
      "metadata": {
        "id": "KdJR7om5U_Iq"
      },
      "source": [
        "* 次にmax_dfも変えてみる。"
      ]
    },
    {
      "cell_type": "code",
      "metadata": {
        "id": "ENow9efuU5cq",
        "colab": {
          "base_uri": "https://localhost:8080/"
        },
        "outputId": "40a9c778-0cd9-4bca-aa30-dbd192c1e06b"
      },
      "source": [
        "for max_df in [1.0, 0.5, 0.4, 0.3, 0.2, 0.1]:\n",
        "\n",
        "  vectorizer = TfidfVectorizer(stop_words='english', min_df=20, max_df=max_df, smooth_idf=False, sublinear_tf=True)\n",
        "  X_train = vectorizer.fit_transform(corpus_train)\n",
        "\n",
        "  scores = list()\n",
        "  for train_index, valid_index in skf.split(X_train, y_train):\n",
        "    clf = LogisticRegression(penalty='l1', C=1.0, solver='liblinear', random_state=123)\n",
        "    clf.fit(X_train[train_index], y_train[train_index])\n",
        "    scores.append(clf.score(X_train[valid_index], y_train[valid_index]))\n",
        "  print(f'mean validation accuracy: {np.array(scores).mean():.4f} for max_df={max_df} where voc size={X_train.shape[1]}')"
      ],
      "execution_count": null,
      "outputs": [
        {
          "output_type": "stream",
          "text": [
            "mean validation accuracy: 0.8430 for max_df=1.0 where voc size=6602\n",
            "mean validation accuracy: 0.8425 for max_df=0.5 where voc size=6588\n",
            "mean validation accuracy: 0.8419 for max_df=0.4 where voc size=6583\n",
            "mean validation accuracy: 0.8417 for max_df=0.3 where voc size=6563\n",
            "mean validation accuracy: 0.8189 for max_df=0.2 where voc size=6518\n",
            "mean validation accuracy: 0.7829 for max_df=0.1 where voc size=6400\n"
          ],
          "name": "stdout"
        }
      ]
    },
    {
      "cell_type": "markdown",
      "metadata": {
        "id": "hnWcZHyJXFzR"
      },
      "source": [
        "## 5) チューニングされたハイパーパラメータでロジスティック回帰の最終的な評価をおこなう\n",
        "\n",
        "* LogisticRegression() のカッコ内には、自分で見つけた最善のセッティングを書き込む。\n",
        "* 学習は、訓練データ全体（テストデータ以外の全体）を使っている。"
      ]
    },
    {
      "cell_type": "code",
      "metadata": {
        "id": "VQE3CxUdfZ7V",
        "colab": {
          "base_uri": "https://localhost:8080/"
        },
        "outputId": "6ebfc5ae-4e69-49a3-ac36-8e69b67ffe0f"
      },
      "source": [
        "# 最も良かった設定を使って、訓練データ全体で再学習\n",
        "\n",
        "vectorizer = TfidfVectorizer(stop_words='english', min_df=20, smooth_idf=False, sublinear_tf=True)\n",
        "X_train = vectorizer.fit_transform(corpus_train)\n",
        "print('# X_train: 文書数　{}, 語彙数 {}'.format(*X_train.shape))\n",
        "\n",
        "# tf-idfの設定を変えたので、語彙も取得し直しておく。\n",
        "vocab = np.array(vectorizer.get_feature_names())\n",
        "\n",
        "clf = LogisticRegression(penalty='l1', C=1.0, solver='liblinear', random_state=123)\n",
        "clf.fit(X_train, y_train)\n",
        "\n",
        "# そして、最終的にテストデータで評価\n",
        "X_test = vectorizer.transform(corpus_test)\n",
        "print(f'test accuracy: {clf.score(X_test, y_test):.4f}')"
      ],
      "execution_count": null,
      "outputs": [
        {
          "output_type": "stream",
          "text": [
            "# X_train: 文書数　15716, 語彙数 6602\n",
            "test accuracy: 0.8430\n"
          ],
          "name": "stdout"
        }
      ]
    },
    {
      "cell_type": "markdown",
      "metadata": {
        "id": "4lvNAU-0vmbH"
      },
      "source": [
        "### 参考: その他の評価尺度"
      ]
    },
    {
      "cell_type": "code",
      "metadata": {
        "id": "KSO6P2lIvmFF",
        "colab": {
          "base_uri": "https://localhost:8080/",
          "height": 550
        },
        "outputId": "8906b8fc-7254-4ea8-b9f2-affe1749c12d"
      },
      "source": [
        "y_test_pred = clf.predict(X_test)\n",
        "y_test_pred_proba = clf.predict_proba(X_test)\n",
        "\n",
        "# Accuracy\n",
        "from sklearn.metrics import accuracy_score\n",
        "print('accuracy: {:.4f}'.format(accuracy_score(y_test, y_test_pred)))\n",
        "\n",
        "# Area Under the Receiver Operating Characteristic Curve\n",
        "from sklearn.metrics import roc_auc_score\n",
        "print('ROC AUC: {:.4f}'.format(roc_auc_score(y_test, y_test_pred_proba[:,1])))\n",
        "\n",
        "# 様々な評価尺度をまとめてレポート\n",
        "from sklearn.metrics import classification_report\n",
        "print(classification_report(y_test, y_test_pred))\n",
        "\n",
        "# confusion matrix\n",
        "from sklearn.metrics import confusion_matrix\n",
        "print(confusion_matrix(y_test, y_test_pred))\n",
        "\n",
        "# confusion matrixの可視化版\n",
        "from sklearn.metrics import plot_confusion_matrix\n",
        "plot_confusion_matrix(clf, X_test, y_test, values_format='d')"
      ],
      "execution_count": null,
      "outputs": [
        {
          "output_type": "stream",
          "text": [
            "accuracy: 0.8430\n",
            "ROC AUC: 0.9174\n",
            "              precision    recall  f1-score   support\n",
            "\n",
            "           0       0.83      0.91      0.87      2201\n",
            "           1       0.86      0.76      0.81      1728\n",
            "\n",
            "    accuracy                           0.84      3929\n",
            "   macro avg       0.85      0.83      0.84      3929\n",
            "weighted avg       0.84      0.84      0.84      3929\n",
            "\n",
            "[[1994  207]\n",
            " [ 410 1318]]\n"
          ],
          "name": "stdout"
        },
        {
          "output_type": "execute_result",
          "data": {
            "text/plain": [
              "<sklearn.metrics._plot.confusion_matrix.ConfusionMatrixDisplay at 0x7fb8fc14f410>"
            ]
          },
          "metadata": {
            "tags": []
          },
          "execution_count": 20
        },
        {
          "output_type": "display_data",
          "data": {
            "image/png": "[encoded data removed]",
            "text/plain": [
              "<Figure size 432x288 with 2 Axes>"
            ]
          },
          "metadata": {
            "tags": [],
            "image/png": {
              "width": 319,
              "height": 261
            },
            "needs_background": "light"
          }
        }
      ]
    },
    {
      "cell_type": "markdown",
      "metadata": {
        "id": "EdLcpwSwf3s3"
      },
      "source": [
        "## 6) SVMによる２値分類と評価\n",
        "\n",
        "* SVMについては、私からは実行例を示しません。各自、試行錯誤してください。"
      ]
    },
    {
      "cell_type": "code",
      "metadata": {
        "id": "1RoCT-f-f3Ow",
        "colab": {
          "base_uri": "https://localhost:8080/"
        },
        "outputId": "3b3bdbbc-43c7-4c8e-d9a8-dfea68393bf5"
      },
      "source": [
        "# これは単純な実行例にすぎません。ハイパーパラメータのチューニングもしてください。\n",
        "scores = list()\n",
        "for train_index, valid_index in skf.split(X_train, y_train):\n",
        "  svm = LinearSVC(random_state=123)\n",
        "  svm.fit(X_train[train_index], y_train[train_index])\n",
        "  scores.append(svm.score(X_train[valid_index], y_train[valid_index]))\n",
        "\n",
        "print(f'mean validation accuracy: {np.array(scores).mean():.4f}')"
      ],
      "execution_count": null,
      "outputs": [
        {
          "output_type": "stream",
          "text": [
            "mean validation accuracy: 0.8351\n"
          ],
          "name": "stdout"
        }
      ]
    },
    {
      "cell_type": "markdown",
      "metadata": {
        "id": "M7z1vXs4HfEV"
      },
      "source": [
        "## 7) チューニングされたハイパーパラメータを使って、SVMの最終的な評価をおこなう"
      ]
    },
    {
      "cell_type": "markdown",
      "metadata": {
        "id": "7UCt5frCLBly"
      },
      "source": [
        "* 試行錯誤をおこなってから、次のセルを実行してください。"
      ]
    },
    {
      "cell_type": "code",
      "metadata": {
        "id": "guAY82oOHevE",
        "colab": {
          "base_uri": "https://localhost:8080/"
        },
        "outputId": "59ab5001-26eb-4fa8-d6ec-82b07f3265b1"
      },
      "source": [
        "# 最も良かった設定を使って、訓練データ全体で再学習\n",
        "\n",
        "svm = LinearSVC(random_state=123)\n",
        "svm.fit(X_train, y_train)\n",
        "\n",
        "X_test = vectorizer.transform(corpus_test)\n",
        "print(f'test accuracy: {svm.score(X_test, y_test):.4f}')"
      ],
      "execution_count": null,
      "outputs": [
        {
          "output_type": "stream",
          "text": [
            "test accuracy: 0.8244\n"
          ],
          "name": "stdout"
        }
      ]
    },
    {
      "cell_type": "markdown",
      "metadata": {
        "id": "7CtVT3KEXM7f"
      },
      "source": [
        "## 8) ロジスティック回帰による分類に効いている単語を調べる\n",
        "\n",
        "* 訓練データが最も数が多いので、訓練データの分類に最も効いている単語100語を調べる。\n",
        "\n",
        "* 下に示すのは、あくまで一つの方法にすぎない。他にどんな方法があるか調べて使ってみよう。\n",
        "\n",
        " * 下の手法の欠点は、男性俳優の文書に特徴的な単語と、女性俳優の文書に特徴的な単語とを、区別できない点である。\n",
        "\n",
        " * ヒント： 「svm important features」 あたりでググってみる。"
      ]
    },
    {
      "cell_type": "markdown",
      "metadata": {
        "id": "ctV2xILqH97W"
      },
      "source": [
        "### recursive feature eliminationという特徴量選択の手法\n",
        "* https://scikit-learn.org/stable/modules/generated/sklearn.feature_selection.RFE.html\n",
        "\n"
      ]
    },
    {
      "cell_type": "code",
      "metadata": {
        "id": "y7An3q7JUK8G",
        "colab": {
          "base_uri": "https://localhost:8080/"
        },
        "outputId": "be303a9d-0f87-43aa-8c35-fe756ba788cd"
      },
      "source": [
        "from sklearn.feature_selection import RFE\n",
        "\n",
        "# 最も良かった設定を使って、分類器のインスタンスを準備\n",
        "clf = LogisticRegression(penalty='l1', C=1.0, solver='liblinear', random_state=123)\n",
        "\n",
        "# RFEで重要な属性上位100個を抽出\n",
        "rfe = RFE(estimator=clf, n_features_to_select=100, step=100)\n",
        "rfe.fit(X_train, y_train)\n",
        "ranking = rfe.ranking_\n",
        "print(vocab[ranking == 1])"
      ],
      "execution_count": null,
      "outputs": [
        {
          "output_type": "stream",
          "text": [
            "['alumna' 'anime' 'announcer' 'attack' 'aunt' 'ballet' 'bar' 'baritone'\n",
            " 'baseball' 'basketball' 'beauty' 'birth' 'blonde' 'boxer' 'boxing' 'boy'\n",
            " 'breast' 'brother' 'cheerleader' 'cop' 'cum' 'daughter' 'director'\n",
            " 'discharge' 'draft' 'driver' 'enlist' 'fairy' 'father' 'female'\n",
            " 'football' 'fraternity' 'gang' 'gay' 'girl' 'girlfriend' 'granddaughter'\n",
            " 'grandmother' 'guitar' 'guy' 'hand' 'hero' 'heroine' 'hostess'\n",
            " 'housekeeper' 'husband' 'idol' 'impersonator' 'joke' 'lady' 'lesbian'\n",
            " 'magazine' 'maid' 'male' 'man' 'married' 'marry' 'matriarch' 'military'\n",
            " 'model' 'modeling' 'mom' 'mother' 'nephew' 'niece' 'nurse' 'née'\n",
            " 'officer' 'pageant' 'parody' 'patriarch' 'pregnancy' 'pregnant' 'priest'\n",
            " 'prison' 'prolific' 'prostitute' 'queen' 'race' 'rapper' 'receptionist'\n",
            " 'retire' 'screenplay' 'secretary' 'serve' 'singer' 'sister' 'son'\n",
            " 'soprano' 'sorority' 'spokesman' 'spokeswoman' 'stuntman' 'team'\n",
            " 'villain' 'waiter' 'waitress' 'wife' 'witch' 'woman']\n"
          ],
          "name": "stdout"
        }
      ]
    },
    {
      "cell_type": "markdown",
      "metadata": {
        "id": "QGd-_fRQqQXO"
      },
      "source": [
        "### ロジスティック回帰の係数をそのまま可視化する\n",
        "\n",
        "* 正の係数と負の係数で、それぞれ絶対値が大きいもの30個を可視化する。"
      ]
    },
    {
      "cell_type": "code",
      "metadata": {
        "id": "6rIu7hTNmlp7"
      },
      "source": [
        "clf = LogisticRegression(penalty='l1', C=1.0, solver='liblinear', random_state=123)\n",
        "clf.fit(X_train, y_train)\n",
        "\n",
        "n_features = 30\n",
        "positions = np.arange(n_features)[::-1]"
      ],
      "execution_count": null,
      "outputs": []
    },
    {
      "cell_type": "markdown",
      "metadata": {
        "id": "2g-CNIfBIya6"
      },
      "source": [
        "* femaleクラスのほうに効いている単語\n"
      ]
    },
    {
      "cell_type": "code",
      "metadata": {
        "id": "zHLsDApX3fng",
        "colab": {
          "base_uri": "https://localhost:8080/",
          "height": 584
        },
        "outputId": "fde79e78-6ee6-462f-a0ba-d6cf05f912b8"
      },
      "source": [
        "indices = np.argsort(- clf.coef_[0])[:n_features]\n",
        "widths = clf.coef_[0][indices]\n",
        "yticks = vocab[indices]\n",
        "\n",
        "plt.figure(figsize=(12,9))\n",
        "plt.barh(positions, widths, align='center') \n",
        "plt.yticks(positions, yticks) \n",
        "plt.xlabel('coefficients')\n",
        "plt.title(f'Coefficients of {n_features} Positive Features Using Logistic Regression')"
      ],
      "execution_count": null,
      "outputs": [
        {
          "output_type": "execute_result",
          "data": {
            "text/plain": [
              "Text(0.5, 1.0, 'Coefficients of 30 Positive Features Using Logistic Regression')"
            ]
          },
          "metadata": {
            "tags": []
          },
          "execution_count": 25
        },
        {
          "output_type": "display_data",
          "data": {
            "image/png": "[encoded data removed]",
            "text/plain": [
              "<Figure size 864x648 with 1 Axes>"
            ]
          },
          "metadata": {
            "tags": [],
            "image/png": {
              "width": 766,
              "height": 549
            },
            "needs_background": "light"
          }
        }
      ]
    },
    {
      "cell_type": "markdown",
      "metadata": {
        "id": "s9Mf610u30yu"
      },
      "source": [
        "* ジェンター・ステレオタイプの観点からは、secretary, retire, beauty, singer, balletなどの単語が、必ずしも女性だけに関係する概念を表しているわけではないので、バイアスが含まれている可能性はある。"
      ]
    },
    {
      "cell_type": "markdown",
      "metadata": {
        "id": "rKLvtUPZJAjf"
      },
      "source": [
        "* maleクラスのほうに効いている単語\n"
      ]
    },
    {
      "cell_type": "code",
      "metadata": {
        "id": "3K_Zv4UbkEaM",
        "colab": {
          "base_uri": "https://localhost:8080/",
          "height": 604
        },
        "outputId": "87aec126-0061-4016-9ca9-da2c870b6879"
      },
      "source": [
        "indices = np.argsort(clf.coef_[0])[:n_features]\n",
        "widths = clf.coef_[0][indices]\n",
        "yticks = vocab[indices]\n",
        "\n",
        "plt.figure(figsize=(12,9))\n",
        "plt.barh(positions, widths, align='center') \n",
        "plt.yticks(positions, yticks) \n",
        "plt.xlabel('coefficients')\n",
        "plt.title(f'Coefficients of {n_features} Positive Features Using Logistic Regression')"
      ],
      "execution_count": null,
      "outputs": [
        {
          "output_type": "execute_result",
          "data": {
            "text/plain": [
              "Text(0.5, 1.0, 'Coefficients of 30 Positive Features Using Logistic Regression')"
            ]
          },
          "metadata": {
            "tags": []
          },
          "execution_count": 26
        },
        {
          "output_type": "display_data",
          "data": {
            "image/png": "[encoded data removed]",
            "text/plain": [
              "<Figure size 864x648 with 1 Axes>"
            ]
          },
          "metadata": {
            "tags": [],
            "image/png": {
              "width": 761,
              "height": 549
            },
            "needs_background": "light"
          }
        }
      ]
    },
    {
      "cell_type": "markdown",
      "metadata": {
        "id": "OR-ZSjfl4ZFN"
      },
      "source": [
        "* ジェンター・ステレオタイプの観点からは、villain, military, attack, musician, rapperなどの単語が、必ずしも男性だけに関係する概念を表しているわけではないので、バイアスが含まれている可能性はある。"
      ]
    },
    {
      "cell_type": "markdown",
      "metadata": {
        "id": "1MbFFT75Jv61"
      },
      "source": [
        "* lesbianやgayという単語が上位にあることから、actorとactressの2クラスでデータ収集するという作業でそもそも良かったのかという疑問も生じる。\n",
        " * https://en.wikipedia.org/wiki/Category:LGBT_actors"
      ]
    },
    {
      "cell_type": "markdown",
      "metadata": {
        "id": "Tzx5_vC5JnA_"
      },
      "source": [
        "## 9) SVMによる分類に効いている単語を調べる"
      ]
    },
    {
      "cell_type": "markdown",
      "metadata": {
        "id": "5LSWP9vldWJu"
      },
      "source": [
        "* SVMについては実行例を示しません。上を参考に各自試してみてください。"
      ]
    },
    {
      "cell_type": "code",
      "metadata": {
        "id": "LXuJHw6ZfTRO",
        "colab": {
          "base_uri": "https://localhost:8080/"
        },
        "outputId": "9c7a6ffd-d8f4-4f17-9f3e-894eba837d5a"
      },
      "source": [
        "svm = LinearSVC(random_state=123)\n",
        "\n",
        "rfe = RFE(estimator=svm, n_features_to_select=100, step=100)\n",
        "rfe.fit(X_train, y_train)\n",
        "ranking = rfe.ranking_\n",
        "print(vocab[ranking == 1])"
      ],
      "execution_count": null,
      "outputs": [
        {
          "output_type": "stream",
          "text": [
            "['alumna' 'attack' 'ballet' 'baritone' 'baseball' 'beauty' 'blonde'\n",
            " 'boxing' 'boy' 'breast' 'brother' 'brunette' 'buzz' 'cabaret'\n",
            " 'cheerleader' 'construction' 'crown' 'cum' 'daughter' 'doorman' 'draft'\n",
            " 'driver' 'elevate' 'emigrant' 'enlist' 'fairy' 'fatale' 'father' 'female'\n",
            " 'football' 'fraternity' 'gang' 'gay' 'girl' 'girlfriend' 'gown'\n",
            " 'granddaughter' 'guy' 'hero' 'heroine' 'homosexual' 'hostess'\n",
            " 'housekeeper' 'hunter' 'husband' 'idol' 'impersonator' 'ingenue' 'jock'\n",
            " 'joke' 'lady' 'lesbian' 'magic' 'maid' 'male' 'man' 'marry' 'matriarch'\n",
            " 'military' 'model' 'modeling' 'mom' 'mother' 'nanny' 'nephew' 'niece'\n",
            " 'nurse' 'ownership' 'paternity' 'patriarch' 'pictorial' 'pregnancy'\n",
            " 'pregnant' 'priest' 'prolific' 'prostitute' 'queen' 'secretary' 'serve'\n",
            " 'showgirl' 'singer' 'sister' 'son' 'soprano' 'sorority' 'spokesman'\n",
            " 'spokesmodel' 'spokeswoman' 'streaming' 'stuntman' 'thug' 'tomboy'\n",
            " 'villain' 'villainess' 'waiter' 'waitress' 'wake' 'weep' 'wife' 'woman']\n"
          ],
          "name": "stdout"
        }
      ]
    },
    {
      "cell_type": "code",
      "metadata": {
        "id": "poCHDuUEhyXs"
      },
      "source": [
        ""
      ],
      "execution_count": null,
      "outputs": []
    }
  ]
}