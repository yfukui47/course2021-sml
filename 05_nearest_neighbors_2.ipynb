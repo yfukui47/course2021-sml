{
  "nbformat": 4,
  "nbformat_minor": 0,
  "metadata": {
    "colab": {
      "name": "05_nearest_neighbors_2.ipynb",
      "provenance": [],
      "collapsed_sections": [],
      "include_colab_link": true
    },
    "kernelspec": {
      "name": "python3",
      "display_name": "Python 3"
    },
    "accelerator": "GPU"
  },
  "cells": [
    {
      "cell_type": "markdown",
      "metadata": {
        "id": "view-in-github",
        "colab_type": "text"
      },
      "source": [
        "<a href=\"https://colab.research.google.com/github/tomonari-masada/course2021-sml/blob/main/05_nearest_neighbors_2.ipynb\" target=\"_parent\"><img src=\"https://colab.research.google.com/assets/colab-badge.svg\" alt=\"Open In Colab\"/></a>"
      ]
    },
    {
      "cell_type": "markdown",
      "metadata": {
        "id": "XjBWCxMKQWQQ"
      },
      "source": [
        "# 5. k近傍法（続）\n",
        "* 今回は、近傍の個数kの値をどのようにして決めるかを考える。"
      ]
    },
    {
      "cell_type": "markdown",
      "metadata": {
        "id": "yr7h0hM5madL"
      },
      "source": [
        "## 5.1 準備"
      ]
    },
    {
      "cell_type": "markdown",
      "metadata": {
        "id": "2HClwh0oTuKW"
      },
      "source": [
        "### 5.1.1 インポート"
      ]
    },
    {
      "cell_type": "code",
      "metadata": {
        "id": "kKt4G60aQG5a"
      },
      "source": [
        "import numpy as np\n",
        "import pandas as pd\n",
        "import matplotlib.pyplot as plt\n",
        "\n",
        "%config InlineBackend.figure_format = 'retina'"
      ],
      "execution_count": null,
      "outputs": []
    },
    {
      "cell_type": "code",
      "metadata": {
        "id": "SLo5Zvmsl1fY"
      },
      "source": [
        "#import warnings\n",
        "#warnings.filterwarnings('ignore')"
      ],
      "execution_count": null,
      "outputs": []
    },
    {
      "cell_type": "markdown",
      "metadata": {
        "id": "xndm9EMkT4sn"
      },
      "source": [
        "### 5.1.2 データファイルのアップロード"
      ]
    },
    {
      "cell_type": "markdown",
      "metadata": {
        "id": "0HIgiloQc9xb"
      },
      "source": [
        "* `lifesat.csv`をアップロードする。"
      ]
    },
    {
      "cell_type": "code",
      "metadata": {
        "id": "jk0oEyN9lwzh"
      },
      "source": [
        "from google.colab import files\n",
        "files.upload()"
      ],
      "execution_count": null,
      "outputs": []
    },
    {
      "cell_type": "markdown",
      "metadata": {
        "id": "Ja_Py6ftmd-q"
      },
      "source": [
        "### 5.1.3 データファイルの読み込み\n",
        "* 今回は、ファイルを読み込むときに、国名をインデックスに設定してしまう。\n",
        " * index_col引数を使っている。"
      ]
    },
    {
      "cell_type": "code",
      "metadata": {
        "id": "ZeFRSbhadE_P"
      },
      "source": [
        "df = pd.read_csv('lifesat.csv', index_col=0)"
      ],
      "execution_count": null,
      "outputs": []
    },
    {
      "cell_type": "code",
      "metadata": {
        "id": "KNWLCLZYQT1b"
      },
      "source": [
        "df"
      ],
      "execution_count": null,
      "outputs": []
    },
    {
      "cell_type": "code",
      "metadata": {
        "id": "Clcd6Rxym1Xa"
      },
      "source": [
        "df.describe()"
      ],
      "execution_count": null,
      "outputs": []
    },
    {
      "cell_type": "code",
      "metadata": {
        "id": "gpqykVotm3YT"
      },
      "source": [
        "df.info()"
      ],
      "execution_count": null,
      "outputs": []
    },
    {
      "cell_type": "code",
      "metadata": {
        "id": "zL4GOVPLRBOw"
      },
      "source": [
        "fig, ax = plt.subplots(1, 1, figsize=(8, 5))\n",
        "df.plot(kind='scatter', x='GDP per capita', y='Life satisfaction', ax=ax)"
      ],
      "execution_count": null,
      "outputs": []
    },
    {
      "cell_type": "markdown",
      "metadata": {
        "id": "78DFhidVpLXU"
      },
      "source": [
        "## 5.2 訓練データ/検証データ/テストデータ\n"
      ]
    },
    {
      "cell_type": "markdown",
      "metadata": {
        "id": "tZ6Qai3iRG-q"
      },
      "source": [
        "### 5.2.1 問題設定\n",
        "- 一人当たりのGDPから生活満足度を予測したい。\n",
        "- 今回も、日本の生活満足度を予測するという設定。\n",
        "- 一人当たりのGDPを使って日本の近傍を見つけ、その近傍の生活満足度を予測に利用する。\n",
        "- 予測の良し悪しは、実際の値との差の絶対値で評価する。"
      ]
    },
    {
      "cell_type": "markdown",
      "metadata": {
        "id": "TKEUXi-WWVN2"
      },
      "source": [
        "### 5.2.2 テストデータ"
      ]
    },
    {
      "cell_type": "markdown",
      "metadata": {
        "id": "FPB1JLU9Vc6n"
      },
      "source": [
        "* 今回も、日本の生活満足度を予測する、という問題を考える。\n",
        "* 最終的にはそれについて予測をおこないたいデータを、テストデータと呼ぶ。\n",
        "* よって、日本のデータが、テストデータになる。\n"
      ]
    },
    {
      "cell_type": "markdown",
      "metadata": {
        "id": "QQUQC828WYmN"
      },
      "source": [
        "### 5.2.3 検証データ"
      ]
    },
    {
      "cell_type": "markdown",
      "metadata": {
        "id": "E83Tq5IpVf_g"
      },
      "source": [
        "* 今回は、何らかの方法で、最適な近傍の個数kを求めたい。\n",
        "* しかし、日本の生活満足度を予測させて、その予測誤差を見ながらkを決めるのでは、カンニングしていることになる。\n",
        "* 日本の生活満足度の正解の値を見ずに、kを決める方法はないだろうか。\n"
      ]
    },
    {
      "cell_type": "markdown",
      "metadata": {
        "id": "5LicdakvVsX4"
      },
      "source": [
        "* そこで、テストデータ以外のデータを使って、予測問題を解く。\n",
        " * テストデータ以外については、正解、つまり、生活満足度は、分かっているとしてよい。\n",
        "* テストデータ以外のデータの中から、国を一つ選んで（例えば韓国）、その国について最も良い予測を与えるkを調べる。\n",
        "* このとき選ばれた国のデータを、検証データと呼ぶ。\n",
        " * 本当に予測をしたいデータではないが、検証validationのためにそれについて予測をおこなうデータ。\n",
        "* 検証データ上で予測を行うことで得られた最適なkの値を、日本についての予測で使う。\n",
        " * テストデータでも検証データでもないデータを、訓練データと呼ぶ。"
      ]
    },
    {
      "cell_type": "markdown",
      "metadata": {
        "id": "YzbcCPGTXDgA"
      },
      "source": [
        "## 5.3 検証データを使った最適なkの決定\n",
        "* ここでは、韓国を検証データとして使う。\n",
        "* 日本はそもそも除外しておく。\n",
        "* 日本以外のデータを使って、韓国の生活満足度を予測してみる。\n",
        "* そして、最も良い予測値を与えるkがいくらか、調べる。"
      ]
    },
    {
      "cell_type": "markdown",
      "metadata": {
        "id": "gtvMM0aQX8mL"
      },
      "source": [
        "### 5.3.1 演習"
      ]
    },
    {
      "cell_type": "markdown",
      "metadata": {
        "id": "LxRtVmt_Xs2o"
      },
      "source": [
        "* 演習問題5-1：日本を除去したデータフレームを作ろう。"
      ]
    },
    {
      "cell_type": "code",
      "metadata": {
        "id": "1sxiz6sNX-os"
      },
      "source": [
        ""
      ],
      "execution_count": null,
      "outputs": []
    },
    {
      "cell_type": "markdown",
      "metadata": {
        "id": "XWYuFav7X_OD"
      },
      "source": [
        "* 演習問題5-2：前回と同じ方法で、韓国の生活満足度を予測し、最も良い予測値を与えるkを調べよう。"
      ]
    },
    {
      "cell_type": "code",
      "metadata": {
        "id": "PN7pHCUDYHmU"
      },
      "source": [
        ""
      ],
      "execution_count": null,
      "outputs": []
    },
    {
      "cell_type": "markdown",
      "metadata": {
        "id": "TGR5ZukSYIJ1"
      },
      "source": [
        "* 演習問題5-3：こうして調べたkを使って、元のデータフレームに戻って、日本の生活満足度を予測し、予測誤差を求めよう。"
      ]
    },
    {
      "cell_type": "code",
      "metadata": {
        "id": "SCHFrhqRYTBu"
      },
      "source": [
        ""
      ],
      "execution_count": null,
      "outputs": []
    },
    {
      "cell_type": "markdown",
      "metadata": {
        "id": "K2zd8l9HH7rH"
      },
      "source": [
        "## 5.4 ‎leave-one-out交差検証 (1)\n",
        "* 上では、韓国を検証データとして使った。\n",
        "* しかし、韓国以外の国を検証データとしても構わないはずである。\n",
        "* そこで、日本以外の国について、その一つ一つを検証データとした場合の、それぞれの最適なkの値を求めてみる。"
      ]
    },
    {
      "cell_type": "markdown",
      "metadata": {
        "id": "t_HIlGJiYkgB"
      },
      "source": [
        "### 5.4.1 演習"
      ]
    },
    {
      "cell_type": "markdown",
      "metadata": {
        "id": "Suv7tkCzYmMe"
      },
      "source": [
        "* 演習問題5-4：国名が引数として与えられると（もちろん日本は除外する）、それを検証データとして予測を実行し、最適なkを返すような関数を、実装してみよう。\n",
        " * つまり、上で韓国について行ったことと、同じことを、（日本を除く）他の国についても実行するような関数を書く。"
      ]
    },
    {
      "cell_type": "code",
      "metadata": {
        "id": "Gpt6us62YzLC"
      },
      "source": [
        ""
      ],
      "execution_count": null,
      "outputs": []
    },
    {
      "cell_type": "markdown",
      "metadata": {
        "id": "SpQn8pOLZruG"
      },
      "source": [
        "* 上で実装した関数を使って、各国について得られたkを、どのように使えば、最適なkを求められるか、考えてみよう。\n",
        " * 例えば、各国について得られたkの平均をとることが考えられる。これは良い方法と言えるだろうか？"
      ]
    },
    {
      "cell_type": "markdown",
      "metadata": {
        "id": "FmcPLqoLaVlX"
      },
      "source": [
        "## 5.5 ‎leave-one-out交差検証 (2)\n",
        "* 上では、日本以外の国を、一つずつ、順番に検証データとして、最適なkを求めた。\n",
        "* しかし、こうして国ごとに求められたkを、どうやってまとめあげるのか、疑問が残った。\n",
        " * それらkの平均をとる、という方法は、何かおかしい感じがする。\n",
        " * 最頻値の方が、まだましであろう。\n",
        "* 最適なkを決める、もっと良い方法はないだろうか？"
      ]
    },
    {
      "cell_type": "markdown",
      "metadata": {
        "id": "D1LITZzNaxfh"
      },
      "source": [
        "### 5.5.1 演習"
      ]
    },
    {
      "cell_type": "markdown",
      "metadata": {
        "id": "YgBC73WmazNG"
      },
      "source": [
        "* 演習問題5-5：上で作った関数を少し変えて、k=1,2,3,...と、kを変えたときに、それぞれの場合で予測誤差がいくらになるかを表す配列を返すように、書き換えてみよう。"
      ]
    },
    {
      "cell_type": "code",
      "metadata": {
        "id": "afxk4wnlbQxK"
      },
      "source": [
        ""
      ],
      "execution_count": null,
      "outputs": []
    },
    {
      "cell_type": "markdown",
      "metadata": {
        "id": "CogMP3ZCbSeo"
      },
      "source": [
        "* 演習問題5-6：縦が国名、横がkの値の表をデータフレームを作り、特定の国を検証データとしたとき、特定のkを使った場合に、生活満足度の予測誤差がいくらになるかの数値で埋めてみよう。"
      ]
    },
    {
      "cell_type": "markdown",
      "metadata": {
        "id": "oFKOUfF7byOA"
      },
      "source": [
        "* 演習問題5-7：上で作った表で、それぞれのkの値について、予測誤差の平均値を求めてみよう。"
      ]
    },
    {
      "cell_type": "code",
      "metadata": {
        "id": "Jq6f8uBEbxsm"
      },
      "source": [
        ""
      ],
      "execution_count": null,
      "outputs": []
    },
    {
      "cell_type": "markdown",
      "metadata": {
        "id": "P1h3sqg3b68b"
      },
      "source": [
        "* 演習問題5-8：上で求めた平均値で見て、最適なkの値は、いくらになるか。"
      ]
    },
    {
      "cell_type": "code",
      "metadata": {
        "id": "8uoFGiTncAbH"
      },
      "source": [
        ""
      ],
      "execution_count": null,
      "outputs": []
    },
    {
      "cell_type": "markdown",
      "metadata": {
        "id": "dIjX8tgqcAzw"
      },
      "source": [
        "* 演習問題5-9：こうして求めた最適なkを使って、元に戻って、日本の生活満足度の予測をしてみよう。"
      ]
    },
    {
      "cell_type": "code",
      "metadata": {
        "id": "kF-xNdlucHpH"
      },
      "source": [
        ""
      ],
      "execution_count": null,
      "outputs": []
    },
    {
      "cell_type": "markdown",
      "metadata": {
        "id": "JdN13b19rXOg"
      },
      "source": [
        "## 5.6 多変量を使った予測"
      ]
    },
    {
      "cell_type": "markdown",
      "metadata": {
        "id": "mz42mqOmcK46"
      },
      "source": [
        "* 今回使ったデータは、元々は、複数の説明変数を含むデータだった。\n",
        "* そのうち、今回は、一人あたりのGDPだけを、説明変数として使った。"
      ]
    },
    {
      "cell_type": "markdown",
      "metadata": {
        "id": "7hi_xLpQcUWm"
      },
      "source": [
        "* そこで、元の、複数の説明変数があるデータを使って、これまでと同じことをしてみよう。\n",
        "* つまり、leave-one-out交差検証で最適なkを求め、そのkを使って、日本の生活満足度を予測してみよう。\n",
        "* 国どうしの距離を計算するには、どうすればいいか、考えてみよう。"
      ]
    },
    {
      "cell_type": "markdown",
      "metadata": {
        "id": "_T3FvXuvckfx"
      },
      "source": [
        "### 5.6.1 データファイルのアップロード\n",
        "* `lifesat_extended.csv`というファイルをアップロードする。"
      ]
    },
    {
      "cell_type": "code",
      "metadata": {
        "id": "oK-EzLFlrewX"
      },
      "source": [
        "from google.colab import files\n",
        "files.upload()"
      ],
      "execution_count": null,
      "outputs": []
    },
    {
      "cell_type": "code",
      "metadata": {
        "id": "nzGqwGlbJHdT"
      },
      "source": [
        "df_multi = pd.read_csv('lifesat_extended.csv', index_col=0)"
      ],
      "execution_count": null,
      "outputs": []
    },
    {
      "cell_type": "code",
      "metadata": {
        "id": "dQxTnjuzrjNt"
      },
      "source": [
        "df_multi.info()"
      ],
      "execution_count": null,
      "outputs": []
    },
    {
      "cell_type": "code",
      "metadata": {
        "id": "t03jUE4srli8"
      },
      "source": [
        "df_multi.describe()"
      ],
      "execution_count": null,
      "outputs": []
    },
    {
      "cell_type": "markdown",
      "metadata": {
        "id": "dnX5SSYqcyzW"
      },
      "source": [
        "## 5.7 課題5\n",
        "* leave-one-out交差検証で最適なkを求め、そのkを使って、日本の生活満足度を予測してみよう。"
      ]
    },
    {
      "cell_type": "code",
      "metadata": {
        "id": "A889K9zUcuwn"
      },
      "source": [
        ""
      ],
      "execution_count": null,
      "outputs": []
    }
  ]
}