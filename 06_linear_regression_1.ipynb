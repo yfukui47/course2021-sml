{
  "nbformat": 4,
  "nbformat_minor": 0,
  "metadata": {
    "kernelspec": {
      "name": "python3",
      "display_name": "Python 3"
    },
    "colab": {
      "name": "06_linear_regression_1.ipynb",
      "provenance": [],
      "collapsed_sections": [],
      "include_colab_link": true
    }
  },
  "cells": [
    {
      "cell_type": "markdown",
      "metadata": {
        "id": "view-in-github",
        "colab_type": "text"
      },
      "source": [
        "<a href=\"https://colab.research.google.com/github/tomonari-masada/course2021-sml/blob/main/06_linear_regression_1.ipynb\" target=\"_parent\"><img src=\"https://colab.research.google.com/assets/colab-badge.svg\" alt=\"Open In Colab\"/></a>"
      ]
    },
    {
      "cell_type": "markdown",
      "metadata": {
        "id": "xAZtqbYidcwS"
      },
      "source": [
        "# 実データの単回帰分析\n",
        "\n",
        "## description vs prediction \n",
        "\n",
        "今回は、単回帰をpredictionにではなくdescriptionに使う。\n",
        "\n",
        "* description＝与えられたデータを理解する\n",
        "\n",
        "* prediction＝未知の入力について出力を求めたい（機械学習の主戦場）\n",
        "\n",
        "* explanation＝因果関係の理解まで含む\n",
        "\n",
        "https://www.slideshare.net/gshmueli/to-explain-to-predict-or-to-describe\n"
      ]
    },
    {
      "cell_type": "markdown",
      "metadata": {
        "id": "MOFTt8Bde5CG"
      },
      "source": [
        "# 今回参考にした本\n",
        "\n",
        "Laura Igual, Santi Seguí.<br/>\n",
        "Introduction to Data Science: A Python Approach to Concepts, Techniques and Applications. Springer. 2017.\n",
        "\n",
        "https://link.springer.com/book/10.1007%2F978-3-319-50017-1"
      ]
    },
    {
      "cell_type": "markdown",
      "metadata": {
        "id": "CpsF79N_dcwT"
      },
      "source": [
        "# 海氷域面積と気候変動\n",
        "北半球と南半球の海氷域面積を分析し、面積が減少傾向にあるのかどうかを調べてみる。（上の本の6.2.1節より。）\n",
        "\n",
        "データは、下記の場所から取得。\n",
        "\n",
        "https://nsidc.org/data/seaice_index/archives\n",
        "\n",
        "\n",
        "「data」タブをクリックし、以下の2つのファイルをダウンロードしておく。\n",
        "*   [北極域の海氷域面積データ](ftp://sidads.colorado.edu/DATASETS/NOAA/G02135/north/daily/data/N_seaice_extent_daily_v3.0.csv)\n",
        "*   [南極域の海氷域面積データ](ftp://sidads.colorado.edu/DATASETS/NOAA/G02135/south/daily/data/S_seaice_extent_daily_v3.0.csv)\n",
        "\n",
        "<br/>\n",
        "参考：半旬ごとにまとめたデータなら、気象庁の下記のページにある。\n",
        "\n",
        "https://www.data.jma.go.jp/gmd/kaiyou/db/seaice/global/globe_area.html\n"
      ]
    },
    {
      "cell_type": "markdown",
      "metadata": {
        "id": "Wq1oKTGSqdje"
      },
      "source": [
        "### 1) データファイルを読み込んで前処理をする"
      ]
    },
    {
      "cell_type": "code",
      "metadata": {
        "id": "EHET3FOhrgGu"
      },
      "source": [
        "import numpy as np\n",
        "import pandas as pd\n",
        "import matplotlib.pyplot as plt\n",
        "\n",
        "%config InlineBackend.figure_format = 'retina'"
      ],
      "execution_count": null,
      "outputs": []
    },
    {
      "cell_type": "code",
      "metadata": {
        "id": "oB2c9vvQQEhq"
      },
      "source": [
        "from google.colab import files\n",
        "files.upload()"
      ],
      "execution_count": null,
      "outputs": []
    },
    {
      "cell_type": "code",
      "metadata": {
        "scrolled": false,
        "id": "U-NuVczedcwm"
      },
      "source": [
        "# 北半球のデータを扱う（南半球のデータは自習）\n",
        "n_ice = pd.read_csv('N_seaice_extent_daily_v3.0.csv')\n",
        "print('shape:', n_ice.shape)"
      ],
      "execution_count": null,
      "outputs": []
    },
    {
      "cell_type": "code",
      "metadata": {
        "id": "z65TAxzSQ0kf"
      },
      "source": [
        "n_ice.head()"
      ],
      "execution_count": null,
      "outputs": []
    },
    {
      "cell_type": "code",
      "metadata": {
        "id": "bwIBZXVjQ3q7"
      },
      "source": [
        "n_ice.tail()"
      ],
      "execution_count": null,
      "outputs": []
    },
    {
      "cell_type": "markdown",
      "metadata": {
        "id": "xpoz6-ZuUF5E"
      },
      "source": [
        "毎日のデータがあるわけではないことが分かる。\n",
        "\n",
        "（例：1978年10月27日のデータはない。）"
      ]
    },
    {
      "cell_type": "code",
      "metadata": {
        "id": "xz93p9CYrjXW"
      },
      "source": [
        "# 列名の文字列に空白がある\n",
        "n_ice.columns"
      ],
      "execution_count": null,
      "outputs": []
    },
    {
      "cell_type": "code",
      "metadata": {
        "id": "6kdo_Ah6tTQs"
      },
      "source": [
        "# 列名の空白を除去する\n",
        "n_ice.columns = n_ice.columns.str.strip()\n",
        "n_ice.columns"
      ],
      "execution_count": null,
      "outputs": []
    },
    {
      "cell_type": "code",
      "metadata": {
        "id": "vKsNNDtXtdQ4"
      },
      "source": [
        "# 必要な列だけ残す\n",
        "n_ice2 = n_ice[['Year', 'Month', 'Day', 'Extent']]"
      ],
      "execution_count": null,
      "outputs": []
    },
    {
      "cell_type": "code",
      "metadata": {
        "id": "rRRd1_wltlte"
      },
      "source": [
        "# 最初の行はデータのフォーマットの説明のようだ\n",
        "n_ice2.head()"
      ],
      "execution_count": null,
      "outputs": []
    },
    {
      "cell_type": "code",
      "metadata": {
        "id": "DKFMb8N2tytT"
      },
      "source": [
        "# だから、最初の行は削除する\n",
        "n_ice3 = n_ice2.iloc[1:,]\n",
        "n_ice3.head()"
      ],
      "execution_count": null,
      "outputs": []
    },
    {
      "cell_type": "code",
      "metadata": {
        "id": "EPdoLupeuERU"
      },
      "source": [
        "# 1978年はデータが完全でないので、削除する\n",
        "n_ice4 = n_ice3.loc[n_ice3['Year'] != '1978']\n",
        "n_ice4.head()"
      ],
      "execution_count": null,
      "outputs": []
    },
    {
      "cell_type": "code",
      "metadata": {
        "id": "8SUELlSjvXKa"
      },
      "source": [
        "n_ice4.tail()"
      ],
      "execution_count": null,
      "outputs": []
    },
    {
      "cell_type": "code",
      "metadata": {
        "id": "hWCUoJkORNKl"
      },
      "source": [
        "n_ice4.info()"
      ],
      "execution_count": null,
      "outputs": []
    },
    {
      "cell_type": "code",
      "metadata": {
        "id": "6jX7kMeMKrRD"
      },
      "source": [
        "# 海氷域面積を浮動小数点数に変換する\n",
        "date_cols = ['Year', 'Month', 'Day']\n",
        "col_as_float = n_ice4['Extent'].astype(float)\n",
        "n_ice = pd.concat([n_ice4[date_cols], col_as_float], axis=1)\n",
        "n_ice.head()"
      ],
      "execution_count": null,
      "outputs": []
    },
    {
      "cell_type": "code",
      "metadata": {
        "id": "ZuPOkOTSyOsn"
      },
      "source": [
        "# 行のindexを打ち直す\n",
        "n_ice.reset_index(drop=True, inplace=True)\n",
        "n_ice.head()"
      ],
      "execution_count": null,
      "outputs": []
    },
    {
      "cell_type": "code",
      "metadata": {
        "id": "vZy_GFIbNVBI"
      },
      "source": [
        "# おかしな値がないかチェックする\n",
        "# （欠測値が特殊な値で表されていたりするデータもあるため。）\n",
        "n_ice.describe()['Extent']"
      ],
      "execution_count": null,
      "outputs": []
    },
    {
      "cell_type": "markdown",
      "metadata": {
        "id": "K48euX5VvpFZ"
      },
      "source": [
        "### 2) 一ヶ月ごとにデータをまとめて、平均をとる"
      ]
    },
    {
      "cell_type": "code",
      "metadata": {
        "id": "s0JnhCeXvtB6"
      },
      "source": [
        "n_ice_grouped = n_ice.groupby(['Year', 'Month'], as_index=False)\n",
        "n_ice_monthly = n_ice_grouped.mean()[['Year', 'Month', 'Extent']]\n",
        "n_ice_monthly.head()"
      ],
      "execution_count": null,
      "outputs": []
    },
    {
      "cell_type": "code",
      "metadata": {
        "id": "8nkMEyDyE52n"
      },
      "source": [
        "# 変数名を付け直す\n",
        "n_ice = n_ice_monthly"
      ],
      "execution_count": null,
      "outputs": []
    },
    {
      "cell_type": "code",
      "metadata": {
        "scrolled": false,
        "id": "vA7kd6opdcwT"
      },
      "source": [
        "# 可視化の準備\n",
        "import numpy as np\n",
        "import matplotlib.pylab as plt"
      ],
      "execution_count": null,
      "outputs": []
    },
    {
      "cell_type": "markdown",
      "metadata": {
        "id": "2idcjSW42TE5"
      },
      "source": [
        "横軸は年にし、同じ年のデータは縦方向にまとめてプロットしてみる。"
      ]
    },
    {
      "cell_type": "code",
      "metadata": {
        "scrolled": false,
        "id": "1ZYOL6jKdcws"
      },
      "source": [
        "plt.style.use('seaborn-whitegrid')\n",
        "plt.xticks(rotation=90, fontsize=15)\n",
        "plt.yticks(fontsize=15) \n",
        "plt.rc('font', size=20) \n",
        "plt.rc('figure', figsize=(16, 7))\n",
        "\n",
        "x = n_ice.Year\n",
        "y = n_ice.Extent\n",
        "plt.scatter(x, y, color='red')\n",
        "plt.xlabel('Year')\n",
        "plt.ylabel('Extent')"
      ],
      "execution_count": null,
      "outputs": []
    },
    {
      "cell_type": "markdown",
      "metadata": {
        "id": "lCOLo1CxxJcy"
      },
      "source": [
        "どうやら、一年の間に、かなり値が変動するらしい。\n",
        "\n",
        "このままだと、一年の間の変化が目立ち過ぎて、全体的な変化が分かりにくい。"
      ]
    },
    {
      "cell_type": "markdown",
      "metadata": {
        "id": "diXb3BI3ON0J"
      },
      "source": [
        "### 3) 一年間の範囲内での変化のパターンを可視化する"
      ]
    },
    {
      "cell_type": "code",
      "metadata": {
        "id": "_8efR6YMQAqA"
      },
      "source": [
        "# seabornを使う準備\n",
        "import seaborn as sns\n",
        "sns.set_style(\"whitegrid\")\n",
        "sns.set_context(\"notebook\", font_scale=1, rc={\"lines.linewidth\": 2,'font.family': [u'times']})"
      ],
      "execution_count": null,
      "outputs": []
    },
    {
      "cell_type": "code",
      "metadata": {
        "scrolled": false,
        "id": "b_LKBH62dcw2"
      },
      "source": [
        "# seabornの散布図で、年の違いを横断して、各月ごとに面積データを可視化する。\n",
        "# つまり、面積データに季節性があるかどうかを確認する。\n",
        "sns.set(rc={'figure.figsize':(16,12)})\n",
        "sns.scatterplot(x=\"Month\", y=\"Extent\", hue=\"Year\", data=n_ice)\n",
        "plt.legend(bbox_to_anchor=(1, 1))\n",
        "plt.savefig(\"IceExtentByMonth.png\", bbox_inches='tight')"
      ],
      "execution_count": null,
      "outputs": []
    },
    {
      "cell_type": "markdown",
      "metadata": {
        "id": "tsy0nu4aUO1a"
      },
      "source": [
        "一年間の間で、はっきりした周期的な変化パターンがあることがわかる。\n",
        "\n",
        "つまり、「この月は、だいたいこのぐらい値」という値があることが分かる。"
      ]
    },
    {
      "cell_type": "markdown",
      "metadata": {
        "id": "Qa-py4A3Uozt"
      },
      "source": [
        "### 4) 一年間の範囲内に見られる変化パターンを取り除く"
      ]
    },
    {
      "cell_type": "code",
      "metadata": {
        "scrolled": false,
        "id": "Cw8RXEkNdcw4"
      },
      "source": [
        "# 各月のデータの、すべての年にわたる平均と標準偏差を求める。\n",
        "grouped = n_ice.groupby('Month')\n",
        "month_means = grouped.Extent.mean()\n",
        "month_stds = grouped.Extent.std()\n",
        "print('Means:', month_means)\n",
        "print()\n",
        "print('Standard deviations:',month_stds)"
      ],
      "execution_count": null,
      "outputs": []
    },
    {
      "cell_type": "code",
      "metadata": {
        "id": "LaxsILgx2uP_"
      },
      "source": [
        "# 試みに、ヒストグラムを月別に描いてみる。\n",
        "n_ice.Extent.hist(by=n_ice_monthly.Month)"
      ],
      "execution_count": null,
      "outputs": []
    },
    {
      "cell_type": "code",
      "metadata": {
        "scrolled": false,
        "id": "3b99WEk7dcw7"
      },
      "source": [
        "# 月ごとにz値へ変換する。（よく使うデータ標準化の手法。）\n",
        "for i in n_ice.Month.unique():\n",
        "  idx = n_ice.Month == i\n",
        "  z_values = (n_ice.loc[idx, 'Extent'] - month_means[i]) / month_stds[i]\n",
        "  n_ice.loc[idx, 'Extent'] = z_values"
      ],
      "execution_count": null,
      "outputs": []
    },
    {
      "cell_type": "code",
      "metadata": {
        "id": "MXgppXOaVols"
      },
      "source": [
        "# z値に変換したので、改めて、年の違いを横断して、各月ごとに面積データを可視化する。\n",
        "sns.set(rc={'figure.figsize':(16,12)})\n",
        "sns.scatterplot(x=\"Month\", y=\"Extent\", hue=\"Year\", data=n_ice)\n",
        "plt.legend(bbox_to_anchor=(1, 1))\n",
        "plt.savefig(\"IceExtentZscoreByMonth.png\", bbox_inches='tight')"
      ],
      "execution_count": null,
      "outputs": []
    },
    {
      "cell_type": "markdown",
      "metadata": {
        "id": "cc7n-ZkVdcxD"
      },
      "source": [
        "### 5) 1979年〜2021年の全範囲での変化の様子を見る"
      ]
    },
    {
      "cell_type": "markdown",
      "metadata": {
        "id": "Z-Ogbfo6dcxD"
      },
      "source": [
        "各月の個性は、すでに消した。\n",
        "\n",
        "その上で、1979年から2021年まで、全範囲での面積の変化の傾向を見る。"
      ]
    },
    {
      "cell_type": "code",
      "metadata": {
        "scrolled": false,
        "id": "vCYQvOmZdcxE"
      },
      "source": [
        "# seabornの単回帰のプロットを利用する。\n",
        "n_ice.Year = n_ice.Year.astype(int) # Yearを数値化しておく\n",
        "sns.lmplot(\"Year\", \"Extent\", n_ice, aspect=2);\n",
        "plt.savefig(\"IceExtentAllMonthsByYearlmplot.png\", bbox_inches='tight')"
      ],
      "execution_count": null,
      "outputs": []
    },
    {
      "cell_type": "markdown",
      "metadata": {
        "id": "jb86oQc87Mvj"
      },
      "source": [
        "*   直線でfittingしても、悪くなさそう。\n",
        "*   そして、面積減少の傾向が見て取れる。\n",
        "\n"
      ]
    },
    {
      "cell_type": "code",
      "metadata": {
        "scrolled": false,
        "id": "P00n3tA6dcxM"
      },
      "source": [
        "# ピアソンの相関係数と、無相関の検定のp値を求める。\n",
        "import scipy.stats\n",
        "scipy.stats.pearsonr(n_ice.Year.values, n_ice.Extent.values)"
      ],
      "execution_count": null,
      "outputs": []
    },
    {
      "cell_type": "markdown",
      "metadata": {
        "id": "ie0fEcENyQ0G"
      },
      "source": [
        "\n",
        "\n",
        "---\n",
        "\n"
      ]
    },
    {
      "cell_type": "markdown",
      "metadata": {
        "id": "CwsCM6sDdcxO"
      },
      "source": [
        "### 6) sklearnの線形回帰を使った分析"
      ]
    },
    {
      "cell_type": "code",
      "metadata": {
        "scrolled": false,
        "id": "ZMGQ48XsdcxP"
      },
      "source": [
        "from sklearn.linear_model import LinearRegression\n",
        "\n",
        "reg = LinearRegression()\n",
        "\n",
        "x = n_ice[['Year']]\n",
        "y = n_ice[['Extent']]\n",
        "\n",
        "reg.fit(x, y)\n",
        "\n",
        "print('Coefficients:', reg.coef_)\n",
        "print('Intercept:', reg.intercept_)"
      ],
      "execution_count": null,
      "outputs": []
    },
    {
      "cell_type": "markdown",
      "metadata": {
        "id": "15sT0HTTdcxX"
      },
      "source": [
        "フィッティングの評価\n",
        "\n",
        "*   mean squared error ($MSE$)\n",
        "*   the coefficient of determination ($R^2$)\n",
        "\n",
        "$R^2$は$(1 - \\textbf{u}/\\textbf{v})$と定義される。\n",
        "\n",
        "$\\textbf{u}$ は残差の二乗和 $\\sum (\\textbf{y} - \\hat{\\textbf{y}})^2$。（$\\hat{\\textbf{y}}$が回帰による予測値。）\n",
        "\n",
        "$\\textbf{v}$ は、真値の平均$\\bar{\\textbf{y}}$ からの個々の真値$\\textbf{y}$のズレの二乗の和$\\sum (\\textbf{y} - \\bar{\\textbf{y}})^2$。\n",
        "\n",
        "$R^2$の最も良い値は1.0。これより小さくなるほど悪くなる。"
      ]
    },
    {
      "cell_type": "code",
      "metadata": {
        "scrolled": false,
        "id": "okZvwbDIdcxX"
      },
      "source": [
        "from sklearn import metrics\n",
        "\n",
        "# Analysis for all months together.\n",
        "x = n_ice[['Year']]\n",
        "y = n_ice[['Extent']]\n",
        "model = LinearRegression()\n",
        "model.fit(x, y)\n",
        "y_hat = model.predict(x)\n",
        "plt.plot(x, y,'o', alpha=0.5)\n",
        "plt.plot(x, y_hat, 'r', alpha=0.5)\n",
        "plt.xlabel('year')\n",
        "plt.ylabel('extent (All months)')\n",
        "print(\"MSE:\", metrics.mean_squared_error(y, y_hat))\n",
        "print(\"R^2:\", metrics.r2_score(y, y_hat))\n",
        "plt.savefig(\"IceExtentLinearRegressionAllMonthsByYearPrediction.png\", dpi=300, bbox_inches='tight')"
      ],
      "execution_count": null,
      "outputs": []
    },
    {
      "cell_type": "markdown",
      "metadata": {
        "id": "ydQJELgVdcxa"
      },
      "source": [
        "どうやら、データは長期的なnegative trendを示している、と言ってもよさそう。\n"
      ]
    },
    {
      "cell_type": "markdown",
      "metadata": {
        "id": "HHMDi3uifc6a"
      },
      "source": [
        "\n",
        "\n",
        "---\n",
        "\n"
      ]
    },
    {
      "cell_type": "markdown",
      "metadata": {
        "id": "q-b8qCAIffpD"
      },
      "source": [
        "### 7) statsmodelsの線形回帰を使った分析\n",
        "\n",
        "こちらのほうが、統計学的な観点からの分析に向いている。\n"
      ]
    },
    {
      "cell_type": "code",
      "metadata": {
        "id": "IRfeTpLhfbe0"
      },
      "source": [
        "import statsmodels.api as sm"
      ],
      "execution_count": null,
      "outputs": []
    },
    {
      "cell_type": "code",
      "metadata": {
        "id": "JiF9OPEBfzy3"
      },
      "source": [
        "x_ = sm.add_constant(x) # 切片の項を追加"
      ],
      "execution_count": null,
      "outputs": []
    },
    {
      "cell_type": "code",
      "metadata": {
        "id": "yOTPMWj_gA1j"
      },
      "source": [
        "model = sm.OLS(y, x_)"
      ],
      "execution_count": null,
      "outputs": []
    },
    {
      "cell_type": "code",
      "metadata": {
        "id": "1mnHNe1igNI4"
      },
      "source": [
        "results = model.fit()"
      ],
      "execution_count": null,
      "outputs": []
    },
    {
      "cell_type": "code",
      "metadata": {
        "id": "yN4wd-xugQuy"
      },
      "source": [
        "results.params"
      ],
      "execution_count": null,
      "outputs": []
    },
    {
      "cell_type": "code",
      "metadata": {
        "id": "tTKlEzDdgVbB"
      },
      "source": [
        "# statsmodelsはこのsummaryが強力。\n",
        "results.summary()"
      ],
      "execution_count": null,
      "outputs": []
    },
    {
      "cell_type": "markdown",
      "metadata": {
        "id": "-ZrJnZ8UG8Xo"
      },
      "source": [
        "# 課題6\n",
        "南極海氷域について、同様に分析をしてみよう。\n",
        "\n"
      ]
    },
    {
      "cell_type": "code",
      "metadata": {
        "id": "T8vc-YTlHTj4"
      },
      "source": [
        ""
      ],
      "execution_count": null,
      "outputs": []
    }
  ]
}